{
 "cells": [
  {
   "cell_type": "code",
   "execution_count": 1,
   "metadata": {
    "collapsed": true
   },
   "outputs": [],
   "source": [
    "import Generate as gen"
   ]
  },
  {
   "cell_type": "code",
   "execution_count": 2,
   "metadata": {
    "collapsed": true
   },
   "outputs": [],
   "source": [
    "import ConvertTimeSeries as conv"
   ]
  },
  {
   "cell_type": "code",
   "execution_count": 3,
   "metadata": {
    "collapsed": true
   },
   "outputs": [],
   "source": [
    "import numpy as np\n",
    "import pandas as pd"
   ]
  },
  {
   "cell_type": "code",
   "execution_count": 4,
   "metadata": {},
   "outputs": [],
   "source": [
    "s = gen.System()"
   ]
  },
  {
   "cell_type": "code",
   "execution_count": 5,
   "metadata": {},
   "outputs": [
    {
     "name": "stdout",
     "output_type": "stream",
     "text": [
      "New planet\n",
      "            position   t\n",
      "0  [20.0, 30.0, 0.0]  22\n"
     ]
    }
   ],
   "source": [
    "data = s.generate(x=[20.,30.],v=[0.4,-0.6])"
   ]
  },
  {
   "cell_type": "code",
   "execution_count": 6,
   "metadata": {
    "collapsed": true
   },
   "outputs": [],
   "source": [
    "astr = conv.AstroData()"
   ]
  },
  {
   "cell_type": "code",
   "execution_count": null,
   "metadata": {},
   "outputs": [],
   "source": []
  },
  {
   "cell_type": "code",
   "execution_count": null,
   "metadata": {},
   "outputs": [],
   "source": []
  },
  {
   "cell_type": "code",
   "execution_count": 7,
   "metadata": {},
   "outputs": [],
   "source": [
    "series = astr.convert(data)"
   ]
  },
  {
   "cell_type": "code",
   "execution_count": null,
   "metadata": {},
   "outputs": [],
   "source": []
  },
  {
   "cell_type": "code",
   "execution_count": 8,
   "metadata": {},
   "outputs": [],
   "source": [
    "x = data['position'].values"
   ]
  },
  {
   "cell_type": "code",
   "execution_count": null,
   "metadata": {
    "collapsed": true
   },
   "outputs": [],
   "source": []
  },
  {
   "cell_type": "code",
   "execution_count": 10,
   "metadata": {
    "collapsed": true
   },
   "outputs": [],
   "source": []
  },
  {
   "cell_type": "code",
   "execution_count": 52,
   "metadata": {},
   "outputs": [],
   "source": []
  },
  {
   "cell_type": "code",
   "execution_count": null,
   "metadata": {},
   "outputs": [],
   "source": []
  },
  {
   "cell_type": "code",
   "execution_count": null,
   "metadata": {},
   "outputs": [],
   "source": []
  },
  {
   "cell_type": "code",
   "execution_count": null,
   "metadata": {},
   "outputs": [],
   "source": []
  },
  {
   "cell_type": "code",
   "execution_count": null,
   "metadata": {
    "collapsed": true
   },
   "outputs": [],
   "source": []
  },
  {
   "cell_type": "code",
   "execution_count": 12,
   "metadata": {},
   "outputs": [],
   "source": [
    "# convert an array of values into a dataset matrix\n",
    "def create_dataset(dataset, look_back=1):\n",
    "    dataX, dataY = [], []\n",
    "    for i in range(len(dataset)-look_back-1):\n",
    "        a = dataset[i:(i+look_back), 0]\n",
    "        dataX.append(a)\n",
    "        dataY.append(dataset[i + look_back, 0])\n",
    "    return numpy.array(dataX), numpy.array(dataY)"
   ]
  },
  {
   "cell_type": "code",
   "execution_count": null,
   "metadata": {},
   "outputs": [],
   "source": []
  },
  {
   "cell_type": "code",
   "execution_count": null,
   "metadata": {
    "collapsed": true
   },
   "outputs": [],
   "source": []
  },
  {
   "cell_type": "code",
   "execution_count": null,
   "metadata": {
    "collapsed": true
   },
   "outputs": [],
   "source": []
  },
  {
   "cell_type": "code",
   "execution_count": null,
   "metadata": {},
   "outputs": [],
   "source": []
  },
  {
   "cell_type": "code",
   "execution_count": 12,
   "metadata": {},
   "outputs": [
    {
     "name": "stderr",
     "output_type": "stream",
     "text": [
      "Using TensorFlow backend.\n"
     ]
    }
   ],
   "source": [
    "import numpy\n",
    "import matplotlib.pyplot as plt\n",
    "import pandas\n",
    "import math\n",
    "from keras.models import Sequential\n",
    "from keras.layers import Dense\n",
    "from keras.layers import LSTM\n",
    "from sklearn.preprocessing import MinMaxScaler\n",
    "from sklearn.metrics import mean_squared_error"
   ]
  },
  {
   "cell_type": "code",
   "execution_count": 15,
   "metadata": {},
   "outputs": [
    {
     "data": {
      "text/plain": [
       "array([array([ 20.39978665,  29.39967998,   0.        ]),\n",
       "       array([ 20.79935071,  28.79903915,   0.        ]),\n",
       "       array([ 21.19868279,  28.19807713,   0.        ]),\n",
       "       array([ 21.59777344,  27.59679398,   0.        ]),\n",
       "       array([ 21.99661317,  26.9951902 ,   0.        ]),\n",
       "       array([ 22.39519243,  26.39326675,   0.        ]),\n",
       "       array([ 22.79350169,  25.79102511,   0.        ]),\n",
       "       array([ 23.19153147,  25.18846724,   0.        ]),\n",
       "       array([ 23.58927235,  24.58559559,   0.        ]),\n",
       "       array([ 23.98671505,  23.98241316,   0.        ]),\n",
       "       array([ 24.38385042,  23.37892346,   0.        ]),\n",
       "       array([ 24.78066952,  22.77513052,   0.        ]),\n",
       "       array([ 25.17716363,  22.1710389 ,   0.        ]),\n",
       "       array([ 25.57332433,  21.56665367,   0.        ]),\n",
       "       array([ 25.96914348,  20.96198041,   0.        ]),\n",
       "       array([ 26.36461332,  20.35702519,   0.        ]),\n",
       "       array([ 26.75972646,  19.75179455,   0.        ]),\n",
       "       array([ 27.15447595,  19.14629549,   0.        ]),\n",
       "       array([ 27.54885527,  18.54053543,   0.        ]),\n",
       "       array([ 27.94285842,  17.9345222 ,   0.        ]),\n",
       "       array([ 28.33647989,  17.328264  ,   0.        ]),\n",
       "       array([ 28.7297147 ,  16.72176936,   0.        ]),\n",
       "       array([ 29.12255845,  16.1150471 ,   0.        ]),\n",
       "       array([ 29.51500729,  15.50810631,   0.        ]),\n",
       "       array([ 29.90705796,  14.90095632,   0.        ]),\n",
       "       array([ 30.29870779,  14.29360661,   0.        ]),\n",
       "       array([ 30.68995469,  13.68606681,   0.        ]),\n",
       "       array([ 31.08079719,  13.07834668,   0.        ]),\n",
       "       array([ 31.47123438,  12.47045599,   0.        ]),\n",
       "       array([ 31.86126593,  11.86240457,   0.        ]),\n",
       "       array([ 32.25089209,  11.25420222,   0.        ]),\n",
       "       array([ 32.64011365,  10.64585868,   0.        ]),\n",
       "       array([ 33.02893192,  10.03738361,   0.        ]),\n",
       "       array([ 33.41734874,   9.42878653,   0.        ]),\n",
       "       array([ 33.80536642,   8.82007684,   0.        ]),\n",
       "       array([ 34.19298773,   8.21126373,   0.        ]),\n",
       "       array([ 34.58021588,   7.6023562 ,   0.        ]),\n",
       "       array([ 34.96705448,   6.99336303,   0.        ]),\n",
       "       array([ 35.3535075 ,   6.38429275,   0.        ]),\n",
       "       array([ 35.73957929,   5.77515363,   0.        ]),\n",
       "       array([ 36.12527448,   5.16595365,   0.        ]),\n",
       "       array([ 36.51059799,   4.55670051,   0.        ]),\n",
       "       array([ 36.89555502,   3.94740164,   0.        ]),\n",
       "       array([ 37.28015096,   3.33806414,   0.        ]),\n",
       "       array([ 37.66439142,   2.72869481,   0.        ]),\n",
       "       array([ 38.04828218,   2.11930014,   0.        ]),\n",
       "       array([ 38.43182916,   1.50988633,   0.        ]),\n",
       "       array([ 38.8150384 ,   0.90045924,   0.        ]),\n",
       "       array([ 39.19791604,   0.29102446,   0.        ]),\n",
       "       array([ 39.58046828,  -0.31841273,   0.        ]),\n",
       "       array([ 39.96270139,  -0.92784736,   0.        ]),\n",
       "       array([ 40.34462167,  -1.53727472,   0.        ]),\n",
       "       array([ 40.72623544,  -2.1466904 ,   0.        ]),\n",
       "       array([ 41.10754901,  -2.75609026,   0.        ]),\n",
       "       array([ 41.48856867,  -3.36547042,   0.        ]),\n",
       "       array([ 41.86930069,  -3.97482724,   0.        ]),\n",
       "       array([ 42.24975131,  -4.58415735,   0.        ]),\n",
       "       array([ 42.6299267 ,  -5.19345759,   0.        ]),\n",
       "       array([ 43.00983297,  -5.80272505,   0.        ]),\n",
       "       array([ 43.38947617,  -6.41195702,   0.        ]),\n",
       "       array([ 43.76886225,  -7.02115099,   0.        ]),\n",
       "       array([ 44.14799708,  -7.63030465,   0.        ]),\n",
       "       array([ 44.52688647,  -8.2394159 ,   0.        ]),\n",
       "       array([ 44.90553608,  -8.84848277,   0.        ]),\n",
       "       array([ 45.28395151,  -9.4575035 ,   0.        ]),\n",
       "       array([ 45.66213824, -10.06647647,   0.        ]),\n",
       "       array([ 46.04010164, -10.67540021,   0.        ]),\n",
       "       array([ 46.41784698, -11.28427338,   0.        ]),\n",
       "       array([ 46.79537941, -11.89309479,   0.        ]),\n",
       "       array([ 47.17270397, -12.50186337,   0.        ]),\n",
       "       array([ 47.54982559, -13.11057817,   0.        ]),\n",
       "       array([ 47.92674909, -13.71923834,   0.        ]),\n",
       "       array([ 48.30347916, -14.32784314,   0.        ]),\n",
       "       array([ 48.6800204 , -14.93639193,   0.        ]),\n",
       "       array([ 49.05637728, -15.54488415,   0.        ]),\n",
       "       array([ 49.43255417, -16.15331934,   0.        ]),\n",
       "       array([ 49.80855534, -16.76169711,   0.        ]),\n",
       "       array([ 50.18438491, -17.37001713,   0.        ]),\n",
       "       array([ 50.56004695, -17.97827917,   0.        ]),\n",
       "       array([ 50.93554538, -18.58648303,   0.        ]),\n",
       "       array([ 51.31088405, -19.19462858,   0.        ]),\n",
       "       array([ 51.68606667, -19.80271577,   0.        ]),\n",
       "       array([ 52.0610969 , -20.41074457,   0.        ]),\n",
       "       array([ 52.43597825, -21.018715  ,   0.        ]),\n",
       "       array([ 52.81071418, -21.62662714,   0.        ]),\n",
       "       array([ 53.18530803, -22.23448109,   0.        ]),\n",
       "       array([ 53.55976306, -22.84227701,   0.        ]),\n",
       "       array([ 53.93408243, -23.45001508,   0.        ]),\n",
       "       array([ 54.30826924, -24.05769551,   0.        ]),\n",
       "       array([ 54.68232647, -24.66531854,   0.        ]),\n",
       "       array([ 55.05625704, -25.27288443,   0.        ]),\n",
       "       array([ 55.4300638 , -25.88039349,   0.        ]),\n",
       "       array([ 55.80374949, -26.48784603,   0.        ]),\n",
       "       array([ 56.1773168 , -27.09524237,   0.        ]),\n",
       "       array([ 56.55076834, -27.70258288,   0.        ]),\n",
       "       array([ 56.92410665, -28.30986791,   0.        ]),\n",
       "       array([ 57.29733419, -28.91709786,   0.        ]),\n",
       "       array([ 57.67045337, -29.52427312,   0.        ]),\n",
       "       array([ 58.04346651, -30.1313941 ,   0.        ]),\n",
       "       array([ 58.4163759 , -30.73846121,   0.        ])], dtype=object)"
      ]
     },
     "execution_count": 15,
     "metadata": {},
     "output_type": "execute_result"
    }
   ],
   "source": [
    "data['position'].values"
   ]
  },
  {
   "cell_type": "code",
   "execution_count": 15,
   "metadata": {},
   "outputs": [],
   "source": []
  },
  {
   "cell_type": "code",
   "execution_count": 14,
   "metadata": {},
   "outputs": [
    {
     "ename": "IndexError",
     "evalue": "too many indices for array",
     "output_type": "error",
     "traceback": [
      "\u001b[0;31m---------------------------------------------------------------------------\u001b[0m",
      "\u001b[0;31mIndexError\u001b[0m                                Traceback (most recent call last)",
      "\u001b[0;32m<ipython-input-14-9f52b97265e8>\u001b[0m in \u001b[0;36m<module>\u001b[0;34m()\u001b[0m\n\u001b[1;32m      1\u001b[0m \u001b[0mlook_back\u001b[0m \u001b[0;34m=\u001b[0m \u001b[0;36m1\u001b[0m\u001b[0;34m\u001b[0m\u001b[0m\n\u001b[0;32m----> 2\u001b[0;31m \u001b[0mx\u001b[0m\u001b[0;34m,\u001b[0m \u001b[0my\u001b[0m \u001b[0;34m=\u001b[0m \u001b[0mcreate_dataset\u001b[0m\u001b[0;34m(\u001b[0m\u001b[0mdata\u001b[0m\u001b[0;34m[\u001b[0m\u001b[0;34m'position'\u001b[0m\u001b[0;34m]\u001b[0m\u001b[0;34m.\u001b[0m\u001b[0mvalues\u001b[0m\u001b[0;34m,\u001b[0m \u001b[0mlook_back\u001b[0m\u001b[0;34m)\u001b[0m\u001b[0;34m\u001b[0m\u001b[0m\n\u001b[0m",
      "\u001b[0;32m<ipython-input-12-74175991c29a>\u001b[0m in \u001b[0;36mcreate_dataset\u001b[0;34m(dataset, look_back)\u001b[0m\n\u001b[1;32m      3\u001b[0m     \u001b[0mdataX\u001b[0m\u001b[0;34m,\u001b[0m \u001b[0mdataY\u001b[0m \u001b[0;34m=\u001b[0m \u001b[0;34m[\u001b[0m\u001b[0;34m]\u001b[0m\u001b[0;34m,\u001b[0m \u001b[0;34m[\u001b[0m\u001b[0;34m]\u001b[0m\u001b[0;34m\u001b[0m\u001b[0m\n\u001b[1;32m      4\u001b[0m     \u001b[0;32mfor\u001b[0m \u001b[0mi\u001b[0m \u001b[0;32min\u001b[0m \u001b[0mrange\u001b[0m\u001b[0;34m(\u001b[0m\u001b[0mlen\u001b[0m\u001b[0;34m(\u001b[0m\u001b[0mdataset\u001b[0m\u001b[0;34m)\u001b[0m\u001b[0;34m-\u001b[0m\u001b[0mlook_back\u001b[0m\u001b[0;34m-\u001b[0m\u001b[0;36m1\u001b[0m\u001b[0;34m)\u001b[0m\u001b[0;34m:\u001b[0m\u001b[0;34m\u001b[0m\u001b[0m\n\u001b[0;32m----> 5\u001b[0;31m         \u001b[0ma\u001b[0m \u001b[0;34m=\u001b[0m \u001b[0mdataset\u001b[0m\u001b[0;34m[\u001b[0m\u001b[0mi\u001b[0m\u001b[0;34m:\u001b[0m\u001b[0;34m(\u001b[0m\u001b[0mi\u001b[0m\u001b[0;34m+\u001b[0m\u001b[0mlook_back\u001b[0m\u001b[0;34m)\u001b[0m\u001b[0;34m,\u001b[0m \u001b[0;36m0\u001b[0m\u001b[0;34m]\u001b[0m\u001b[0;34m\u001b[0m\u001b[0m\n\u001b[0m\u001b[1;32m      6\u001b[0m         \u001b[0mdataX\u001b[0m\u001b[0;34m.\u001b[0m\u001b[0mappend\u001b[0m\u001b[0;34m(\u001b[0m\u001b[0ma\u001b[0m\u001b[0;34m)\u001b[0m\u001b[0;34m\u001b[0m\u001b[0m\n\u001b[1;32m      7\u001b[0m         \u001b[0mdataY\u001b[0m\u001b[0;34m.\u001b[0m\u001b[0mappend\u001b[0m\u001b[0;34m(\u001b[0m\u001b[0mdataset\u001b[0m\u001b[0;34m[\u001b[0m\u001b[0mi\u001b[0m \u001b[0;34m+\u001b[0m \u001b[0mlook_back\u001b[0m\u001b[0;34m,\u001b[0m \u001b[0;36m0\u001b[0m\u001b[0;34m]\u001b[0m\u001b[0;34m)\u001b[0m\u001b[0;34m\u001b[0m\u001b[0m\n",
      "\u001b[0;31mIndexError\u001b[0m: too many indices for array"
     ]
    }
   ],
   "source": [
    "look_back = 1\n",
    "x, y = create_dataset(data['position'].values, look_back)"
   ]
  },
  {
   "cell_type": "code",
   "execution_count": 17,
   "metadata": {},
   "outputs": [
    {
     "ename": "NameError",
     "evalue": "name 'look_back' is not defined",
     "output_type": "error",
     "traceback": [
      "\u001b[0;31m---------------------------------------------------------------------------\u001b[0m",
      "\u001b[0;31mNameError\u001b[0m                                 Traceback (most recent call last)",
      "\u001b[0;32m<ipython-input-17-f0ce8b4b716a>\u001b[0m in \u001b[0;36m<module>\u001b[0;34m()\u001b[0m\n\u001b[1;32m      1\u001b[0m \u001b[0mmodel\u001b[0m \u001b[0;34m=\u001b[0m \u001b[0mSequential\u001b[0m\u001b[0;34m(\u001b[0m\u001b[0;34m)\u001b[0m\u001b[0;34m\u001b[0m\u001b[0m\n\u001b[0;32m----> 2\u001b[0;31m \u001b[0mmodel\u001b[0m\u001b[0;34m.\u001b[0m\u001b[0madd\u001b[0m\u001b[0;34m(\u001b[0m\u001b[0mLSTM\u001b[0m\u001b[0;34m(\u001b[0m\u001b[0;36m4\u001b[0m\u001b[0;34m,\u001b[0m \u001b[0minput_shape\u001b[0m\u001b[0;34m=\u001b[0m\u001b[0;34m(\u001b[0m\u001b[0;36m1\u001b[0m\u001b[0;34m,\u001b[0m \u001b[0mlook_back\u001b[0m\u001b[0;34m)\u001b[0m\u001b[0;34m)\u001b[0m\u001b[0;34m)\u001b[0m\u001b[0;34m\u001b[0m\u001b[0m\n\u001b[0m\u001b[1;32m      3\u001b[0m \u001b[0mmodel\u001b[0m\u001b[0;34m.\u001b[0m\u001b[0madd\u001b[0m\u001b[0;34m(\u001b[0m\u001b[0mDense\u001b[0m\u001b[0;34m(\u001b[0m\u001b[0;36m1\u001b[0m\u001b[0;34m)\u001b[0m\u001b[0;34m)\u001b[0m\u001b[0;34m\u001b[0m\u001b[0m\n\u001b[1;32m      4\u001b[0m \u001b[0mmodel\u001b[0m\u001b[0;34m.\u001b[0m\u001b[0mcompile\u001b[0m\u001b[0;34m(\u001b[0m\u001b[0mloss\u001b[0m\u001b[0;34m=\u001b[0m\u001b[0;34m'mean_squared_error'\u001b[0m\u001b[0;34m,\u001b[0m \u001b[0moptimizer\u001b[0m\u001b[0;34m=\u001b[0m\u001b[0;34m'adam'\u001b[0m\u001b[0;34m)\u001b[0m\u001b[0;34m\u001b[0m\u001b[0m\n\u001b[1;32m      5\u001b[0m \u001b[0mmodel\u001b[0m\u001b[0;34m.\u001b[0m\u001b[0mfit\u001b[0m\u001b[0;34m(\u001b[0m\u001b[0mtrainX\u001b[0m\u001b[0;34m,\u001b[0m \u001b[0mtrainY\u001b[0m\u001b[0;34m,\u001b[0m \u001b[0mepochs\u001b[0m\u001b[0;34m=\u001b[0m\u001b[0;36m100\u001b[0m\u001b[0;34m,\u001b[0m \u001b[0mbatch_size\u001b[0m\u001b[0;34m=\u001b[0m\u001b[0;36m1\u001b[0m\u001b[0;34m,\u001b[0m \u001b[0mverbose\u001b[0m\u001b[0;34m=\u001b[0m\u001b[0;36m2\u001b[0m\u001b[0;34m)\u001b[0m\u001b[0;34m\u001b[0m\u001b[0m\n",
      "\u001b[0;31mNameError\u001b[0m: name 'look_back' is not defined"
     ]
    }
   ],
   "source": [
    "model = Sequential()\n",
    "model.add(LSTM(4, input_shape=(3, depth)))\n",
    "model.add(Dense(1))\n",
    "model.compile(loss='mean_squared_error', optimizer='adam')\n",
    "model.fit(x, trainY, epochs=100, batch_size=1, verbose=2)"
   ]
  },
  {
   "cell_type": "code",
   "execution_count": null,
   "metadata": {
    "collapsed": true
   },
   "outputs": [],
   "source": []
  },
  {
   "cell_type": "code",
   "execution_count": null,
   "metadata": {
    "collapsed": true
   },
   "outputs": [],
   "source": []
  },
  {
   "cell_type": "code",
   "execution_count": null,
   "metadata": {
    "collapsed": true
   },
   "outputs": [],
   "source": []
  },
  {
   "cell_type": "code",
   "execution_count": null,
   "metadata": {
    "collapsed": true
   },
   "outputs": [],
   "source": []
  },
  {
   "cell_type": "code",
   "execution_count": null,
   "metadata": {
    "collapsed": true
   },
   "outputs": [],
   "source": []
  }
 ],
 "metadata": {
  "kernelspec": {
   "display_name": "Python 3",
   "language": "python",
   "name": "python3"
  },
  "language_info": {
   "codemirror_mode": {
    "name": "ipython",
    "version": 3
   },
   "file_extension": ".py",
   "mimetype": "text/x-python",
   "name": "python",
   "nbconvert_exporter": "python",
   "pygments_lexer": "ipython3",
   "version": "3.6.1"
  }
 },
 "nbformat": 4,
 "nbformat_minor": 2
}
