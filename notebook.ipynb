{
 "cells": [
  {
   "cell_type": "markdown",
   "metadata": {},
   "source": [
    "# Machine Astrophysics"
   ]
  },
  {
   "cell_type": "markdown",
   "metadata": {},
   "source": [
    "Introductory reading:\n",
    "https://otherful.wordpress.com/2018/02/14/gozogon-an-introduction/\n",
    "\n",
    "\"The story takes place on the planet Gozogon, on an S-type orbit around Gnos in the Gnoslor binary system.\n",
    "Except that the Gozogonians know very little about this because they have not discovered the physics of celestial objects, they don’t have a simple model of gravity.\n",
    "They do however know, and can predict with precision, the location of any of the bodies they see in the sky, thanks to their supercomputer systems, interlinked across the planet wherever there is life.\n",
    "\n",
    "In contrast to Earth, physics did not rise from the motion of celestial bodies...\n",
    "... the first science to develop was not astronomy, it was biology (if we expand it to include what the Earthlings call psychology, sociology, etc). Gozogon did raise many genius scientists, only not in the directions that we had on Earth. The intricate relations between members of a species, and across species, was a more urgent matter and that was where the animals used their brains to figure out first. Going deeper, they discovered chemistry and eventually, physics of particles at smaller and smaller scales. They were able to manipulate what they learned from nature to invent and create new lifeforms, among which the distinguished entity called RedRoot rose.\""
   ]
  },
  {
   "cell_type": "code",
   "execution_count": null,
   "metadata": {
    "collapsed": true
   },
   "outputs": [],
   "source": []
  },
  {
   "cell_type": "code",
   "execution_count": null,
   "metadata": {
    "collapsed": true
   },
   "outputs": [],
   "source": []
  },
  {
   "cell_type": "markdown",
   "metadata": {},
   "source": [
    "This study explores the discovery potential of learning systems, how the data can be converted into formulas."
   ]
  },
  {
   "cell_type": "code",
   "execution_count": null,
   "metadata": {
    "collapsed": true
   },
   "outputs": [],
   "source": []
  },
  {
   "cell_type": "code",
   "execution_count": null,
   "metadata": {
    "collapsed": true
   },
   "outputs": [],
   "source": []
  },
  {
   "cell_type": "code",
   "execution_count": null,
   "metadata": {
    "collapsed": true
   },
   "outputs": [],
   "source": []
  },
  {
   "cell_type": "markdown",
   "metadata": {},
   "source": [
    "## Mars retrograde detection"
   ]
  },
  {
   "cell_type": "markdown",
   "metadata": {},
   "source": [
    "The first case study is the retrograde motion of Mars from the perspective of Earth. This is a very simple system of two co-centric, almost circular, orbits where the external one appears to be moving backwards at certain times. \n",
    "\n",
    "Such a system was an important cornerstone in the history of astrophysics, that inspired Ptolemy for his epicycles to model the system, later to be replaced by a simpler model of Copernicus."
   ]
  },
  {
   "cell_type": "code",
   "execution_count": 1,
   "metadata": {
    "collapsed": true
   },
   "outputs": [],
   "source": [
    "import numpy as np\n",
    "import pandas as pd\n",
    "\n",
    "import matplotlib.pyplot as plt\n",
    "from Visualisations import *\n",
    "\n",
    "from Transformations import *\n",
    "import Generate as gen"
   ]
  },
  {
   "cell_type": "markdown",
   "metadata": {},
   "source": [
    "### Generate system\n",
    "\n",
    "We simulate a system of two planets, rotating around a motionless sun. The orbits will be chosen to be almost circular, the challenge mostly concentrating on the retrograde motion which suggests a concentric motion of the two planets.\n",
    "We will simulate the motion in 'n_sim' time steps, and sample every 'n_view'th of those steps as an observation point."
   ]
  },
  {
   "cell_type": "code",
   "execution_count": 2,
   "metadata": {},
   "outputs": [
    {
     "name": "stdout",
     "output_type": "stream",
     "text": [
      "Adding body with spring length :  0.0\n",
      "Adding body with spring length :  14.8660687473\n",
      "Adding body with spring length :  5.0\n",
      "Adding body with spring length :  141.421356237\n",
      "Adding body with spring length :  247.491413992\n"
     ]
    }
   ],
   "source": [
    "n_sim = 1000\n",
    "n_view = 10\n",
    "s = gen.System()\n",
    "s.force = s.force_gravity\n",
    "s.generate(2)\n",
    "s.simulate(n_sim)\n",
    "s.view(0, n_view)"
   ]
  },
  {
   "cell_type": "code",
   "execution_count": null,
   "metadata": {
    "collapsed": true
   },
   "outputs": [],
   "source": []
  },
  {
   "cell_type": "code",
   "execution_count": null,
   "metadata": {
    "collapsed": true
   },
   "outputs": [],
   "source": []
  },
  {
   "cell_type": "code",
   "execution_count": null,
   "metadata": {
    "collapsed": true
   },
   "outputs": [],
   "source": []
  },
  {
   "cell_type": "markdown",
   "metadata": {},
   "source": [
    "### Visualise the system"
   ]
  },
  {
   "cell_type": "code",
   "execution_count": 3,
   "metadata": {},
   "outputs": [
    {
     "data": {
      "image/png": "[encoded data removed]",
      "text/plain": [
       "<matplotlib.figure.Figure at 0x114b0da20>"
      ]
     },
     "metadata": {},
     "output_type": "display_data"
    }
   ],
   "source": [
    "ax = plt.gca()\n",
    "ax.cla() # clear things for fresh plot\n",
    "ax.cla()\n",
    "ax.set_xlim([-220,220])\n",
    "ax.set_ylim([-220,220])\n",
    "plt.axes().set_aspect('equal')\n",
    "plt.xlabel('x')\n",
    "plt.ylabel('y')\n",
    "\n",
    "# Plot only every 't_res'th point, up to t_max\n",
    "t_res = 30\n",
    "t_max = 800\n",
    "plot_orbit(ax, s, 0)\n",
    "plot_orbit(ax, s, 1)\n",
    "plot_orbit(ax, s, 2)\n",
    "plot_orbit(ax, s, 3)\n",
    "plot_orbit(ax, s, 4)\n",
    "plot_position(ax, s, 0, t_res, t_max)\n",
    "plot_position(ax, s, 1, t_res, t_max)\n",
    "plot_position(ax, s, 2, t_res, t_max)\n",
    "plot_position(ax, s, 3, t_res, t_max)\n",
    "plot_position(ax, s, 4, t_res, t_max)\n",
    "#plot_observation(ax,s,0,-1,t_res)\n",
    "plot_observation(ax,s,1,0,t_res, t_max)\n",
    "\n",
    "plt.show()\n",
    "plt.savefig(\"orbits.png\")"
   ]
  },
  {
   "cell_type": "code",
   "execution_count": null,
   "metadata": {
    "collapsed": true
   },
   "outputs": [],
   "source": []
  },
  {
   "cell_type": "code",
   "execution_count": null,
   "metadata": {
    "collapsed": true
   },
   "outputs": [],
   "source": []
  },
  {
   "cell_type": "markdown",
   "metadata": {},
   "source": [
    "### Observe the planet angle"
   ]
  },
  {
   "cell_type": "code",
   "execution_count": 4,
   "metadata": {},
   "outputs": [
    {
     "data": {
      "image/png": "[encoded data removed]",
      "text/plain": [
       "<matplotlib.figure.Figure at 0x117e83b38>"
      ]
     },
     "metadata": {},
     "output_type": "display_data"
    }
   ],
   "source": [
    "ax = plt.gca()\n",
    "ax.cla() # clear things for fresh plot\n",
    "ax.cla()\n",
    "ax.set_xlim([0,n_sim])\n",
    "ax.set_ylim([-4.,4.])\n",
    "plt.xlabel('time')\n",
    "plt.ylabel('$\\phi$')\n",
    "\n",
    "\n",
    "phis = s.get_phi(1)\n",
    "t = np.arange(0, n_sim/n_view)*n_view\n",
    "\n",
    "plt.plot(t, phis)\n",
    "plt.show()\n",
    "plt.savefig(\"angle_of_mars.png\")"
   ]
  },
  {
   "cell_type": "code",
   "execution_count": null,
   "metadata": {
    "collapsed": true
   },
   "outputs": [],
   "source": []
  },
  {
   "cell_type": "code",
   "execution_count": null,
   "metadata": {
    "collapsed": true
   },
   "outputs": [],
   "source": []
  },
  {
   "cell_type": "markdown",
   "metadata": {},
   "source": [
    "### Fit with a Ptolemian Model"
   ]
  },
  {
   "cell_type": "code",
   "execution_count": 5,
   "metadata": {
    "collapsed": true
   },
   "outputs": [],
   "source": [
    "import numpy as np\n",
    "import pandas as pd\n",
    "import matplotlib.pyplot as plt"
   ]
  },
  {
   "cell_type": "code",
   "execution_count": 6,
   "metadata": {
    "collapsed": true
   },
   "outputs": [],
   "source": [
    "# Analytic description of epicycles with radius a and rotation speed w at time t\n",
    "# t must not be an array\n",
    "\n",
    "def f_x(a, w, p, t):\n",
    "    return np.sum(a * np.cos(w * t + p))\n",
    "\n",
    "def f_y(a, w, p, t):\n",
    "    return np.sum(a * np.sin(w * t + p))\n",
    "\n",
    "def f_phi(a, w, p, t):\n",
    "    return np.arctan2(f_y(a, w, p, t), f_x(a, w, p, t))"
   ]
  },
  {
   "cell_type": "code",
   "execution_count": 7,
   "metadata": {
    "collapsed": true
   },
   "outputs": [],
   "source": [
    "#a = np.array([5., 3., 0.5])\n",
    "#w = np.array([0.5, 2., 7.])\n",
    "#p = np.array([0., 0., 0.])\n",
    "#phi = [f_phi(a, w, p, i) for i in t]\n",
    "#plt.plot(t, phi)\n",
    "#plt.show()"
   ]
  },
  {
   "cell_type": "code",
   "execution_count": 8,
   "metadata": {
    "collapsed": true
   },
   "outputs": [],
   "source": [
    "from scipy.optimize import minimize"
   ]
  },
  {
   "cell_type": "code",
   "execution_count": 9,
   "metadata": {
    "collapsed": true
   },
   "outputs": [],
   "source": [
    "def epicycle_error(c):\n",
    "    a = c[0::3]\n",
    "    w = c[1::3]\n",
    "    p = c[2::3]\n",
    "    phi_epi = [f_phi(a, w, p, i) for i in t]\n",
    "    return np.sum((np.unwrap(phis - phi_epi))**2)"
   ]
  },
  {
   "cell_type": "code",
   "execution_count": 10,
   "metadata": {},
   "outputs": [
    {
     "name": "stderr",
     "output_type": "stream",
     "text": [
      "/anaconda/envs/python36/lib/python3.6/site-packages/scipy/optimize/_minimize.py:394: RuntimeWarning: Method Nelder-Mead cannot handle constraints nor bounds.\n",
      "  RuntimeWarning)\n",
      "/anaconda/envs/python36/lib/python3.6/site-packages/ipykernel_launcher.py:9: OptimizeWarning: Unknown solver options: eps\n",
      "  if __name__ == '__main__':\n"
     ]
    }
   ],
   "source": [
    "c0 = np.array([74., 0.0014, 0., 87.,  0.0010, 0.])\n",
    "a_bnds = (70., 100.)\n",
    "w_bnds = (0.0007, 0.0016)\n",
    "p_bnds = (0., np.pi/2.)\n",
    "bnds = (a_bnds, w_bnds, p_bnds, a_bnds,  w_bnds, p_bnds)\n",
    "res = minimize(fun=epicycle_error, x0=c0,\n",
    "               method='Nelder-Mead', tol=1e-8,\n",
    "               bounds=bnds,\n",
    "               options={'xtol': 0.001, 'eps': 0.02, 'maxiter': 100000})"
   ]
  },
  {
   "cell_type": "code",
   "execution_count": 11,
   "metadata": {},
   "outputs": [
    {
     "data": {
      "image/png": "[encoded data removed]",
      "text/plain": [
       "<matplotlib.figure.Figure at 0x118039cf8>"
      ]
     },
     "metadata": {},
     "output_type": "display_data"
    }
   ],
   "source": [
    "c = res.x    \n",
    "a = c[0::3]\n",
    "w = c[1::3]\n",
    "p = c[2::3]\n",
    "phi_epi = [f_phi(a, w, p, i) for i in t]\n",
    "plt.scatter(t, phis)\n",
    "plt.plot(t, phi_epi, color='r', linestyle='dashed')\n",
    "plt.savefig(\"ptolemian_mars.png\")\n",
    "plt.show()"
   ]
  },
  {
   "cell_type": "code",
   "execution_count": 12,
   "metadata": {},
   "outputs": [
    {
     "data": {
      "text/plain": [
       "array([  1.66933434e-09,   7.10557679e-03,  -3.44250445e-05,\n",
       "         4.48079719e-09,   1.79133767e-03,   7.36498726e-03])"
      ]
     },
     "execution_count": 12,
     "metadata": {},
     "output_type": "execute_result"
    }
   ],
   "source": [
    "res.x"
   ]
  },
  {
   "cell_type": "code",
   "execution_count": 13,
   "metadata": {},
   "outputs": [
    {
     "data": {
      "text/plain": [
       " final_simplex: (array([[  1.66933434e-09,   7.10557679e-03,  -3.44250445e-05,\n",
       "          4.48079719e-09,   1.79133767e-03,   7.36498726e-03],\n",
       "       [  3.23998893e-09,   7.10557627e-03,  -3.44254173e-05,\n",
       "          8.69671964e-09,   1.79133752e-03,   7.36498703e-03],\n",
       "       [  1.89718279e-09,   7.10557629e-03,  -3.44254036e-05,\n",
       "          5.09238203e-09,   1.79133752e-03,   7.36498703e-03],\n",
       "       [  3.32534210e-09,   7.10557631e-03,  -3.44253991e-05,\n",
       "          8.92582885e-09,   1.79133753e-03,   7.36498705e-03],\n",
       "       [  4.10253743e-09,   7.10557656e-03,  -3.44252201e-05,\n",
       "          1.10119615e-08,   1.79133760e-03,   7.36498716e-03],\n",
       "       [  4.39583126e-09,   7.10557650e-03,  -3.44252660e-05,\n",
       "          1.17992145e-08,   1.79133758e-03,   7.36498713e-03],\n",
       "       [  1.94163484e-09,   7.10557648e-03,  -3.44252552e-05,\n",
       "          5.21170811e-09,   1.79133758e-03,   7.36498712e-03]]), array([ 8.08021605,  8.08021605,  8.08021605,  8.08021605,  8.08021605,\n",
       "        8.08021605,  8.08021605]))\n",
       "           fun: 8.0802160506565794\n",
       "       message: 'Optimization terminated successfully.'\n",
       "          nfev: 2415\n",
       "           nit: 1517\n",
       "        status: 0\n",
       "       success: True\n",
       "             x: array([  1.66933434e-09,   7.10557679e-03,  -3.44250445e-05,\n",
       "         4.48079719e-09,   1.79133767e-03,   7.36498726e-03])"
      ]
     },
     "execution_count": 13,
     "metadata": {},
     "output_type": "execute_result"
    }
   ],
   "source": [
    "res"
   ]
  },
  {
   "cell_type": "code",
   "execution_count": null,
   "metadata": {
    "collapsed": true
   },
   "outputs": [],
   "source": []
  },
  {
   "cell_type": "code",
   "execution_count": null,
   "metadata": {
    "collapsed": true
   },
   "outputs": [],
   "source": []
  },
  {
   "cell_type": "code",
   "execution_count": null,
   "metadata": {
    "collapsed": true
   },
   "outputs": [],
   "source": []
  },
  {
   "cell_type": "code",
   "execution_count": 14,
   "metadata": {},
   "outputs": [
    {
     "data": {
      "image/png": "[encoded data removed]",
      "text/plain": [
       "<matplotlib.figure.Figure at 0x11950e1d0>"
      ]
     },
     "metadata": {},
     "output_type": "display_data"
    }
   ],
   "source": [
    "# fit by hand\n",
    "c = np.array( [21,   0.00153,  -0.3, 27,   0.00111,   0.01])\n",
    "a = c[0::3]\n",
    "w = c[1::3]\n",
    "p = c[2::3]\n",
    "phi_epi = [f_phi(a, w, p, i) for i in t]\n",
    "plt.scatter(t, phis)\n",
    "plt.plot(t, phi_epi, color='r', linestyle='dashed')\n",
    "plt.show()"
   ]
  },
  {
   "cell_type": "code",
   "execution_count": 15,
   "metadata": {},
   "outputs": [
    {
     "data": {
      "text/plain": [
       "array([-0.3 ,  0.01])"
      ]
     },
     "execution_count": 15,
     "metadata": {},
     "output_type": "execute_result"
    }
   ],
   "source": [
    "p"
   ]
  },
  {
   "cell_type": "code",
   "execution_count": null,
   "metadata": {
    "collapsed": true
   },
   "outputs": [],
   "source": []
  },
  {
   "cell_type": "code",
   "execution_count": null,
   "metadata": {
    "collapsed": true
   },
   "outputs": [],
   "source": []
  },
  {
   "cell_type": "code",
   "execution_count": null,
   "metadata": {
    "collapsed": true
   },
   "outputs": [],
   "source": []
  },
  {
   "cell_type": "code",
   "execution_count": null,
   "metadata": {
    "collapsed": true
   },
   "outputs": [],
   "source": []
  },
  {
   "cell_type": "code",
   "execution_count": null,
   "metadata": {
    "collapsed": true
   },
   "outputs": [],
   "source": []
  },
  {
   "cell_type": "code",
   "execution_count": null,
   "metadata": {
    "collapsed": true
   },
   "outputs": [],
   "source": []
  },
  {
   "cell_type": "code",
   "execution_count": null,
   "metadata": {
    "collapsed": true
   },
   "outputs": [],
   "source": []
  },
  {
   "cell_type": "code",
   "execution_count": null,
   "metadata": {
    "collapsed": true
   },
   "outputs": [],
   "source": []
  },
  {
   "cell_type": "code",
   "execution_count": null,
   "metadata": {
    "collapsed": true
   },
   "outputs": [],
   "source": []
  },
  {
   "cell_type": "markdown",
   "metadata": {},
   "source": [
    "### Predict the planet angle from time series "
   ]
  },
  {
   "cell_type": "code",
   "execution_count": 43,
   "metadata": {
    "collapsed": true
   },
   "outputs": [],
   "source": [
    "n = 5\n",
    "phis = s.get_phi(1)/np.pi\n",
    "series = make_time_series(phis, depth=n+1)\n",
    "y = series[:,n].reshape(-1,1)\n",
    "x = series[:,0:n].reshape(-1,n)\n",
    "\n",
    "from keras.layers import Input, Dense\n",
    "from keras.models import Model\n",
    "\n",
    "inputs = Input(shape=(n,), dtype='float', name='main_input')\n",
    "layer = Dense(60, activation='relu', kernel_initializer='normal')(inputs)\n",
    "layer = Dense(15, activation='relu', kernel_initializer='normal')(layer)\n",
    "predictions = Dense(1, kernel_initializer='normal')(layer)\n",
    "model = Model(inputs=inputs, outputs=predictions)\n",
    "model.compile(optimizer='adam',\n",
    "              loss='mean_squared_error')\n",
    "\n",
    "model.fit(x, y, epochs=5, batch_size=1, verbose=2)"
   ]
  },
  {
   "cell_type": "code",
   "execution_count": 45,
   "metadata": {
    "collapsed": true
   },
   "outputs": [],
   "source": [
    "y_pred = model.predict(x)*np.pi\n",
    "y_true = y*np.pi"
   ]
  },
  {
   "cell_type": "code",
   "execution_count": 47,
   "metadata": {},
   "outputs": [
    {
     "data": {
      "image/png": "[encoded data removed]",
      "text/plain": [
       "<matplotlib.figure.Figure at 0x126b822e8>"
      ]
     },
     "metadata": {},
     "output_type": "display_data"
    }
   ],
   "source": [
    "ax = plt.gca()\n",
    "ax.cla() # clear things for fresh plot\n",
    "ax.cla()\n",
    "ax.set_xlim([0,n_sim])\n",
    "ax.set_ylim([-4.,4.])\n",
    "plt.xlabel('time')\n",
    "plt.ylabel('$\\phi$')\n",
    "plt.plot(t[:len(y_pred)], y_true, color='b')\n",
    "plt.plot(t[:len(y_pred)], y_pred, color='r', linestyle='dashed')\n",
    "plt.savefig(\"predicted_mars.png\")\n",
    "plt.show()"
   ]
  },
  {
   "cell_type": "code",
   "execution_count": null,
   "metadata": {
    "collapsed": true
   },
   "outputs": [],
   "source": []
  },
  {
   "cell_type": "code",
   "execution_count": 103,
   "metadata": {},
   "outputs": [
    {
     "name": "stdout",
     "output_type": "stream",
     "text": [
      "[0, 1, 2, 3, 4]\n"
     ]
    }
   ],
   "source": [
    "print([i for i in range(5)])"
   ]
  },
  {
   "cell_type": "code",
   "execution_count": null,
   "metadata": {
    "collapsed": true
   },
   "outputs": [],
   "source": []
  },
  {
   "cell_type": "markdown",
   "metadata": {},
   "source": [
    "### LSTM example"
   ]
  },
  {
   "cell_type": "code",
   "execution_count": 147,
   "metadata": {
    "collapsed": true
   },
   "outputs": [],
   "source": [
    "import matplotlib.pyplot as plt\n",
    "import pandas\n",
    "import math\n",
    "from keras.models import Sequential\n",
    "from keras.models import Model\n",
    "from keras.layers import Input, Dense\n",
    "from keras.layers import LSTM\n",
    "from sklearn.preprocessing import MinMaxScaler\n",
    "from sklearn.metrics import mean_squared_error"
   ]
  },
  {
   "cell_type": "code",
   "execution_count": 148,
   "metadata": {
    "collapsed": true
   },
   "outputs": [],
   "source": [
    "#scaler = MinMaxScaler(feature_range=(0, 1))\n",
    "#dataset = scaler.fit_transform(s.get_phi(1).reshape(-1, 1))"
   ]
  },
  {
   "cell_type": "code",
   "execution_count": 149,
   "metadata": {},
   "outputs": [],
   "source": [
    "def create_dataset(dataset, look_back=1):\n",
    "    x, y = np.ndarray(shape=(0, look_back, 1)), np.array([])\n",
    "    length = len(dataset) - look_back - 1\n",
    "    for i in range(length):\n",
    "        a = dataset[i:(i + look_back)].reshape(-1, look_back, 1)\n",
    "        x = np.concatenate((x, a), axis=0)\n",
    "        y = np.concatenate((y, [dataset[i + look_back, 0]]), axis=0)\n",
    "#    x = np.reshape(x, (x.shape[0], look_back, x.shape[1]))\n",
    "    return x, y\n",
    "\n",
    "# reshape input to be [samples, time steps, features]\n",
    "\n",
    "test = s.get_phi(1).reshape(-1, 1) / np.pi\n",
    "x, y = create_dataset(test, n)\n",
    "#x = np.reshape(x, (x.shape[0], 1, x.shape[1]))"
   ]
  },
  {
   "cell_type": "code",
   "execution_count": null,
   "metadata": {
    "collapsed": true
   },
   "outputs": [],
   "source": []
  },
  {
   "cell_type": "code",
   "execution_count": 150,
   "metadata": {},
   "outputs": [
    {
     "data": {
      "text/plain": [
       "(94, 5, 1)"
      ]
     },
     "execution_count": 150,
     "metadata": {},
     "output_type": "execute_result"
    }
   ],
   "source": [
    "x.shape"
   ]
  },
  {
   "cell_type": "code",
   "execution_count": 151,
   "metadata": {},
   "outputs": [
    {
     "data": {
      "text/plain": [
       "94"
      ]
     },
     "execution_count": 151,
     "metadata": {},
     "output_type": "execute_result"
    }
   ],
   "source": [
    "x.shape[0]"
   ]
  },
  {
   "cell_type": "code",
   "execution_count": 152,
   "metadata": {},
   "outputs": [
    {
     "data": {
      "text/plain": [
       "94"
      ]
     },
     "execution_count": 152,
     "metadata": {},
     "output_type": "execute_result"
    }
   ],
   "source": [
    "len(y)"
   ]
  },
  {
   "cell_type": "code",
   "execution_count": 153,
   "metadata": {},
   "outputs": [
    {
     "data": {
      "text/plain": [
       "470"
      ]
     },
     "execution_count": 153,
     "metadata": {},
     "output_type": "execute_result"
    }
   ],
   "source": [
    "94*5"
   ]
  },
  {
   "cell_type": "code",
   "execution_count": null,
   "metadata": {
    "collapsed": true
   },
   "outputs": [],
   "source": []
  },
  {
   "cell_type": "code",
   "execution_count": 155,
   "metadata": {},
   "outputs": [
    {
     "name": "stdout",
     "output_type": "stream",
     "text": [
      "Epoch 1/5\n",
      "2s - loss: 0.0594\n",
      "Epoch 2/5\n",
      "1s - loss: 0.0021\n",
      "Epoch 3/5\n",
      "1s - loss: 8.1112e-04\n",
      "Epoch 4/5\n",
      "1s - loss: 8.1528e-04\n",
      "Epoch 5/5\n",
      "1s - loss: 7.8484e-04\n"
     ]
    },
    {
     "data": {
      "text/plain": [
       "<keras.callbacks.History at 0x12c3ea4e0>"
      ]
     },
     "execution_count": 155,
     "metadata": {},
     "output_type": "execute_result"
    }
   ],
   "source": [
    "# create and fit the LSTM network\n",
    "#model = Sequential()\n",
    "#model.add(LSTM(4, input_shape=(1, look_back)))\n",
    "#model.add(Dense(1))\n",
    "#model.compile(loss='mean_squared_error', optimizer='adam')\n",
    "#model.fit(x, y, epochs=5, batch_size=1, verbose=2)\n",
    "\n",
    "inputs = Input(shape=(n, 1), dtype='float', name='main_input')\n",
    "#inputs = Input(shape=(1, n), dtype='float', name='main_input')\n",
    "# why not (n, 1) ?\n",
    "# CHECK THIS! FEATURES VS TIMESTEPS\n",
    "\n",
    "layer = LSTM(4)(inputs)\n",
    "predictions = Dense(1)(layer)\n",
    "model = Model(inputs=inputs, outputs=predictions)\n",
    "model.compile(optimizer='adam',\n",
    "              loss='mean_squared_error')\n",
    "\n",
    "model.fit(x, y, epochs=5, batch_size=1, verbose=2)\n"
   ]
  },
  {
   "cell_type": "code",
   "execution_count": 156,
   "metadata": {},
   "outputs": [
    {
     "data": {
      "text/plain": [
       "5"
      ]
     },
     "execution_count": 156,
     "metadata": {},
     "output_type": "execute_result"
    }
   ],
   "source": [
    "n"
   ]
  },
  {
   "cell_type": "code",
   "execution_count": 157,
   "metadata": {},
   "outputs": [],
   "source": [
    "y_pred = model.predict(x) * np.pi\n",
    "y_true = y * np.pi"
   ]
  },
  {
   "cell_type": "code",
   "execution_count": 159,
   "metadata": {},
   "outputs": [
    {
     "data": {
      "image/png": "[encoded data removed]",
      "text/plain": [
       "<matplotlib.figure.Figure at 0x12c59ecf8>"
      ]
     },
     "metadata": {},
     "output_type": "display_data"
    }
   ],
   "source": [
    "ax = plt.gca()\n",
    "ax.cla() # clear things for fresh plot\n",
    "ax.cla()\n",
    "ax.set_xlim([0,n_sim])\n",
    "ax.set_ylim([-4.,4.])\n",
    "plt.xlabel('time')\n",
    "plt.ylabel('$\\phi$')\n",
    "plt.plot(t[:len(y_pred)], y_true, color='b')\n",
    "plt.plot(t[:len(y_pred)], y_pred, color='r', linestyle='dashed')\n",
    "plt.savefig(\"predicted_lstm.png\")\n",
    "plt.show()"
   ]
  },
  {
   "cell_type": "code",
   "execution_count": null,
   "metadata": {
    "collapsed": true
   },
   "outputs": [],
   "source": []
  },
  {
   "cell_type": "code",
   "execution_count": null,
   "metadata": {
    "collapsed": true
   },
   "outputs": [],
   "source": []
  },
  {
   "cell_type": "code",
   "execution_count": null,
   "metadata": {
    "collapsed": true
   },
   "outputs": [],
   "source": []
  },
  {
   "cell_type": "code",
   "execution_count": null,
   "metadata": {
    "collapsed": true
   },
   "outputs": [],
   "source": []
  },
  {
   "cell_type": "code",
   "execution_count": null,
   "metadata": {
    "collapsed": true
   },
   "outputs": [],
   "source": []
  },
  {
   "cell_type": "code",
   "execution_count": null,
   "metadata": {
    "collapsed": true
   },
   "outputs": [],
   "source": []
  },
  {
   "cell_type": "code",
   "execution_count": null,
   "metadata": {
    "collapsed": true
   },
   "outputs": [],
   "source": []
  },
  {
   "cell_type": "code",
   "execution_count": null,
   "metadata": {
    "collapsed": true
   },
   "outputs": [],
   "source": []
  },
  {
   "cell_type": "markdown",
   "metadata": {
    "collapsed": true
   },
   "source": [
    "### Look at another planet, with previous training"
   ]
  },
  {
   "cell_type": "code",
   "execution_count": null,
   "metadata": {
    "collapsed": true
   },
   "outputs": [],
   "source": []
  },
  {
   "cell_type": "code",
   "execution_count": null,
   "metadata": {
    "collapsed": true
   },
   "outputs": [],
   "source": []
  },
  {
   "cell_type": "code",
   "execution_count": 29,
   "metadata": {
    "collapsed": true
   },
   "outputs": [],
   "source": [
    "phis = s.get_phi(2).reshape(-1,1)\n",
    "#series = make_time_series(phis, depth=n+1)\n",
    "#y = series[:,n].reshape(-1,1)\n",
    "#x = series[:,0:n].reshape(-1,n)\n",
    "x, y = create_dataset(phis/np.pi, n)\n",
    "#x = np.reshape(x, (x.shape[0], 1, x.shape[1]))\n",
    "\n",
    "y_pred = model.predict(x) * np.pi\n",
    "y_true = y * np.pi"
   ]
  },
  {
   "cell_type": "code",
   "execution_count": 31,
   "metadata": {},
   "outputs": [
    {
     "data": {
      "image/png": "[encoded data removed]",
      "text/plain": [
       "<matplotlib.figure.Figure at 0x126fa2630>"
      ]
     },
     "metadata": {},
     "output_type": "display_data"
    }
   ],
   "source": [
    "ax = plt.gca()\n",
    "ax.cla() # clear things for fresh plot\n",
    "ax.cla()\n",
    "ax.set_xlim([0,n_sim])\n",
    "ax.set_ylim([-4.,4.])\n",
    "plt.xlabel('time')\n",
    "plt.ylabel('$\\phi$')\n",
    "plt.plot(t[:len(y_pred)], y_true, color='b')\n",
    "plt.plot(t[:len(y_pred)], y_pred, color='r', linestyle='dashed')\n",
    "plt.savefig(\"predicted_uranus.png\")\n",
    "plt.show()"
   ]
  },
  {
   "cell_type": "code",
   "execution_count": null,
   "metadata": {
    "collapsed": true
   },
   "outputs": [],
   "source": []
  },
  {
   "cell_type": "markdown",
   "metadata": {},
   "source": [
    "### Fit this planet with Ptolemian model"
   ]
  },
  {
   "cell_type": "code",
   "execution_count": 32,
   "metadata": {
    "scrolled": true
   },
   "outputs": [
    {
     "name": "stderr",
     "output_type": "stream",
     "text": [
      "/anaconda/envs/python36/lib/python3.6/site-packages/scipy/optimize/_minimize.py:394: RuntimeWarning: Method Nelder-Mead cannot handle constraints nor bounds.\n",
      "  RuntimeWarning)\n",
      "/anaconda/envs/python36/lib/python3.6/site-packages/ipykernel_launcher.py:9: OptimizeWarning: Unknown solver options: eps\n",
      "  if __name__ == '__main__':\n"
     ]
    }
   ],
   "source": [
    "c0 = np.array([74., 0.0014, 0., 87.,  0.001, 0., 20., 0.001, 0.])\n",
    "a_bnds = (20., 100.)\n",
    "w_bnds = (0.0001, 0.0016)\n",
    "p_bnds = (0., np.pi/2.)\n",
    "bnds = (a_bnds, w_bnds, p_bnds, a_bnds,  w_bnds, p_bnds, a_bnds,  w_bnds, p_bnds)\n",
    "res = minimize(fun=epicycle_error, x0=c0,\n",
    "               method='Nelder-Mead', tol=1e-8,\n",
    "               bounds=bnds,\n",
    "               options={'xtol': 0.001, 'eps': 0.2, 'maxiter': 100000})"
   ]
  },
  {
   "cell_type": "code",
   "execution_count": 33,
   "metadata": {},
   "outputs": [
    {
     "data": {
      "image/png": "[encoded data removed]",
      "text/plain": [
       "<matplotlib.figure.Figure at 0x126f24278>"
      ]
     },
     "metadata": {},
     "output_type": "display_data"
    }
   ],
   "source": [
    "c = res.x    \n",
    "a = c[0::3]\n",
    "w = c[1::3]\n",
    "p = c[2::3]\n",
    "phi_epi = [f_phi(a, w, p, i) for i in t]\n",
    "plt.plot(t, phis)\n",
    "plt.plot(t, phi_epi, color='r', linestyle='dashed')\n",
    "plt.show()\n",
    "plt.savefig(\"ptolemian_uranus.png\")"
   ]
  },
  {
   "cell_type": "code",
   "execution_count": 34,
   "metadata": {
    "collapsed": true
   },
   "outputs": [],
   "source": [
    "c0 = np.array([74., 0.0014, 0., 87.,  0.001, 0., 20., 0.001, 0.])\n",
    "p = c0[0::1]"
   ]
  },
  {
   "cell_type": "code",
   "execution_count": 35,
   "metadata": {},
   "outputs": [
    {
     "data": {
      "text/plain": [
       "array([ -5.56923172e-11,   2.25153947e-03,   5.14001340e-03,\n",
       "        -1.31191239e-08,   1.36143897e-03,   2.12847203e-03,\n",
       "         1.32072486e-08,   1.36011649e-03,   5.77369756e-03])"
      ]
     },
     "execution_count": 35,
     "metadata": {},
     "output_type": "execute_result"
    }
   ],
   "source": [
    "c"
   ]
  },
  {
   "cell_type": "code",
   "execution_count": null,
   "metadata": {
    "collapsed": true
   },
   "outputs": [],
   "source": []
  },
  {
   "cell_type": "code",
   "execution_count": null,
   "metadata": {
    "collapsed": true
   },
   "outputs": [],
   "source": []
  },
  {
   "cell_type": "code",
   "execution_count": null,
   "metadata": {
    "collapsed": true
   },
   "outputs": [],
   "source": []
  },
  {
   "cell_type": "code",
   "execution_count": null,
   "metadata": {
    "collapsed": true
   },
   "outputs": [],
   "source": []
  },
  {
   "cell_type": "code",
   "execution_count": null,
   "metadata": {
    "collapsed": true
   },
   "outputs": [],
   "source": []
  },
  {
   "cell_type": "markdown",
   "metadata": {},
   "source": [
    "### Repeat all with a much farther planet"
   ]
  },
  {
   "cell_type": "code",
   "execution_count": 73,
   "metadata": {},
   "outputs": [
    {
     "ename": "ValueError",
     "evalue": "Error when checking : expected main_input to have 3 dimensions, but got array with shape (94, 5)",
     "output_type": "error",
     "traceback": [
      "\u001b[0;31m---------------------------------------------------------------------------\u001b[0m",
      "\u001b[0;31mValueError\u001b[0m                                Traceback (most recent call last)",
      "\u001b[0;32m<ipython-input-73-733cb42d1347>\u001b[0m in \u001b[0;36m<module>\u001b[0;34m()\u001b[0m\n\u001b[1;32m      9\u001b[0m \u001b[0mx\u001b[0m\u001b[0;34m,\u001b[0m \u001b[0my\u001b[0m \u001b[0;34m=\u001b[0m \u001b[0mcreate_dataset\u001b[0m\u001b[0;34m(\u001b[0m\u001b[0mphis\u001b[0m\u001b[0;34m/\u001b[0m\u001b[0mnp\u001b[0m\u001b[0;34m.\u001b[0m\u001b[0mpi\u001b[0m\u001b[0;34m,\u001b[0m \u001b[0mn\u001b[0m\u001b[0;34m)\u001b[0m\u001b[0;34m\u001b[0m\u001b[0m\n\u001b[1;32m     10\u001b[0m \u001b[0;31m#x = np.reshape(x, (x.shape[0], 1, x.shape[1]))\u001b[0m\u001b[0;34m\u001b[0m\u001b[0;34m\u001b[0m\u001b[0m\n\u001b[0;32m---> 11\u001b[0;31m \u001b[0my_pred\u001b[0m \u001b[0;34m=\u001b[0m \u001b[0mmodel\u001b[0m\u001b[0;34m.\u001b[0m\u001b[0mpredict\u001b[0m\u001b[0;34m(\u001b[0m\u001b[0mx\u001b[0m\u001b[0;34m)\u001b[0m \u001b[0;34m*\u001b[0m \u001b[0mnp\u001b[0m\u001b[0;34m.\u001b[0m\u001b[0mpi\u001b[0m\u001b[0;34m\u001b[0m\u001b[0m\n\u001b[0m\u001b[1;32m     12\u001b[0m \u001b[0my_true\u001b[0m \u001b[0;34m=\u001b[0m \u001b[0my\u001b[0m \u001b[0;34m*\u001b[0m \u001b[0mnp\u001b[0m\u001b[0;34m.\u001b[0m\u001b[0mpi\u001b[0m\u001b[0;34m\u001b[0m\u001b[0m\n\u001b[1;32m     13\u001b[0m \u001b[0max\u001b[0m \u001b[0;34m=\u001b[0m \u001b[0mplt\u001b[0m\u001b[0;34m.\u001b[0m\u001b[0mgca\u001b[0m\u001b[0;34m(\u001b[0m\u001b[0;34m)\u001b[0m\u001b[0;34m\u001b[0m\u001b[0m\n",
      "\u001b[0;32m/anaconda/envs/python36/lib/python3.6/site-packages/keras/engine/training.py\u001b[0m in \u001b[0;36mpredict\u001b[0;34m(self, x, batch_size, verbose)\u001b[0m\n\u001b[1;32m   1497\u001b[0m         x = _standardize_input_data(x, self._feed_input_names,\n\u001b[1;32m   1498\u001b[0m                                     \u001b[0mself\u001b[0m\u001b[0;34m.\u001b[0m\u001b[0m_feed_input_shapes\u001b[0m\u001b[0;34m,\u001b[0m\u001b[0;34m\u001b[0m\u001b[0m\n\u001b[0;32m-> 1499\u001b[0;31m                                     check_batch_axis=False)\n\u001b[0m\u001b[1;32m   1500\u001b[0m         \u001b[0;32mif\u001b[0m \u001b[0mself\u001b[0m\u001b[0;34m.\u001b[0m\u001b[0mstateful\u001b[0m\u001b[0;34m:\u001b[0m\u001b[0;34m\u001b[0m\u001b[0m\n\u001b[1;32m   1501\u001b[0m             \u001b[0;32mif\u001b[0m \u001b[0mx\u001b[0m\u001b[0;34m[\u001b[0m\u001b[0;36m0\u001b[0m\u001b[0;34m]\u001b[0m\u001b[0;34m.\u001b[0m\u001b[0mshape\u001b[0m\u001b[0;34m[\u001b[0m\u001b[0;36m0\u001b[0m\u001b[0;34m]\u001b[0m \u001b[0;34m>\u001b[0m \u001b[0mbatch_size\u001b[0m \u001b[0;32mand\u001b[0m \u001b[0mx\u001b[0m\u001b[0;34m[\u001b[0m\u001b[0;36m0\u001b[0m\u001b[0;34m]\u001b[0m\u001b[0;34m.\u001b[0m\u001b[0mshape\u001b[0m\u001b[0;34m[\u001b[0m\u001b[0;36m0\u001b[0m\u001b[0;34m]\u001b[0m \u001b[0;34m%\u001b[0m \u001b[0mbatch_size\u001b[0m \u001b[0;34m!=\u001b[0m \u001b[0;36m0\u001b[0m\u001b[0;34m:\u001b[0m\u001b[0;34m\u001b[0m\u001b[0m\n",
      "\u001b[0;32m/anaconda/envs/python36/lib/python3.6/site-packages/keras/engine/training.py\u001b[0m in \u001b[0;36m_standardize_input_data\u001b[0;34m(data, names, shapes, check_batch_axis, exception_prefix)\u001b[0m\n\u001b[1;32m    126\u001b[0m                                  \u001b[0;34m' to have '\u001b[0m \u001b[0;34m+\u001b[0m \u001b[0mstr\u001b[0m\u001b[0;34m(\u001b[0m\u001b[0mlen\u001b[0m\u001b[0;34m(\u001b[0m\u001b[0mshapes\u001b[0m\u001b[0;34m[\u001b[0m\u001b[0mi\u001b[0m\u001b[0;34m]\u001b[0m\u001b[0;34m)\u001b[0m\u001b[0;34m)\u001b[0m \u001b[0;34m+\u001b[0m\u001b[0;34m\u001b[0m\u001b[0m\n\u001b[1;32m    127\u001b[0m                                  \u001b[0;34m' dimensions, but got array with shape '\u001b[0m \u001b[0;34m+\u001b[0m\u001b[0;34m\u001b[0m\u001b[0m\n\u001b[0;32m--> 128\u001b[0;31m                                  str(array.shape))\n\u001b[0m\u001b[1;32m    129\u001b[0m             \u001b[0;32mfor\u001b[0m \u001b[0mj\u001b[0m\u001b[0;34m,\u001b[0m \u001b[0;34m(\u001b[0m\u001b[0mdim\u001b[0m\u001b[0;34m,\u001b[0m \u001b[0mref_dim\u001b[0m\u001b[0;34m)\u001b[0m \u001b[0;32min\u001b[0m \u001b[0menumerate\u001b[0m\u001b[0;34m(\u001b[0m\u001b[0mzip\u001b[0m\u001b[0;34m(\u001b[0m\u001b[0marray\u001b[0m\u001b[0;34m.\u001b[0m\u001b[0mshape\u001b[0m\u001b[0;34m,\u001b[0m \u001b[0mshapes\u001b[0m\u001b[0;34m[\u001b[0m\u001b[0mi\u001b[0m\u001b[0;34m]\u001b[0m\u001b[0;34m)\u001b[0m\u001b[0;34m)\u001b[0m\u001b[0;34m:\u001b[0m\u001b[0;34m\u001b[0m\u001b[0m\n\u001b[1;32m    130\u001b[0m                 \u001b[0;32mif\u001b[0m \u001b[0;32mnot\u001b[0m \u001b[0mj\u001b[0m \u001b[0;32mand\u001b[0m \u001b[0;32mnot\u001b[0m \u001b[0mcheck_batch_axis\u001b[0m\u001b[0;34m:\u001b[0m\u001b[0;34m\u001b[0m\u001b[0m\n",
      "\u001b[0;31mValueError\u001b[0m: Error when checking : expected main_input to have 3 dimensions, but got array with shape (94, 5)"
     ]
    }
   ],
   "source": [
    "phis = s.get_phi(3)/np.pi\n",
    "series = make_time_series(phis, depth=n+1)\n",
    "#y = series[:,n].reshape(-1,1)\n",
    "#x = series[:,0:n].reshape(-1,n)\n",
    "phis = s.get_phi(2).reshape(-1,1)\n",
    "#series = make_time_series(phis, depth=n+1)\n",
    "#y = series[:,n].reshape(-1,1)\n",
    "#x = series[:,0:n].reshape(-1,n)\n",
    "x, y = create_dataset(phis/np.pi, n)\n",
    "#x = np.reshape(x, (x.shape[0], 1, x.shape[1]))\n",
    "y_pred = model.predict(x) * np.pi\n",
    "y_true = y * np.pi\n",
    "ax = plt.gca()\n",
    "ax.cla() # clear things for fresh plot\n",
    "ax.cla()\n",
    "ax.set_xlim([0,n_sim])\n",
    "ax.set_ylim([-4.,4.])\n",
    "plt.xlabel('time')\n",
    "plt.ylabel('$\\phi$')\n",
    "plt.plot(t[:len(y_pred)], y_true, color='b')\n",
    "plt.plot(t[:len(y_pred)], y_pred, color='r', linestyle='dashed')\n",
    "plt.savefig(\"predicted_pluto.png\")\n",
    "plt.show()"
   ]
  },
  {
   "cell_type": "code",
   "execution_count": null,
   "metadata": {
    "collapsed": true
   },
   "outputs": [],
   "source": []
  },
  {
   "cell_type": "code",
   "execution_count": null,
   "metadata": {
    "collapsed": true
   },
   "outputs": [],
   "source": []
  },
  {
   "cell_type": "code",
   "execution_count": 74,
   "metadata": {},
   "outputs": [
    {
     "data": {
      "text/plain": [
       "array([[ 0.2502273 ,  0.25249212,  0.25474157,  0.25697495,  0.25919162],\n",
       "       [ 0.25249212,  0.25474157,  0.25697495,  0.25919162,  0.26139097],\n",
       "       [ 0.25474157,  0.25697495,  0.25919162,  0.26139097,  0.26357243],\n",
       "       [ 0.25697495,  0.25919162,  0.26139097,  0.26357243,  0.26573549],\n",
       "       [ 0.25919162,  0.26139097,  0.26357243,  0.26573549,  0.26787967],\n",
       "       [ 0.26139097,  0.26357243,  0.26573549,  0.26787967,  0.27000454],\n",
       "       [ 0.26357243,  0.26573549,  0.26787967,  0.27000454,  0.27210972],\n",
       "       [ 0.26573549,  0.26787967,  0.27000454,  0.27210972,  0.27419488],\n",
       "       [ 0.26787967,  0.27000454,  0.27210972,  0.27419488,  0.27625971],\n",
       "       [ 0.27000454,  0.27210972,  0.27419488,  0.27625971,  0.27830399],\n",
       "       [ 0.27210972,  0.27419488,  0.27625971,  0.27830399,  0.28032751],\n",
       "       [ 0.27419488,  0.27625971,  0.27830399,  0.28032751,  0.28233011],\n",
       "       [ 0.27625971,  0.27830399,  0.28032751,  0.28233011,  0.2843117 ],\n",
       "       [ 0.27830399,  0.28032751,  0.28233011,  0.2843117 ,  0.28627221],\n",
       "       [ 0.28032751,  0.28233011,  0.2843117 ,  0.28627221,  0.28821161],\n",
       "       [ 0.28233011,  0.2843117 ,  0.28627221,  0.28821161,  0.29012995],\n",
       "       [ 0.2843117 ,  0.28627221,  0.28821161,  0.29012995,  0.29202727],\n",
       "       [ 0.28627221,  0.28821161,  0.29012995,  0.29202727,  0.29390369],\n",
       "       [ 0.28821161,  0.29012995,  0.29202727,  0.29390369,  0.29575936],\n",
       "       [ 0.29012995,  0.29202727,  0.29390369,  0.29575936,  0.29759445],\n",
       "       [ 0.29202727,  0.29390369,  0.29575936,  0.29759445,  0.29940918],\n",
       "       [ 0.29390369,  0.29575936,  0.29759445,  0.29940918,  0.30120383],\n",
       "       [ 0.29575936,  0.29759445,  0.29940918,  0.30120383,  0.30297866],\n",
       "       [ 0.29759445,  0.29940918,  0.30120383,  0.30297866,  0.30473402],\n",
       "       [ 0.29940918,  0.30120383,  0.30297866,  0.30473402,  0.30647025],\n",
       "       [ 0.30120383,  0.30297866,  0.30473402,  0.30647025,  0.30818774],\n",
       "       [ 0.30297866,  0.30473402,  0.30647025,  0.30818774,  0.30988691],\n",
       "       [ 0.30473402,  0.30647025,  0.30818774,  0.30988691,  0.31156818],\n",
       "       [ 0.30647025,  0.30818774,  0.30988691,  0.31156818,  0.31323203],\n",
       "       [ 0.30818774,  0.30988691,  0.31156818,  0.31323203,  0.31487895],\n",
       "       [ 0.30988691,  0.31156818,  0.31323203,  0.31487895,  0.31650944],\n",
       "       [ 0.31156818,  0.31323203,  0.31487895,  0.31650944,  0.31812404],\n",
       "       [ 0.31323203,  0.31487895,  0.31650944,  0.31812404,  0.3197233 ],\n",
       "       [ 0.31487895,  0.31650944,  0.31812404,  0.3197233 ,  0.32130778],\n",
       "       [ 0.31650944,  0.31812404,  0.3197233 ,  0.32130778,  0.32287808],\n",
       "       [ 0.31812404,  0.3197233 ,  0.32130778,  0.32287808,  0.32443479],\n",
       "       [ 0.3197233 ,  0.32130778,  0.32287808,  0.32443479,  0.32597852],\n",
       "       [ 0.32130778,  0.32287808,  0.32443479,  0.32597852,  0.3275099 ],\n",
       "       [ 0.32287808,  0.32443479,  0.32597852,  0.3275099 ,  0.32902957],\n",
       "       [ 0.32443479,  0.32597852,  0.3275099 ,  0.32902957,  0.33053818],\n",
       "       [ 0.32597852,  0.3275099 ,  0.32902957,  0.33053818,  0.33203637],\n",
       "       [ 0.3275099 ,  0.32902957,  0.33053818,  0.33203637,  0.33352481],\n",
       "       [ 0.32902957,  0.33053818,  0.33203637,  0.33352481,  0.33500418],\n",
       "       [ 0.33053818,  0.33203637,  0.33352481,  0.33500418,  0.33647513],\n",
       "       [ 0.33203637,  0.33352481,  0.33500418,  0.33647513,  0.33793836],\n",
       "       [ 0.33352481,  0.33500418,  0.33647513,  0.33793836,  0.33939454],\n",
       "       [ 0.33500418,  0.33647513,  0.33793836,  0.33939454,  0.34084436],\n",
       "       [ 0.33647513,  0.33793836,  0.33939454,  0.34084436,  0.34228849],\n",
       "       [ 0.33793836,  0.33939454,  0.34084436,  0.34228849,  0.34372764],\n",
       "       [ 0.33939454,  0.34084436,  0.34228849,  0.34372764,  0.34516248],\n",
       "       [ 0.34084436,  0.34228849,  0.34372764,  0.34516248,  0.34659369],\n",
       "       [ 0.34228849,  0.34372764,  0.34516248,  0.34659369,  0.34802197],\n",
       "       [ 0.34372764,  0.34516248,  0.34659369,  0.34802197,  0.34944799],\n",
       "       [ 0.34516248,  0.34659369,  0.34802197,  0.34944799,  0.35087242],\n",
       "       [ 0.34659369,  0.34802197,  0.34944799,  0.35087242,  0.35229596],\n",
       "       [ 0.34802197,  0.34944799,  0.35087242,  0.35229596,  0.35371926],\n",
       "       [ 0.34944799,  0.35087242,  0.35229596,  0.35371926,  0.355143  ],\n",
       "       [ 0.35087242,  0.35229596,  0.35371926,  0.355143  ,  0.35656783],\n",
       "       [ 0.35229596,  0.35371926,  0.355143  ,  0.35656783,  0.35799442],\n",
       "       [ 0.35371926,  0.355143  ,  0.35656783,  0.35799442,  0.35942341],\n",
       "       [ 0.355143  ,  0.35656783,  0.35799442,  0.35942341,  0.36085545],\n",
       "       [ 0.35656783,  0.35799442,  0.35942341,  0.36085545,  0.36229119],\n",
       "       [ 0.35799442,  0.35942341,  0.36085545,  0.36229119,  0.36373125],\n",
       "       [ 0.35942341,  0.36085545,  0.36229119,  0.36373125,  0.36517626],\n",
       "       [ 0.36085545,  0.36229119,  0.36373125,  0.36517626,  0.36662685],\n",
       "       [ 0.36229119,  0.36373125,  0.36517626,  0.36662685,  0.36808363],\n",
       "       [ 0.36373125,  0.36517626,  0.36662685,  0.36808363,  0.3695472 ],\n",
       "       [ 0.36517626,  0.36662685,  0.36808363,  0.3695472 ,  0.37101816],\n",
       "       [ 0.36662685,  0.36808363,  0.3695472 ,  0.37101816,  0.37249711],\n",
       "       [ 0.36808363,  0.3695472 ,  0.37101816,  0.37249711,  0.37398463],\n",
       "       [ 0.3695472 ,  0.37101816,  0.37249711,  0.37398463,  0.37548131],\n",
       "       [ 0.37101816,  0.37249711,  0.37398463,  0.37548131,  0.3769877 ],\n",
       "       [ 0.37249711,  0.37398463,  0.37548131,  0.3769877 ,  0.37850438],\n",
       "       [ 0.37398463,  0.37548131,  0.3769877 ,  0.37850438,  0.3800319 ],\n",
       "       [ 0.37548131,  0.3769877 ,  0.37850438,  0.3800319 ,  0.38157081],\n",
       "       [ 0.3769877 ,  0.37850438,  0.3800319 ,  0.38157081,  0.38312165],\n",
       "       [ 0.37850438,  0.3800319 ,  0.38157081,  0.38312165,  0.38468496],\n",
       "       [ 0.3800319 ,  0.38157081,  0.38312165,  0.38468496,  0.38626126],\n",
       "       [ 0.38157081,  0.38312165,  0.38468496,  0.38626126,  0.38785108],\n",
       "       [ 0.38312165,  0.38468496,  0.38626126,  0.38785108,  0.38945492],\n",
       "       [ 0.38468496,  0.38626126,  0.38785108,  0.38945492,  0.3910733 ],\n",
       "       [ 0.38626126,  0.38785108,  0.38945492,  0.3910733 ,  0.39270671],\n",
       "       [ 0.38785108,  0.38945492,  0.3910733 ,  0.39270671,  0.39435565],\n",
       "       [ 0.38945492,  0.3910733 ,  0.39270671,  0.39435565,  0.39602061],\n",
       "       [ 0.3910733 ,  0.39270671,  0.39435565,  0.39602061,  0.39770206],\n",
       "       [ 0.39270671,  0.39435565,  0.39602061,  0.39770206,  0.39940047],\n",
       "       [ 0.39435565,  0.39602061,  0.39770206,  0.39940047,  0.40111632],\n",
       "       [ 0.39602061,  0.39770206,  0.39940047,  0.40111632,  0.40285006],\n",
       "       [ 0.39770206,  0.39940047,  0.40111632,  0.40285006,  0.40460216],\n",
       "       [ 0.39940047,  0.40111632,  0.40285006,  0.40460216,  0.40637305],\n",
       "       [ 0.40111632,  0.40285006,  0.40460216,  0.40637305,  0.40816318],\n",
       "       [ 0.40285006,  0.40460216,  0.40637305,  0.40816318,  0.40997299],\n",
       "       [ 0.40460216,  0.40637305,  0.40816318,  0.40997299,  0.4118029 ],\n",
       "       [ 0.40637305,  0.40816318,  0.40997299,  0.4118029 ,  0.41365335]])"
      ]
     },
     "execution_count": 74,
     "metadata": {},
     "output_type": "execute_result"
    }
   ],
   "source": [
    "x"
   ]
  },
  {
   "cell_type": "code",
   "execution_count": 72,
   "metadata": {},
   "outputs": [
    {
     "data": {
      "text/plain": [
       "array([[[ 0.2652901 ,  0.26671951,  0.26813118,  0.26952532,  0.27090216]],\n",
       "\n",
       "       [[ 0.26671951,  0.26813118,  0.26952532,  0.27090216,  0.27226196]],\n",
       "\n",
       "       [[ 0.26813118,  0.26952532,  0.27090216,  0.27226196,  0.27360502]],\n",
       "\n",
       "       [[ 0.26952532,  0.27090216,  0.27226196,  0.27360502,  0.27493167]],\n",
       "\n",
       "       [[ 0.27090216,  0.27226196,  0.27360502,  0.27493167,  0.27624225]],\n",
       "\n",
       "       [[ 0.27226196,  0.27360502,  0.27493167,  0.27624225,  0.27753714]],\n",
       "\n",
       "       [[ 0.27360502,  0.27493167,  0.27624225,  0.27753714,  0.27881675]],\n",
       "\n",
       "       [[ 0.27493167,  0.27624225,  0.27753714,  0.27881675,  0.2800815 ]],\n",
       "\n",
       "       [[ 0.27624225,  0.27753714,  0.27881675,  0.2800815 ,  0.28133184]],\n",
       "\n",
       "       [[ 0.27753714,  0.27881675,  0.2800815 ,  0.28133184,  0.28256824]],\n",
       "\n",
       "       [[ 0.27881675,  0.2800815 ,  0.28133184,  0.28256824,  0.2837912 ]],\n",
       "\n",
       "       [[ 0.2800815 ,  0.28133184,  0.28256824,  0.2837912 ,  0.28500122]],\n",
       "\n",
       "       [[ 0.28133184,  0.28256824,  0.2837912 ,  0.28500122,  0.28619884]],\n",
       "\n",
       "       [[ 0.28256824,  0.2837912 ,  0.28500122,  0.28619884,  0.28738461]],\n",
       "\n",
       "       [[ 0.2837912 ,  0.28500122,  0.28619884,  0.28738461,  0.28855908]],\n",
       "\n",
       "       [[ 0.28500122,  0.28619884,  0.28738461,  0.28855908,  0.28972284]],\n",
       "\n",
       "       [[ 0.28619884,  0.28738461,  0.28855908,  0.28972284,  0.29087647]],\n",
       "\n",
       "       [[ 0.28738461,  0.28855908,  0.28972284,  0.29087647,  0.29202058]],\n",
       "\n",
       "       [[ 0.28855908,  0.28972284,  0.29087647,  0.29202058,  0.29315578]],\n",
       "\n",
       "       [[ 0.28972284,  0.29087647,  0.29202058,  0.29315578,  0.2942827 ]],\n",
       "\n",
       "       [[ 0.29087647,  0.29202058,  0.29315578,  0.2942827 ,  0.29540196]],\n",
       "\n",
       "       [[ 0.29202058,  0.29315578,  0.2942827 ,  0.29540196,  0.29651421]],\n",
       "\n",
       "       [[ 0.29315578,  0.2942827 ,  0.29540196,  0.29651421,  0.29762009]],\n",
       "\n",
       "       [[ 0.2942827 ,  0.29540196,  0.29651421,  0.29762009,  0.29872025]],\n",
       "\n",
       "       [[ 0.29540196,  0.29651421,  0.29762009,  0.29872025,  0.29981535]],\n",
       "\n",
       "       [[ 0.29651421,  0.29762009,  0.29872025,  0.29981535,  0.30090604]],\n",
       "\n",
       "       [[ 0.29762009,  0.29872025,  0.29981535,  0.30090604,  0.30199298]],\n",
       "\n",
       "       [[ 0.29872025,  0.29981535,  0.30090604,  0.30199298,  0.30307684]],\n",
       "\n",
       "       [[ 0.29981535,  0.30090604,  0.30199298,  0.30307684,  0.30415828]],\n",
       "\n",
       "       [[ 0.30090604,  0.30199298,  0.30307684,  0.30415828,  0.30523796]],\n",
       "\n",
       "       [[ 0.30199298,  0.30307684,  0.30415828,  0.30523796,  0.30631655]],\n",
       "\n",
       "       [[ 0.30307684,  0.30415828,  0.30523796,  0.30631655,  0.30739469]],\n",
       "\n",
       "       [[ 0.30415828,  0.30523796,  0.30631655,  0.30739469,  0.30847304]],\n",
       "\n",
       "       [[ 0.30523796,  0.30631655,  0.30739469,  0.30847304,  0.30955227]],\n",
       "\n",
       "       [[ 0.30631655,  0.30739469,  0.30847304,  0.30955227,  0.31063301]],\n",
       "\n",
       "       [[ 0.30739469,  0.30847304,  0.30955227,  0.31063301,  0.31171592]],\n",
       "\n",
       "       [[ 0.30847304,  0.30955227,  0.31063301,  0.31171592,  0.31280163]],\n",
       "\n",
       "       [[ 0.30955227,  0.31063301,  0.31171592,  0.31280163,  0.31389078]],\n",
       "\n",
       "       [[ 0.31063301,  0.31171592,  0.31280163,  0.31389078,  0.31498399]],\n",
       "\n",
       "       [[ 0.31171592,  0.31280163,  0.31389078,  0.31498399,  0.31608189]],\n",
       "\n",
       "       [[ 0.31280163,  0.31389078,  0.31498399,  0.31608189,  0.31718509]],\n",
       "\n",
       "       [[ 0.31389078,  0.31498399,  0.31608189,  0.31718509,  0.31829421]],\n",
       "\n",
       "       [[ 0.31498399,  0.31608189,  0.31718509,  0.31829421,  0.31940984]],\n",
       "\n",
       "       [[ 0.31608189,  0.31718509,  0.31829421,  0.31940984,  0.32053258]],\n",
       "\n",
       "       [[ 0.31718509,  0.31829421,  0.31940984,  0.32053258,  0.32166301]],\n",
       "\n",
       "       [[ 0.31829421,  0.31940984,  0.32053258,  0.32166301,  0.32280172]],\n",
       "\n",
       "       [[ 0.31940984,  0.32053258,  0.32166301,  0.32280172,  0.32394927]],\n",
       "\n",
       "       [[ 0.32053258,  0.32166301,  0.32280172,  0.32394927,  0.32510623]],\n",
       "\n",
       "       [[ 0.32166301,  0.32280172,  0.32394927,  0.32510623,  0.32627315]],\n",
       "\n",
       "       [[ 0.32280172,  0.32394927,  0.32510623,  0.32627315,  0.32745057]],\n",
       "\n",
       "       [[ 0.32394927,  0.32510623,  0.32627315,  0.32745057,  0.32863904]],\n",
       "\n",
       "       [[ 0.32510623,  0.32627315,  0.32745057,  0.32863904,  0.32983909]],\n",
       "\n",
       "       [[ 0.32627315,  0.32745057,  0.32863904,  0.32983909,  0.33105123]],\n",
       "\n",
       "       [[ 0.32745057,  0.32863904,  0.32983909,  0.33105123,  0.33227598]],\n",
       "\n",
       "       [[ 0.32863904,  0.32983909,  0.33105123,  0.33227598,  0.33351384]],\n",
       "\n",
       "       [[ 0.32983909,  0.33105123,  0.33227598,  0.33351384,  0.33476531]],\n",
       "\n",
       "       [[ 0.33105123,  0.33227598,  0.33351384,  0.33476531,  0.33603088]],\n",
       "\n",
       "       [[ 0.33227598,  0.33351384,  0.33476531,  0.33603088,  0.33731103]],\n",
       "\n",
       "       [[ 0.33351384,  0.33476531,  0.33603088,  0.33731103,  0.33860623]],\n",
       "\n",
       "       [[ 0.33476531,  0.33603088,  0.33731103,  0.33860623,  0.33991695]],\n",
       "\n",
       "       [[ 0.33603088,  0.33731103,  0.33860623,  0.33991695,  0.34124364]],\n",
       "\n",
       "       [[ 0.33731103,  0.33860623,  0.33991695,  0.34124364,  0.34258676]],\n",
       "\n",
       "       [[ 0.33860623,  0.33991695,  0.34124364,  0.34258676,  0.34394674]],\n",
       "\n",
       "       [[ 0.33991695,  0.34124364,  0.34258676,  0.34394674,  0.34532403]],\n",
       "\n",
       "       [[ 0.34124364,  0.34258676,  0.34394674,  0.34532403,  0.34671905]],\n",
       "\n",
       "       [[ 0.34258676,  0.34394674,  0.34532403,  0.34671905,  0.34813223]],\n",
       "\n",
       "       [[ 0.34394674,  0.34532403,  0.34671905,  0.34813223,  0.34956398]],\n",
       "\n",
       "       [[ 0.34532403,  0.34671905,  0.34813223,  0.34956398,  0.35101472]],\n",
       "\n",
       "       [[ 0.34671905,  0.34813223,  0.34956398,  0.35101472,  0.35248484]],\n",
       "\n",
       "       [[ 0.34813223,  0.34956398,  0.35101472,  0.35248484,  0.35397475]],\n",
       "\n",
       "       [[ 0.34956398,  0.35101472,  0.35248484,  0.35397475,  0.35548484]],\n",
       "\n",
       "       [[ 0.35101472,  0.35248484,  0.35397475,  0.35548484,  0.3570155 ]],\n",
       "\n",
       "       [[ 0.35248484,  0.35397475,  0.35548484,  0.3570155 ,  0.35856711]],\n",
       "\n",
       "       [[ 0.35397475,  0.35548484,  0.3570155 ,  0.35856711,  0.36014005]],\n",
       "\n",
       "       [[ 0.35548484,  0.3570155 ,  0.35856711,  0.36014005,  0.36173469]],\n",
       "\n",
       "       [[ 0.3570155 ,  0.35856711,  0.36014005,  0.36173469,  0.3633514 ]],\n",
       "\n",
       "       [[ 0.35856711,  0.36014005,  0.36173469,  0.3633514 ,  0.36499054]],\n",
       "\n",
       "       [[ 0.36014005,  0.36173469,  0.3633514 ,  0.36499054,  0.36665249]],\n",
       "\n",
       "       [[ 0.36173469,  0.3633514 ,  0.36499054,  0.36665249,  0.36833758]],\n",
       "\n",
       "       [[ 0.3633514 ,  0.36499054,  0.36665249,  0.36833758,  0.37004619]],\n",
       "\n",
       "       [[ 0.36499054,  0.36665249,  0.36833758,  0.37004619,  0.37177865]],\n",
       "\n",
       "       [[ 0.36665249,  0.36833758,  0.37004619,  0.37177865,  0.37353531]],\n",
       "\n",
       "       [[ 0.36833758,  0.37004619,  0.37177865,  0.37353531,  0.37531653]],\n",
       "\n",
       "       [[ 0.37004619,  0.37177865,  0.37353531,  0.37531653,  0.37712263]],\n",
       "\n",
       "       [[ 0.37177865,  0.37353531,  0.37531653,  0.37712263,  0.37895396]],\n",
       "\n",
       "       [[ 0.37353531,  0.37531653,  0.37712263,  0.37895396,  0.38081086]],\n",
       "\n",
       "       [[ 0.37531653,  0.37712263,  0.37895396,  0.38081086,  0.38269364]],\n",
       "\n",
       "       [[ 0.37712263,  0.37895396,  0.38081086,  0.38269364,  0.38460266]],\n",
       "\n",
       "       [[ 0.37895396,  0.38081086,  0.38269364,  0.38460266,  0.38653823]],\n",
       "\n",
       "       [[ 0.38081086,  0.38269364,  0.38460266,  0.38653823,  0.38850068]],\n",
       "\n",
       "       [[ 0.38269364,  0.38460266,  0.38653823,  0.38850068,  0.39049033]],\n",
       "\n",
       "       [[ 0.38460266,  0.38653823,  0.38850068,  0.39049033,  0.39250751]],\n",
       "\n",
       "       [[ 0.38653823,  0.38850068,  0.39049033,  0.39250751,  0.39455254]],\n",
       "\n",
       "       [[ 0.38850068,  0.39049033,  0.39250751,  0.39455254,  0.39662572]]])"
      ]
     },
     "execution_count": 72,
     "metadata": {},
     "output_type": "execute_result"
    }
   ],
   "source": [
    "xx"
   ]
  },
  {
   "cell_type": "code",
   "execution_count": null,
   "metadata": {
    "collapsed": true
   },
   "outputs": [],
   "source": []
  },
  {
   "cell_type": "markdown",
   "metadata": {},
   "source": [
    "### Long time extrapolation"
   ]
  },
  {
   "cell_type": "code",
   "execution_count": 83,
   "metadata": {},
   "outputs": [
    {
     "ename": "ValueError",
     "evalue": "all the input array dimensions except for the concatenation axis must match exactly",
     "output_type": "error",
     "traceback": [
      "\u001b[0;31m---------------------------------------------------------------------------\u001b[0m",
      "\u001b[0;31mValueError\u001b[0m                                Traceback (most recent call last)",
      "\u001b[0;32m<ipython-input-83-162899010fcb>\u001b[0m in \u001b[0;36m<module>\u001b[0;34m()\u001b[0m\n\u001b[1;32m      9\u001b[0m \u001b[0;32mfor\u001b[0m \u001b[0mi\u001b[0m \u001b[0;32min\u001b[0m \u001b[0mnp\u001b[0m\u001b[0;34m.\u001b[0m\u001b[0marange\u001b[0m\u001b[0;34m(\u001b[0m\u001b[0mn\u001b[0m\u001b[0;34m,\u001b[0m\u001b[0mlen\u001b[0m\u001b[0;34m(\u001b[0m\u001b[0my_true\u001b[0m\u001b[0;34m)\u001b[0m\u001b[0;34m)\u001b[0m\u001b[0;34m:\u001b[0m\u001b[0;34m\u001b[0m\u001b[0m\n\u001b[1;32m     10\u001b[0m     \u001b[0my\u001b[0m \u001b[0;34m=\u001b[0m \u001b[0mmodel\u001b[0m\u001b[0;34m.\u001b[0m\u001b[0mpredict\u001b[0m\u001b[0;34m(\u001b[0m\u001b[0mxx\u001b[0m\u001b[0;34m)\u001b[0m\u001b[0;34m\u001b[0m\u001b[0m\n\u001b[0;32m---> 11\u001b[0;31m     \u001b[0mxx\u001b[0m \u001b[0;34m=\u001b[0m \u001b[0mnp\u001b[0m\u001b[0;34m.\u001b[0m\u001b[0mconcatenate\u001b[0m\u001b[0;34m(\u001b[0m\u001b[0;34m(\u001b[0m\u001b[0mxx\u001b[0m\u001b[0;34m,\u001b[0m \u001b[0my\u001b[0m\u001b[0;34m.\u001b[0m\u001b[0mreshape\u001b[0m\u001b[0;34m(\u001b[0m\u001b[0;34m-\u001b[0m\u001b[0;36m1\u001b[0m\u001b[0;34m,\u001b[0m \u001b[0;36m1\u001b[0m\u001b[0;34m,\u001b[0m \u001b[0;36m1\u001b[0m\u001b[0;34m)\u001b[0m\u001b[0;34m)\u001b[0m\u001b[0;34m,\u001b[0m \u001b[0maxis\u001b[0m\u001b[0;34m=\u001b[0m\u001b[0;36m1\u001b[0m\u001b[0;34m)\u001b[0m\u001b[0;34m\u001b[0m\u001b[0m\n\u001b[0m\u001b[1;32m     12\u001b[0m     \u001b[0mxx\u001b[0m \u001b[0;34m=\u001b[0m \u001b[0mxx\u001b[0m\u001b[0;34m[\u001b[0m\u001b[0;34m:\u001b[0m\u001b[0;34m,\u001b[0m\u001b[0;36m1\u001b[0m\u001b[0;34m:\u001b[0m\u001b[0mn\u001b[0m\u001b[0;34m+\u001b[0m\u001b[0;36m1\u001b[0m\u001b[0;34m]\u001b[0m\u001b[0;34m\u001b[0m\u001b[0m\n\u001b[1;32m     13\u001b[0m \u001b[0;34m\u001b[0m\u001b[0m\n",
      "\u001b[0;31mValueError\u001b[0m: all the input array dimensions except for the concatenation axis must match exactly"
     ]
    }
   ],
   "source": [
    "phis = s.get_phi(1).reshape(-1,1)\n",
    "#series = make_time_series(phis, depth=n+1)\n",
    "#y = series[:,n].reshape(-1,1)\n",
    "#x = series[:,0:n].reshape(-1,n)\n",
    "x, y = create_dataset(phis/np.pi, n)\n",
    "x = np.reshape(x, (x.shape[0], 1, x.shape[1]))\n",
    "xx = np.array(x)\n",
    "\n",
    "for i in np.arange(n,len(y_true)):\n",
    "    y = model.predict(xx).reshape(-1, 1, 1)\n",
    "    xx = np.concatenate((xx, y), axis=1)\n",
    "    xx = xx[:,1:n+1]\n",
    "\n",
    "#for i in np.arange(1,len(y_true)):\n",
    "#    xx = np.zeros(n)\n",
    "#    if(i < n):\n",
    "#        x_old = x[i,i:n].reshape(-1,n-i)\n",
    "#        x_new = y_extr[0:i].reshape(-1,i)\n",
    "#        xx = np.append(x_new, x_old).reshape(-1,n)\n",
    "#    else:\n",
    "#        xx = y_extr[i-n:i].reshape(-1,n)\n",
    "#    y_extr[i] = model.predict(xx)"
   ]
  },
  {
   "cell_type": "code",
   "execution_count": 84,
   "metadata": {},
   "outputs": [
    {
     "data": {
      "text/plain": [
       "(94, 1, 5)"
      ]
     },
     "execution_count": 84,
     "metadata": {},
     "output_type": "execute_result"
    }
   ],
   "source": [
    "xx.shape"
   ]
  },
  {
   "cell_type": "code",
   "execution_count": 85,
   "metadata": {},
   "outputs": [
    {
     "data": {
      "text/plain": [
       "(94, 1)"
      ]
     },
     "execution_count": 85,
     "metadata": {},
     "output_type": "execute_result"
    }
   ],
   "source": [
    "y.shape"
   ]
  },
  {
   "cell_type": "code",
   "execution_count": null,
   "metadata": {
    "collapsed": true
   },
   "outputs": [],
   "source": [
    "t_plot = 1200\n",
    "ax = plt.gca()\n",
    "ax.cla() # clear things for fresh plot\n",
    "ax.cla()\n",
    "ax.set_xlim([0,t_plot])\n",
    "ax.set_ylim([-4.,4.])\n",
    "plt.xlabel('time')\n",
    "plt.ylabel('$\\phi$')\n",
    "plt.plot(t[:t_plot], y_true[:t_plot], color='b')\n",
    "plt.plot(t[:t_plot], y_extr[:t_plot], color='r', linestyle='dashed')\n",
    "plt.savefig(\"extrapolated_mars.png\")\n",
    "plt.show()"
   ]
  },
  {
   "cell_type": "markdown",
   "metadata": {},
   "source": [
    "obviously fails... yet..."
   ]
  },
  {
   "cell_type": "code",
   "execution_count": null,
   "metadata": {
    "collapsed": true
   },
   "outputs": [],
   "source": []
  },
  {
   "cell_type": "code",
   "execution_count": null,
   "metadata": {
    "collapsed": true
   },
   "outputs": [],
   "source": []
  },
  {
   "cell_type": "markdown",
   "metadata": {},
   "source": [
    "## Complex planetary system"
   ]
  },
  {
   "cell_type": "markdown",
   "metadata": {},
   "source": [
    "Now we move to the system Gnos, where the motion of the celestial bodies is more confusing and harder to figure out."
   ]
  },
  {
   "cell_type": "code",
   "execution_count": null,
   "metadata": {
    "collapsed": true
   },
   "outputs": [],
   "source": [
    "import numpy as np\n",
    "import pandas as pd\n",
    "\n",
    "import matplotlib.pyplot as plt\n",
    "from Visualisations import *\n",
    "\n",
    "from Transformations import *\n",
    "import Generate as gen"
   ]
  },
  {
   "cell_type": "code",
   "execution_count": null,
   "metadata": {
    "collapsed": true
   },
   "outputs": [],
   "source": [
    "n_sim = 20000\n",
    "n_view = 10\n",
    "s = gen.System()\n",
    "s.force = s.force_double_sun\n",
    "s.add_body(x=[90., 82.], v=[-0.02, +0.067], m=0.00001)\n",
    "s.add_body(x=[70., 123.], v=[-0.07, +0.07], m=0.00001)\n",
    "s.add_body(x=[144., 76.], v=[-0.075, +0.075], m=0.00001)\n",
    "s.add_body(x=[174., 176.], v=[-0.025, +0.035], m=0.00001)\n",
    "s.add_body(x=[0., 0.], v=[0., 0.], m=1.)\n",
    "s.simulate(n_sim)\n",
    "s.view(0, n_view)"
   ]
  },
  {
   "cell_type": "code",
   "execution_count": null,
   "metadata": {
    "collapsed": true
   },
   "outputs": [],
   "source": []
  },
  {
   "cell_type": "markdown",
   "metadata": {},
   "source": [
    "### Visualise the system"
   ]
  },
  {
   "cell_type": "code",
   "execution_count": null,
   "metadata": {
    "collapsed": true
   },
   "outputs": [],
   "source": [
    "ax = plt.gca()\n",
    "ax.cla() # clear things for fresh plot\n",
    "ax.cla()\n",
    "ax.set_xlim([-220,220])\n",
    "ax.set_ylim([-220,220])\n",
    "plt.axes().set_aspect('equal')\n",
    "plt.xlabel('x (mm)')\n",
    "plt.ylabel('y (mm)')\n",
    "\n",
    "# Plot only every 't_res'th point, up to t_max\n",
    "t_res = 20\n",
    "t_max = 1200\n",
    "plot_orbit(ax, s, 0, t_max)\n",
    "plot_orbit(ax, s, 1, t_max)\n",
    "plot_position(ax, s, 0, t_res, t_max)\n",
    "plot_position(ax, s, 1, t_res, t_max)\n",
    "#plot_observation(ax,s,0,-1,t_res)\n",
    "plot_observation(ax,s,1,0,t_res, t_max)\n",
    "plt.savefig(\"orbits_binary.png\")\n",
    "plt.show()"
   ]
  },
  {
   "cell_type": "code",
   "execution_count": null,
   "metadata": {
    "collapsed": true
   },
   "outputs": [],
   "source": [
    "ax = plt.gca()\n",
    "ax.cla() # clear things for fresh plot\n",
    "ax.cla()\n",
    "ax.set_xlim([0,n_sim])\n",
    "ax.set_ylim([-4.,4.])\n",
    "plt.xlabel('time')\n",
    "plt.ylabel('$\\phi$')\n",
    "\n",
    "\n",
    "phis = s.get_phi(1)\n",
    "t = np.arange(0, n_sim/n_view)*n_view\n",
    "\n",
    "plt.plot(t, phis)\n",
    "plt.savefig(\"mars_angle_binary.png\")\n",
    "plt.show()"
   ]
  },
  {
   "cell_type": "code",
   "execution_count": null,
   "metadata": {
    "collapsed": true
   },
   "outputs": [],
   "source": [
    "n = 20\n",
    "phis = s.get_phi(1)\n",
    "phis /= np.pi\n",
    "series = make_time_series(phis, depth=n+1)\n",
    "y = series[:,n].reshape(-1,1)\n",
    "x = series[:,0:n].reshape(-1,n)"
   ]
  },
  {
   "cell_type": "code",
   "execution_count": null,
   "metadata": {
    "collapsed": true
   },
   "outputs": [],
   "source": [
    "from keras.layers import Input, Dense\n",
    "from keras.models import Model\n",
    "\n",
    "inputs = Input(shape=(n,), dtype='float', name='main_input')\n",
    "layer = Dense(90, activation='relu', kernel_initializer='normal')(inputs)\n",
    "layer = Dense(90, activation='relu', kernel_initializer='normal')(layer)\n",
    "predictions = Dense(1, kernel_initializer='normal')(layer)\n",
    "model = Model(inputs=inputs, outputs=predictions)\n",
    "model.compile(optimizer='adam',\n",
    "              loss='mean_squared_error')\n",
    "\n",
    "model.fit(x, y)"
   ]
  },
  {
   "cell_type": "code",
   "execution_count": null,
   "metadata": {
    "collapsed": true
   },
   "outputs": [],
   "source": [
    "t_max = 10000\n",
    "phis = s.get_phi(1)/np.pi\n",
    "series = make_time_series(phis, depth=n+1)\n",
    "y = series[:t_max,n].reshape(-1,1)\n",
    "x = series[:t_max,0:n].reshape(-1,n)\n",
    "y_pred = model.predict(x) * np.pi\n",
    "y_true = y * np.pi\n",
    "ax = plt.gca()\n",
    "ax.cla() # clear things for fresh plot\n",
    "ax.cla()\n",
    "ax.set_xlim([0,t_max])\n",
    "ax.set_ylim([-4.,4.])\n",
    "plt.xlabel('time')\n",
    "plt.ylabel('$\\phi$')\n",
    "plt.plot(t[:len(y_pred)], y_true, color='b')\n",
    "plt.plot(t[:len(y_pred)], y_pred, color='r', linestyle='dashed')\n",
    "plt.savefig(\"prediction_mars_binary.png\")\n",
    "plt.show()"
   ]
  },
  {
   "cell_type": "code",
   "execution_count": null,
   "metadata": {
    "collapsed": true
   },
   "outputs": [],
   "source": [
    "phis = s.get_phi(3)/np.pi\n",
    "series = make_time_series(phis, depth=n+1)\n",
    "y = series[:,n].reshape(-1,1)\n",
    "x = series[:,0:n].reshape(-1,n)\n",
    "y_pred = model.predict(x)*np.pi\n",
    "y_true = y*np.pi\n",
    "ax = plt.gca()\n",
    "ax.cla() # clear things for fresh plot\n",
    "ax.cla()\n",
    "ax.set_xlim([0,t_max])\n",
    "ax.set_ylim([-4.,4.])\n",
    "plt.xlabel('time')\n",
    "plt.ylabel('$\\phi$')\n",
    "plt.plot(t[:len(y_pred)], y_true, color='b')\n",
    "plt.plot(t[:len(y_pred)], y_pred, color='r', linestyle='dashed')\n",
    "plt.savefig(\"prediction_uranus_binary.png\")\n",
    "plt.show()"
   ]
  },
  {
   "cell_type": "code",
   "execution_count": null,
   "metadata": {
    "collapsed": true
   },
   "outputs": [],
   "source": []
  },
  {
   "cell_type": "code",
   "execution_count": null,
   "metadata": {
    "collapsed": true
   },
   "outputs": [],
   "source": []
  },
  {
   "cell_type": "code",
   "execution_count": null,
   "metadata": {
    "collapsed": true
   },
   "outputs": [],
   "source": []
  },
  {
   "cell_type": "code",
   "execution_count": null,
   "metadata": {
    "collapsed": true
   },
   "outputs": [],
   "source": []
  },
  {
   "cell_type": "code",
   "execution_count": null,
   "metadata": {
    "collapsed": true
   },
   "outputs": [],
   "source": []
  },
  {
   "cell_type": "code",
   "execution_count": null,
   "metadata": {
    "collapsed": true
   },
   "outputs": [],
   "source": []
  },
  {
   "cell_type": "markdown",
   "metadata": {
    "collapsed": true
   },
   "source": [
    "# Pendulum system"
   ]
  },
  {
   "cell_type": "code",
   "execution_count": null,
   "metadata": {
    "collapsed": true
   },
   "outputs": [],
   "source": [
    "import numpy as np\n",
    "import pandas as pd\n",
    "\n",
    "import matplotlib.pyplot as plt\n",
    "from Visualisations import *\n",
    "\n",
    "from Transformations import *\n",
    "import Generate as gen\n",
    "\n",
    "n_sim = 50000\n",
    "n_view = 50\n",
    "s = gen.System()\n",
    "s.force = s.force_pendulum_spring\n",
    "s.g = 0.\n",
    "s.k = 0.02\n",
    "s.f = -0.0000001\n",
    "s.add_body(x=[0., 0.], v=[0., 0.], m=1000000., stretch=0.)\n",
    "s.add_body(x=[-0.1, -0.4], v=[0., -0.], m=20000., stretch=0.)\n",
    "s.add_body(x=[-0.1, -0.5], v=[0., -0.], m=10., stretch=0.)\n",
    "\n",
    "s.simulate(n_sim)\n",
    "s.view(1, n_view)\n",
    "\n",
    "ax = plt.gca()\n",
    "ax.cla() # clear things for fresh plot\n",
    "ax.cla()\n",
    "ax.set_xlim([-0.5,0.5])\n",
    "ax.set_ylim([-0.9,0.2])\n",
    "plt.axes().set_aspect('equal')\n",
    "plt.xlabel('x (mm)')\n",
    "plt.ylabel('y (mm)')\n",
    "\n",
    "# Plot only every 't_res'th point, up to t_max\n",
    "t_res = 1\n",
    "t_max = 100\n",
    "plot_orbit(ax, s, 0)\n",
    "plot_orbit(ax, s, 1)\n",
    "plot_orbit(ax, s, 2)\n",
    "\n",
    "plot_position(ax, s, 0, t_res, t_max)\n",
    "plot_position(ax, s, 1, t_res, t_max)\n",
    "plot_position(ax, s, 2, t_res, t_max)\n",
    "\n",
    "plot_observation(ax,s,2,1, t_res, t_max)\n",
    "\n",
    "plt.savefig(\"orbits_pendulum_double_dense.png\")\n",
    "plt.show()"
   ]
  },
  {
   "cell_type": "code",
   "execution_count": null,
   "metadata": {
    "collapsed": true
   },
   "outputs": [],
   "source": [
    "# Plot only every 't_res'th point, up to t_max\n",
    "t_res = 20\n",
    "t_max = n_sim\n",
    "\n",
    "ax = plt.gca()\n",
    "ax.cla() # clear things for fresh plot\n",
    "ax.cla()\n",
    "ax.set_xlim([-0.5,0.5])\n",
    "ax.set_ylim([-0.9,0.2])\n",
    "plt.axes().set_aspect('equal')\n",
    "plt.xlabel('x (mm)')\n",
    "plt.ylabel('y (mm)')\n",
    "\n",
    "plot_orbit(ax, s, 0, t_max)\n",
    "plot_orbit(ax, s, 1, t_max)\n",
    "plot_orbit(ax, s, 2, t_max)\n",
    "\n",
    "plot_position(ax, s, 0, t_res, t_max)\n",
    "plot_position(ax, s, 1, t_res, t_max)\n",
    "plot_position(ax, s, 2, t_res, t_max)\n",
    "\n",
    "plot_observation(ax,s,2,1, t_res, t_max)\n",
    "plt.savefig(\"orbits_pendulum_double_rare.png\")\n",
    "plt.show()\n"
   ]
  },
  {
   "cell_type": "code",
   "execution_count": null,
   "metadata": {
    "collapsed": true
   },
   "outputs": [],
   "source": [
    "ax = plt.gca()\n",
    "ax.cla() # clear things for fresh plot\n",
    "ax.cla()\n",
    "ax.set_xlim([0,n_sim])\n",
    "ax.set_ylim([-4.,4.])\n",
    "plt.xlabel('time')\n",
    "plt.ylabel('$\\phi$')\n",
    "\n",
    "phis = s.get_phi(2)\n",
    "t = np.arange(0, n_sim/n_view)*n_view\n",
    "\n",
    "plt.plot(t, phis)\n",
    "plt.savefig(\"mars_angle_pendulum_double.png\")\n",
    "plt.show()"
   ]
  },
  {
   "cell_type": "code",
   "execution_count": null,
   "metadata": {
    "collapsed": true
   },
   "outputs": [],
   "source": []
  },
  {
   "cell_type": "code",
   "execution_count": null,
   "metadata": {
    "collapsed": true
   },
   "outputs": [],
   "source": []
  },
  {
   "cell_type": "code",
   "execution_count": null,
   "metadata": {
    "collapsed": true
   },
   "outputs": [],
   "source": []
  },
  {
   "cell_type": "code",
   "execution_count": null,
   "metadata": {
    "collapsed": true
   },
   "outputs": [],
   "source": [
    "import numpy as np\n",
    "import pandas as pd\n",
    "\n",
    "import matplotlib.pyplot as plt\n",
    "from Visualisations import *\n",
    "\n",
    "from Transformations import *\n",
    "import Generate as gen\n",
    "\n",
    "n_sim = 10000\n",
    "n_view = 100\n",
    "s = gen.System()\n",
    "s.force = s.force_pendulum_spring\n",
    "s.g = 0.\n",
    "s.k = 0.02\n",
    "s.f = -0.0000001\n",
    "s.add_body(x=[0., 0.], v=[0., 0.], m=100000., stretch=0.)\n",
    "s.add_body(x=[-0.1, -0.2], v=[0., -0.], m=2000., stretch=0.)\n",
    "s.add_body(x=[0., -0.5], v=[0., -0.], m=10., stretch=0.)\n",
    "s.add_body(x=[0.1, -0.6], v=[0., -0.], m=0.01, stretch=0.)\n",
    "\n",
    "s.simulate(n_sim)\n",
    "s.view(1, n_view)\n",
    "\n",
    "ax = plt.gca()\n",
    "ax.cla() # clear things for fresh plot\n",
    "ax.cla()\n",
    "ax.set_xlim([-0.5,0.5])\n",
    "ax.set_ylim([-0.9,0.2])\n",
    "plt.axes().set_aspect('equal')\n",
    "plt.xlabel('x (mm)')\n",
    "plt.ylabel('y (mm)')\n",
    "\n",
    "# Plot only every 't_res'th point, up to t_max\n",
    "t_res = 1\n",
    "t_max = 100\n",
    "plot_orbit(ax, s, 0)\n",
    "plot_orbit(ax, s, 1)\n",
    "plot_orbit(ax, s, 2)\n",
    "plot_orbit(ax, s, 3)\n",
    "\n",
    "plot_position(ax, s, 0, t_res, t_max)\n",
    "plot_position(ax, s, 1, t_res, t_max)\n",
    "plot_position(ax, s, 2, t_res, t_max)\n",
    "plot_position(ax, s, 3, t_res, t_max)\n",
    "\n",
    "plot_observation(ax,s,1,0, t_res, t_max)\n",
    "plot_observation(ax,s,2,1, t_res, t_max)\n",
    "plot_observation(ax,s,3,2, t_res, t_max)\n",
    "\n",
    "plt.savefig(\"orbits_pendulum.png\")\n",
    "plt.show()"
   ]
  },
  {
   "cell_type": "code",
   "execution_count": null,
   "metadata": {
    "collapsed": true
   },
   "outputs": [],
   "source": [
    "# Plot only every 't_res'th point, up to t_max\n",
    "t_res = 20\n",
    "t_max = 500\n",
    "\n",
    "ax = plt.gca()\n",
    "ax.cla() # clear things for fresh plot\n",
    "ax.cla()\n",
    "ax.set_xlim([-0.5,0.5])\n",
    "ax.set_ylim([-0.9,0.2])\n",
    "plt.axes().set_aspect('equal')\n",
    "plt.xlabel('x (mm)')\n",
    "plt.ylabel('y (mm)')\n",
    "\n",
    "plot_orbit(ax, s, 0, t_max)\n",
    "plot_orbit(ax, s, 1, t_max)\n",
    "plot_orbit(ax, s, 2, t_max)\n",
    "plot_orbit(ax, s, 3, t_max)\n",
    "\n",
    "plot_position(ax, s, 0, t_res, t_max)\n",
    "plot_position(ax, s, 1, t_res, t_max)\n",
    "plot_position(ax, s, 2, t_res, t_max)\n",
    "plot_position(ax, s, 3, t_res, t_max)\n",
    "\n",
    "plot_observation(ax,s,1,0, t_res, t_max)\n",
    "plot_observation(ax,s,2,1, t_res, t_max)\n",
    "plot_observation(ax,s,3,2, t_res, t_max)\n",
    "\n"
   ]
  },
  {
   "cell_type": "code",
   "execution_count": null,
   "metadata": {
    "collapsed": true
   },
   "outputs": [],
   "source": []
  },
  {
   "cell_type": "code",
   "execution_count": null,
   "metadata": {
    "collapsed": true
   },
   "outputs": [],
   "source": []
  },
  {
   "cell_type": "code",
   "execution_count": null,
   "metadata": {
    "collapsed": true
   },
   "outputs": [],
   "source": [
    "ax = plt.gca()\n",
    "ax.cla() # clear things for fresh plot\n",
    "ax.cla()\n",
    "ax.set_xlim([0,n_sim])\n",
    "ax.set_ylim([-4.,4.])\n",
    "plt.xlabel('time')\n",
    "plt.ylabel('$\\phi$')\n",
    "\n",
    "\n",
    "phis = s.get_phi(2)\n",
    "t = np.arange(0, n_sim/n_view)*n_view\n",
    "\n",
    "plt.plot(t, phis)\n",
    "plt.savefig(\"mars_angle_pendulum.png\")\n",
    "plt.show()"
   ]
  },
  {
   "cell_type": "code",
   "execution_count": null,
   "metadata": {
    "collapsed": true
   },
   "outputs": [],
   "source": [
    "n = 20\n",
    "phis = s.get_phi(1)\n",
    "phis /= np.pi\n",
    "series = make_time_series(phis, depth=n+1)\n",
    "y = series[:,n].reshape(-1,1)\n",
    "x = series[:,0:n].reshape(-1,n)"
   ]
  },
  {
   "cell_type": "code",
   "execution_count": null,
   "metadata": {
    "collapsed": true
   },
   "outputs": [],
   "source": [
    "from keras.layers import Input, Dense\n",
    "from keras.models import Model\n",
    "\n",
    "inputs = Input(shape=(n,), dtype='float', name='main_input')\n",
    "layer = Dense(90, activation='relu', kernel_initializer='normal')(inputs)\n",
    "layer = Dense(90, activation='relu', kernel_initializer='normal')(layer)\n",
    "predictions = Dense(1, kernel_initializer='normal')(layer)\n",
    "model = Model(inputs=inputs, outputs=predictions)\n",
    "model.compile(optimizer='adam',\n",
    "              loss='mean_squared_error')\n",
    "\n",
    "model.fit(x, y)"
   ]
  },
  {
   "cell_type": "code",
   "execution_count": null,
   "metadata": {
    "collapsed": true
   },
   "outputs": [],
   "source": [
    "t_max = 10000\n",
    "phis = s.get_phi(1)/np.pi\n",
    "series = make_time_series(phis, depth=n+1)\n",
    "y = series[:t_max,n].reshape(-1,1)\n",
    "x = series[:t_max,0:n].reshape(-1,n)\n",
    "y_pred = model.predict(x) * np.pi\n",
    "y_true = y * np.pi\n",
    "ax = plt.gca()\n",
    "ax.cla() # clear things for fresh plot\n",
    "ax.cla()\n",
    "ax.set_xlim([0,t_max])\n",
    "ax.set_ylim([-4.,4.])\n",
    "plt.xlabel('time')\n",
    "plt.ylabel('$\\phi$')\n",
    "plt.plot(t[:len(y_pred)], y_true, color='b')\n",
    "plt.plot(t[:len(y_pred)], y_pred, color='r', linestyle='dashed')\n",
    "plt.savefig(\"prediction_mars_pendulum.png\")\n",
    "plt.show()"
   ]
  },
  {
   "cell_type": "code",
   "execution_count": null,
   "metadata": {
    "collapsed": true
   },
   "outputs": [],
   "source": [
    "phis = s.get_phi(3)/np.pi\n",
    "series = make_time_series(phis, depth=n+1)\n",
    "y = series[:,n].reshape(-1,1)\n",
    "x = series[:,0:n].reshape(-1,n)\n",
    "y_pred = model.predict(x)*np.pi\n",
    "y_true = y*np.pi\n",
    "ax = plt.gca()\n",
    "ax.cla() # clear things for fresh plot\n",
    "ax.cla()\n",
    "ax.set_xlim([0,t_max])\n",
    "ax.set_ylim([-4.,4.])\n",
    "plt.xlabel('time')\n",
    "plt.ylabel('$\\phi$')\n",
    "plt.plot(t[:len(y_pred)], y_true, color='b')\n",
    "plt.plot(t[:len(y_pred)], y_pred, color='r', linestyle='dashed')\n",
    "plt.savefig(\"prediction_uranus_pendulum.png\")\n",
    "plt.show()"
   ]
  },
  {
   "cell_type": "code",
   "execution_count": null,
   "metadata": {
    "collapsed": true
   },
   "outputs": [],
   "source": []
  },
  {
   "cell_type": "code",
   "execution_count": null,
   "metadata": {
    "collapsed": true
   },
   "outputs": [],
   "source": []
  },
  {
   "cell_type": "code",
   "execution_count": null,
   "metadata": {
    "collapsed": true
   },
   "outputs": [],
   "source": []
  },
  {
   "cell_type": "code",
   "execution_count": null,
   "metadata": {
    "collapsed": true
   },
   "outputs": [],
   "source": []
  },
  {
   "cell_type": "code",
   "execution_count": null,
   "metadata": {
    "collapsed": true
   },
   "outputs": [],
   "source": []
  },
  {
   "cell_type": "code",
   "execution_count": null,
   "metadata": {
    "collapsed": true
   },
   "outputs": [],
   "source": []
  },
  {
   "cell_type": "code",
   "execution_count": null,
   "metadata": {
    "collapsed": true
   },
   "outputs": [],
   "source": []
  },
  {
   "cell_type": "code",
   "execution_count": null,
   "metadata": {
    "collapsed": true
   },
   "outputs": [],
   "source": []
  },
  {
   "cell_type": "code",
   "execution_count": null,
   "metadata": {
    "collapsed": true
   },
   "outputs": [],
   "source": []
  },
  {
   "cell_type": "code",
   "execution_count": null,
   "metadata": {
    "collapsed": true
   },
   "outputs": [],
   "source": []
  }
 ],
 "metadata": {
  "kernelspec": {
   "display_name": "Python 3",
   "language": "python",
   "name": "python3"
  },
  "language_info": {
   "codemirror_mode": {
    "name": "ipython",
    "version": 3
   },
   "file_extension": ".py",
   "mimetype": "text/x-python",
   "name": "python",
   "nbconvert_exporter": "python",
   "pygments_lexer": "ipython3",
   "version": "3.6.1"
  }
 },
 "nbformat": 4,
 "nbformat_minor": 2
}
