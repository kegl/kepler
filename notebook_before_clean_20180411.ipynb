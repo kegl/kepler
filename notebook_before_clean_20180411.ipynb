{
 "cells": [
  {
   "cell_type": "markdown",
   "metadata": {},
   "source": [
    "# Machine Astrophysics"
   ]
  },
  {
   "cell_type": "markdown",
   "metadata": {},
   "source": [
    "Introductory reading:\n",
    "https://otherful.wordpress.com/2018/02/14/gozogon-an-introduction/\n",
    "\n",
    "\"The story takes place on the planet Gozogon, on an S-type orbit around Gnos in the Gnoslor binary system.\n",
    "Except that the Gozogonians know very little about this because they have not discovered the physics of celestial objects, they don’t have a simple model of gravity.\n",
    "They do however know, and can predict with precision, the location of any of the bodies they see in the sky, thanks to their supercomputer systems, interlinked across the planet wherever there is life.\n",
    "\n",
    "In contrast to Earth, physics did not rise from the motion of celestial bodies...\n",
    "... the first science to develop was not astronomy, it was biology (if we expand it to include what the Earthlings call psychology, sociology, etc). Gozogon did raise many genius scientists, only not in the directions that we had on Earth. The intricate relations between members of a species, and across species, was a more urgent matter and that was where the animals used their brains to figure out first. Going deeper, they discovered chemistry and eventually, physics of particles at smaller and smaller scales. They were able to manipulate what they learned from nature to invent and create new lifeforms, among which the distinguished entity called RedRoot rose.\""
   ]
  },
  {
   "cell_type": "code",
   "execution_count": null,
   "metadata": {
    "collapsed": true
   },
   "outputs": [],
   "source": []
  },
  {
   "cell_type": "code",
   "execution_count": null,
   "metadata": {
    "collapsed": true
   },
   "outputs": [],
   "source": []
  },
  {
   "cell_type": "markdown",
   "metadata": {},
   "source": [
    "This study explores the discovery potential of learning systems, how the data can be converted into formulas."
   ]
  },
  {
   "cell_type": "code",
   "execution_count": null,
   "metadata": {
    "collapsed": true
   },
   "outputs": [],
   "source": []
  },
  {
   "cell_type": "code",
   "execution_count": null,
   "metadata": {
    "collapsed": true
   },
   "outputs": [],
   "source": []
  },
  {
   "cell_type": "code",
   "execution_count": null,
   "metadata": {
    "collapsed": true
   },
   "outputs": [],
   "source": []
  },
  {
   "cell_type": "markdown",
   "metadata": {},
   "source": [
    "## Mars retrograde detection"
   ]
  },
  {
   "cell_type": "markdown",
   "metadata": {},
   "source": [
    "The first case study is the retrograde motion of Mars from the perspective of Earth. This is a very simple system of two co-centric, almost circular, orbits where the external one appears to be moving backwards at certain times. \n",
    "\n",
    "Such a system was an important cornerstone in the history of astrophysics, that inspired Ptolemy for his epicycles to model the system, later to be replaced by a simpler model of Copernicus."
   ]
  },
  {
   "cell_type": "code",
   "execution_count": 1,
   "metadata": {
    "collapsed": true
   },
   "outputs": [],
   "source": [
    "import numpy as np\n",
    "import pandas as pd\n",
    "\n",
    "import matplotlib.pyplot as plt\n",
    "from Visualisations import *\n",
    "\n",
    "from Transformations import *\n",
    "import Generate as gen"
   ]
  },
  {
   "cell_type": "markdown",
   "metadata": {},
   "source": [
    "### Generate system\n",
    "\n",
    "We simulate a system of two planets, rotating around a motionless sun. The orbits will be chosen to be almost circular, the challenge mostly concentrating on the retrograde motion which suggests a concentric motion of the two planets.\n",
    "We will simulate the motion in 'n_sim' time steps, and sample every 'n_view'th of those steps as an observation point."
   ]
  },
  {
   "cell_type": "code",
   "execution_count": 2,
   "metadata": {},
   "outputs": [
    {
     "name": "stdout",
     "output_type": "stream",
     "text": [
      "Adding body with spring length :  0.0\n",
      "Adding body with spring length :  14.8660687473\n",
      "Adding body with spring length :  5.0\n",
      "Adding body with spring length :  141.421356237\n",
      "Adding body with spring length :  247.491413992\n"
     ]
    }
   ],
   "source": [
    "n_sim = 1000\n",
    "n_view = 10\n",
    "n_feat = 1\n",
    "s = gen.System()\n",
    "s.force = s.force_gravity\n",
    "s.generate(2)\n",
    "s.simulate(n_sim)\n",
    "s.view(0, n_view)"
   ]
  },
  {
   "cell_type": "code",
   "execution_count": null,
   "metadata": {
    "collapsed": true
   },
   "outputs": [],
   "source": []
  },
  {
   "cell_type": "code",
   "execution_count": null,
   "metadata": {
    "collapsed": true
   },
   "outputs": [],
   "source": []
  },
  {
   "cell_type": "code",
   "execution_count": null,
   "metadata": {
    "collapsed": true
   },
   "outputs": [],
   "source": []
  },
  {
   "cell_type": "markdown",
   "metadata": {},
   "source": [
    "### Visualise the system"
   ]
  },
  {
   "cell_type": "code",
   "execution_count": 3,
   "metadata": {},
   "outputs": [
    {
     "data": {
      "image/png": "[encoded data removed]",
      "text/plain": [
       "<matplotlib.figure.Figure at 0x10e325940>"
      ]
     },
     "metadata": {},
     "output_type": "display_data"
    }
   ],
   "source": [
    "ax = plt.gca()\n",
    "ax.cla() # clear things for fresh plot\n",
    "ax.cla()\n",
    "ax.set_xlim([-220,220])\n",
    "ax.set_ylim([-220,220])\n",
    "plt.axes().set_aspect('equal')\n",
    "plt.xlabel('x')\n",
    "plt.ylabel('y')\n",
    "\n",
    "# Plot only every 't_res'th point, up to t_max\n",
    "t_res = 30\n",
    "t_max = 800\n",
    "plot_orbit(ax, s, 0)\n",
    "plot_orbit(ax, s, 1)\n",
    "plot_orbit(ax, s, 2)\n",
    "plot_orbit(ax, s, 3)\n",
    "plot_orbit(ax, s, 4)\n",
    "plot_position(ax, s, 0, t_res, t_max)\n",
    "plot_position(ax, s, 1, t_res, t_max)\n",
    "plot_position(ax, s, 2, t_res, t_max)\n",
    "plot_position(ax, s, 3, t_res, t_max)\n",
    "plot_position(ax, s, 4, t_res, t_max)\n",
    "#plot_observation(ax,s,0,-1,t_res)\n",
    "plot_observation(ax,s,1,0,t_res, t_max)\n",
    "\n",
    "plt.show()\n",
    "plt.savefig(\"orbits.png\")"
   ]
  },
  {
   "cell_type": "code",
   "execution_count": null,
   "metadata": {
    "collapsed": true
   },
   "outputs": [],
   "source": []
  },
  {
   "cell_type": "code",
   "execution_count": null,
   "metadata": {
    "collapsed": true
   },
   "outputs": [],
   "source": []
  },
  {
   "cell_type": "markdown",
   "metadata": {},
   "source": [
    "### Observe the planet angle"
   ]
  },
  {
   "cell_type": "code",
   "execution_count": 4,
   "metadata": {},
   "outputs": [
    {
     "data": {
      "image/png": "[encoded data removed]",
      "text/plain": [
       "<matplotlib.figure.Figure at 0x1116939b0>"
      ]
     },
     "metadata": {},
     "output_type": "display_data"
    }
   ],
   "source": [
    "ax = plt.gca()\n",
    "ax.cla() # clear things for fresh plot\n",
    "ax.cla()\n",
    "ax.set_xlim([0,n_sim])\n",
    "ax.set_ylim([-4.,4.])\n",
    "plt.xlabel('time')\n",
    "plt.ylabel('$\\phi$')\n",
    "\n",
    "\n",
    "phis = s.get_phi(1)\n",
    "t = np.arange(0, n_sim/n_view)*n_view\n",
    "\n",
    "plt.plot(t, phis)\n",
    "plt.show()\n",
    "plt.savefig(\"angle_of_mars.png\")"
   ]
  },
  {
   "cell_type": "code",
   "execution_count": null,
   "metadata": {
    "collapsed": true
   },
   "outputs": [],
   "source": []
  },
  {
   "cell_type": "code",
   "execution_count": null,
   "metadata": {
    "collapsed": true
   },
   "outputs": [],
   "source": []
  },
  {
   "cell_type": "markdown",
   "metadata": {},
   "source": [
    "### Fit with a Ptolemian Model"
   ]
  },
  {
   "cell_type": "code",
   "execution_count": 5,
   "metadata": {
    "collapsed": true
   },
   "outputs": [],
   "source": [
    "import numpy as np\n",
    "import pandas as pd\n",
    "import matplotlib.pyplot as plt"
   ]
  },
  {
   "cell_type": "code",
   "execution_count": 6,
   "metadata": {
    "collapsed": true
   },
   "outputs": [],
   "source": [
    "# Analytic description of epicycles with radius a and rotation speed w at time t\n",
    "# t must not be an array\n",
    "\n",
    "def f_x(a, w, p, t):\n",
    "    return np.sum(a * np.cos(w * t + p))\n",
    "\n",
    "def f_y(a, w, p, t):\n",
    "    return np.sum(a * np.sin(w * t + p))\n",
    "\n",
    "def f_phi(a, w, p, t):\n",
    "    return np.arctan2(f_y(a, w, p, t), f_x(a, w, p, t))"
   ]
  },
  {
   "cell_type": "code",
   "execution_count": 7,
   "metadata": {
    "collapsed": true
   },
   "outputs": [],
   "source": [
    "#a = np.array([5., 3., 0.5])\n",
    "#w = np.array([0.5, 2., 7.])\n",
    "#p = np.array([0., 0., 0.])\n",
    "#phi = [f_phi(a, w, p, i) for i in t]\n",
    "#plt.plot(t, phi)\n",
    "#plt.show()"
   ]
  },
  {
   "cell_type": "code",
   "execution_count": 8,
   "metadata": {
    "collapsed": true
   },
   "outputs": [],
   "source": [
    "from scipy.optimize import minimize"
   ]
  },
  {
   "cell_type": "code",
   "execution_count": 9,
   "metadata": {
    "collapsed": true
   },
   "outputs": [],
   "source": [
    "def epicycle_error(c):\n",
    "    a = c[0::3]\n",
    "    w = c[1::3]\n",
    "    p = c[2::3]\n",
    "    phi_epi = [f_phi(a, w, p, i) for i in t]\n",
    "    return np.sum((np.unwrap(phis - phi_epi))**2)"
   ]
  },
  {
   "cell_type": "code",
   "execution_count": 10,
   "metadata": {},
   "outputs": [
    {
     "name": "stderr",
     "output_type": "stream",
     "text": [
      "/anaconda/envs/python36/lib/python3.6/site-packages/scipy/optimize/_minimize.py:394: RuntimeWarning: Method Nelder-Mead cannot handle constraints nor bounds.\n",
      "  RuntimeWarning)\n",
      "/anaconda/envs/python36/lib/python3.6/site-packages/ipykernel_launcher.py:9: OptimizeWarning: Unknown solver options: eps\n",
      "  if __name__ == '__main__':\n"
     ]
    }
   ],
   "source": [
    "c0 = np.array([74., 0.0014, 0., 87.,  0.0010, 0.])\n",
    "a_bnds = (70., 100.)\n",
    "w_bnds = (0.0007, 0.0016)\n",
    "p_bnds = (0., np.pi/2.)\n",
    "bnds = (a_bnds, w_bnds, p_bnds, a_bnds,  w_bnds, p_bnds)\n",
    "res = minimize(fun=epicycle_error, x0=c0,\n",
    "               method='Nelder-Mead', tol=1e-8,\n",
    "               bounds=bnds,\n",
    "               options={'xtol': 0.001, 'eps': 0.02, 'maxiter': 100000})"
   ]
  },
  {
   "cell_type": "code",
   "execution_count": 11,
   "metadata": {},
   "outputs": [
    {
     "data": {
      "image/png": "[encoded data removed]",
      "text/plain": [
       "<matplotlib.figure.Figure at 0x1117a3ba8>"
      ]
     },
     "metadata": {},
     "output_type": "display_data"
    }
   ],
   "source": [
    "c = res.x    \n",
    "a = c[0::3]\n",
    "w = c[1::3]\n",
    "p = c[2::3]\n",
    "phi_epi = [f_phi(a, w, p, i) for i in t]\n",
    "plt.scatter(t, phis)\n",
    "plt.plot(t, phi_epi, color='r', linestyle='dashed')\n",
    "plt.savefig(\"ptolemian_mars.png\")\n",
    "plt.show()"
   ]
  },
  {
   "cell_type": "code",
   "execution_count": 12,
   "metadata": {},
   "outputs": [
    {
     "data": {
      "text/plain": [
       "array([  1.66933434e-09,   7.10557679e-03,  -3.44250445e-05,\n",
       "         4.48079719e-09,   1.79133767e-03,   7.36498726e-03])"
      ]
     },
     "execution_count": 12,
     "metadata": {},
     "output_type": "execute_result"
    }
   ],
   "source": [
    "res.x"
   ]
  },
  {
   "cell_type": "code",
   "execution_count": 13,
   "metadata": {},
   "outputs": [
    {
     "data": {
      "text/plain": [
       " final_simplex: (array([[  1.66933434e-09,   7.10557679e-03,  -3.44250445e-05,\n",
       "          4.48079719e-09,   1.79133767e-03,   7.36498726e-03],\n",
       "       [  3.23998893e-09,   7.10557627e-03,  -3.44254173e-05,\n",
       "          8.69671964e-09,   1.79133752e-03,   7.36498703e-03],\n",
       "       [  1.89718279e-09,   7.10557629e-03,  -3.44254036e-05,\n",
       "          5.09238203e-09,   1.79133752e-03,   7.36498703e-03],\n",
       "       [  3.32534210e-09,   7.10557631e-03,  -3.44253991e-05,\n",
       "          8.92582885e-09,   1.79133753e-03,   7.36498705e-03],\n",
       "       [  4.10253743e-09,   7.10557656e-03,  -3.44252201e-05,\n",
       "          1.10119615e-08,   1.79133760e-03,   7.36498716e-03],\n",
       "       [  4.39583126e-09,   7.10557650e-03,  -3.44252660e-05,\n",
       "          1.17992145e-08,   1.79133758e-03,   7.36498713e-03],\n",
       "       [  1.94163484e-09,   7.10557648e-03,  -3.44252552e-05,\n",
       "          5.21170811e-09,   1.79133758e-03,   7.36498712e-03]]), array([ 8.08021605,  8.08021605,  8.08021605,  8.08021605,  8.08021605,\n",
       "        8.08021605,  8.08021605]))\n",
       "           fun: 8.0802160506565794\n",
       "       message: 'Optimization terminated successfully.'\n",
       "          nfev: 2415\n",
       "           nit: 1517\n",
       "        status: 0\n",
       "       success: True\n",
       "             x: array([  1.66933434e-09,   7.10557679e-03,  -3.44250445e-05,\n",
       "         4.48079719e-09,   1.79133767e-03,   7.36498726e-03])"
      ]
     },
     "execution_count": 13,
     "metadata": {},
     "output_type": "execute_result"
    }
   ],
   "source": [
    "res"
   ]
  },
  {
   "cell_type": "code",
   "execution_count": null,
   "metadata": {
    "collapsed": true
   },
   "outputs": [],
   "source": []
  },
  {
   "cell_type": "code",
   "execution_count": null,
   "metadata": {
    "collapsed": true
   },
   "outputs": [],
   "source": []
  },
  {
   "cell_type": "code",
   "execution_count": null,
   "metadata": {
    "collapsed": true
   },
   "outputs": [],
   "source": []
  },
  {
   "cell_type": "code",
   "execution_count": 14,
   "metadata": {},
   "outputs": [
    {
     "data": {
      "image/png": "[encoded data removed]",
      "text/plain": [
       "<matplotlib.figure.Figure at 0x112d1ffd0>"
      ]
     },
     "metadata": {},
     "output_type": "display_data"
    }
   ],
   "source": [
    "# fit by hand\n",
    "c = np.array( [21,   0.00153,  -0.3, 27,   0.00111,   0.01])\n",
    "a = c[0::3]\n",
    "w = c[1::3]\n",
    "p = c[2::3]\n",
    "phi_epi = [f_phi(a, w, p, i) for i in t]\n",
    "plt.scatter(t, phis)\n",
    "plt.plot(t, phi_epi, color='r', linestyle='dashed')\n",
    "plt.show()"
   ]
  },
  {
   "cell_type": "code",
   "execution_count": 15,
   "metadata": {},
   "outputs": [
    {
     "data": {
      "text/plain": [
       "array([-0.3 ,  0.01])"
      ]
     },
     "execution_count": 15,
     "metadata": {},
     "output_type": "execute_result"
    }
   ],
   "source": [
    "p"
   ]
  },
  {
   "cell_type": "code",
   "execution_count": null,
   "metadata": {
    "collapsed": true
   },
   "outputs": [],
   "source": []
  },
  {
   "cell_type": "code",
   "execution_count": null,
   "metadata": {
    "collapsed": true
   },
   "outputs": [],
   "source": []
  },
  {
   "cell_type": "code",
   "execution_count": null,
   "metadata": {
    "collapsed": true
   },
   "outputs": [],
   "source": []
  },
  {
   "cell_type": "code",
   "execution_count": null,
   "metadata": {
    "collapsed": true
   },
   "outputs": [],
   "source": []
  },
  {
   "cell_type": "code",
   "execution_count": null,
   "metadata": {
    "collapsed": true
   },
   "outputs": [],
   "source": []
  },
  {
   "cell_type": "code",
   "execution_count": null,
   "metadata": {
    "collapsed": true
   },
   "outputs": [],
   "source": []
  },
  {
   "cell_type": "code",
   "execution_count": null,
   "metadata": {
    "collapsed": true
   },
   "outputs": [],
   "source": []
  },
  {
   "cell_type": "code",
   "execution_count": null,
   "metadata": {
    "collapsed": true
   },
   "outputs": [],
   "source": []
  },
  {
   "cell_type": "code",
   "execution_count": null,
   "metadata": {
    "collapsed": true
   },
   "outputs": [],
   "source": []
  },
  {
   "cell_type": "markdown",
   "metadata": {},
   "source": [
    "### Predict the planet angle from time series "
   ]
  },
  {
   "cell_type": "code",
   "execution_count": 16,
   "metadata": {},
   "outputs": [
    {
     "name": "stderr",
     "output_type": "stream",
     "text": [
      "Using TensorFlow backend.\n"
     ]
    },
    {
     "name": "stdout",
     "output_type": "stream",
     "text": [
      "Epoch 1/5\n",
      "0s - loss: 0.0462\n",
      "Epoch 2/5\n",
      "0s - loss: 4.3617e-04\n",
      "Epoch 3/5\n",
      "0s - loss: 3.6418e-04\n",
      "Epoch 4/5\n",
      "0s - loss: 3.8859e-04\n",
      "Epoch 5/5\n",
      "0s - loss: 3.4282e-04\n"
     ]
    },
    {
     "data": {
      "text/plain": [
       "<keras.callbacks.History at 0x11d915f60>"
      ]
     },
     "execution_count": 16,
     "metadata": {},
     "output_type": "execute_result"
    }
   ],
   "source": [
    "n = 5\n",
    "phis = s.get_phi(1)/np.pi\n",
    "series = make_time_series(phis, depth=n+1)\n",
    "y = series[:,n].reshape(-1,1)\n",
    "x = series[:,0:n].reshape(-1,n)\n",
    "\n",
    "from keras.layers import Input, Dense\n",
    "from keras.models import Model\n",
    "\n",
    "inputs = Input(shape=(n,), dtype='float', name='main_input')\n",
    "layer = Dense(60, activation='relu', kernel_initializer='normal')(inputs)\n",
    "layer = Dense(15, activation='relu', kernel_initializer='normal')(layer)\n",
    "predictions = Dense(1, kernel_initializer='normal')(layer)\n",
    "model = Model(inputs=inputs, outputs=predictions)\n",
    "model.compile(optimizer='adam',\n",
    "              loss='mean_squared_error')\n",
    "\n",
    "model.fit(x, y, epochs=5, batch_size=1, verbose=2)"
   ]
  },
  {
   "cell_type": "code",
   "execution_count": 17,
   "metadata": {
    "collapsed": true
   },
   "outputs": [],
   "source": [
    "y_pred = model.predict(x)*np.pi\n",
    "y_true = y*np.pi"
   ]
  },
  {
   "cell_type": "code",
   "execution_count": 18,
   "metadata": {},
   "outputs": [
    {
     "data": {
      "image/png": "[encoded data removed]",
      "text/plain": [
       "<matplotlib.figure.Figure at 0x112d01a20>"
      ]
     },
     "metadata": {},
     "output_type": "display_data"
    }
   ],
   "source": [
    "ax = plt.gca()\n",
    "ax.cla() # clear things for fresh plot\n",
    "ax.cla()\n",
    "ax.set_xlim([0,n_sim])\n",
    "ax.set_ylim([-4.,4.])\n",
    "plt.xlabel('time')\n",
    "plt.ylabel('$\\phi$')\n",
    "plt.plot(t[:len(y_pred)], y_true, color='b')\n",
    "plt.plot(t[:len(y_pred)], y_pred, color='r', linestyle='dashed')\n",
    "plt.savefig(\"predicted_mars.png\")\n",
    "plt.show()"
   ]
  },
  {
   "cell_type": "code",
   "execution_count": null,
   "metadata": {
    "collapsed": true
   },
   "outputs": [],
   "source": []
  },
  {
   "cell_type": "code",
   "execution_count": 19,
   "metadata": {},
   "outputs": [
    {
     "name": "stdout",
     "output_type": "stream",
     "text": [
      "[0, 1, 2, 3, 4]\n"
     ]
    }
   ],
   "source": [
    "print([i for i in range(5)])"
   ]
  },
  {
   "cell_type": "code",
   "execution_count": null,
   "metadata": {
    "collapsed": true
   },
   "outputs": [],
   "source": []
  },
  {
   "cell_type": "markdown",
   "metadata": {},
   "source": [
    "### LSTM example"
   ]
  },
  {
   "cell_type": "code",
   "execution_count": 20,
   "metadata": {
    "collapsed": true
   },
   "outputs": [],
   "source": [
    "import matplotlib.pyplot as plt\n",
    "import pandas\n",
    "import math\n",
    "from keras.models import Sequential\n",
    "from keras.models import Model\n",
    "from keras.layers import Input, Dense\n",
    "from keras.layers import LSTM\n",
    "from sklearn.preprocessing import MinMaxScaler\n",
    "from sklearn.metrics import mean_squared_error"
   ]
  },
  {
   "cell_type": "code",
   "execution_count": 21,
   "metadata": {
    "collapsed": true
   },
   "outputs": [],
   "source": [
    "#scaler = MinMaxScaler(feature_range=(0, 1))\n",
    "#dataset = scaler.fit_transform(s.get_phi(1).reshape(-1, 1))"
   ]
  },
  {
   "cell_type": "code",
   "execution_count": 22,
   "metadata": {},
   "outputs": [],
   "source": [
    "def create_dataset(dataset, look_back=1):\n",
    "    x, y = np.ndarray(shape=(0, look_back, n_feat)), np.array([])\n",
    "    length = len(dataset) - look_back - 1\n",
    "    for i in range(length):\n",
    "        a = dataset[i:(i + look_back)].reshape(-1, look_back, n_feat)\n",
    "        x = np.concatenate((x, a), axis=0)\n",
    "        y = np.concatenate((y, [dataset[i + look_back, 0]]), axis=0)\n",
    "#    x = np.reshape(x, (x.shape[0], look_back, x.shape[1]))\n",
    "    return x, y\n",
    "\n",
    "# reshape input to be [samples, time steps, features]\n",
    "\n",
    "test = s.get_phi(1).reshape(-1, 1) / np.pi\n",
    "x, y = create_dataset(test, n)\n",
    "#x = np.reshape(x, (x.shape[0], 1, x.shape[1]))"
   ]
  },
  {
   "cell_type": "code",
   "execution_count": null,
   "metadata": {
    "collapsed": true
   },
   "outputs": [],
   "source": []
  },
  {
   "cell_type": "code",
   "execution_count": 23,
   "metadata": {},
   "outputs": [
    {
     "data": {
      "text/plain": [
       "(94, 5, 1)"
      ]
     },
     "execution_count": 23,
     "metadata": {},
     "output_type": "execute_result"
    }
   ],
   "source": [
    "x.shape"
   ]
  },
  {
   "cell_type": "code",
   "execution_count": 24,
   "metadata": {},
   "outputs": [
    {
     "data": {
      "text/plain": [
       "94"
      ]
     },
     "execution_count": 24,
     "metadata": {},
     "output_type": "execute_result"
    }
   ],
   "source": [
    "x.shape[0]"
   ]
  },
  {
   "cell_type": "code",
   "execution_count": 25,
   "metadata": {},
   "outputs": [
    {
     "data": {
      "text/plain": [
       "94"
      ]
     },
     "execution_count": 25,
     "metadata": {},
     "output_type": "execute_result"
    }
   ],
   "source": [
    "len(y)"
   ]
  },
  {
   "cell_type": "code",
   "execution_count": 26,
   "metadata": {},
   "outputs": [
    {
     "data": {
      "text/plain": [
       "470"
      ]
     },
     "execution_count": 26,
     "metadata": {},
     "output_type": "execute_result"
    }
   ],
   "source": [
    "94*5"
   ]
  },
  {
   "cell_type": "code",
   "execution_count": null,
   "metadata": {
    "collapsed": true
   },
   "outputs": [],
   "source": []
  },
  {
   "cell_type": "code",
   "execution_count": 27,
   "metadata": {},
   "outputs": [
    {
     "name": "stdout",
     "output_type": "stream",
     "text": [
      "Epoch 1/5\n",
      "1s - loss: 0.0304\n",
      "Epoch 2/5\n",
      "1s - loss: 5.7967e-04\n",
      "Epoch 3/5\n",
      "1s - loss: 3.9757e-04\n",
      "Epoch 4/5\n",
      "1s - loss: 3.6614e-04\n",
      "Epoch 5/5\n",
      "1s - loss: 3.8833e-04\n"
     ]
    },
    {
     "data": {
      "text/plain": [
       "<keras.callbacks.History at 0x11fef4eb8>"
      ]
     },
     "execution_count": 27,
     "metadata": {},
     "output_type": "execute_result"
    }
   ],
   "source": [
    "# create and fit the LSTM network\n",
    "#model = Sequential()\n",
    "#model.add(LSTM(4, input_shape=(1, look_back)))\n",
    "#model.add(Dense(1))\n",
    "#model.compile(loss='mean_squared_error', optimizer='adam')\n",
    "#model.fit(x, y, epochs=5, batch_size=1, verbose=2)\n",
    "\n",
    "inputs = Input(shape=(n, 1), dtype='float', name='main_input')\n",
    "#inputs = Input(shape=(1, n), dtype='float', name='main_input')\n",
    "# why not (n, 1) ?\n",
    "# CHECK THIS! FEATURES VS TIMESTEPS\n",
    "\n",
    "layer = LSTM(4)(inputs)\n",
    "predictions = Dense(1)(layer)\n",
    "model = Model(inputs=inputs, outputs=predictions)\n",
    "model.compile(optimizer='adam',\n",
    "              loss='mean_squared_error')\n",
    "\n",
    "model.fit(x, y, epochs=5, batch_size=1, verbose=2)\n"
   ]
  },
  {
   "cell_type": "code",
   "execution_count": 28,
   "metadata": {},
   "outputs": [
    {
     "data": {
      "text/plain": [
       "5"
      ]
     },
     "execution_count": 28,
     "metadata": {},
     "output_type": "execute_result"
    }
   ],
   "source": [
    "n"
   ]
  },
  {
   "cell_type": "code",
   "execution_count": 29,
   "metadata": {},
   "outputs": [],
   "source": [
    "y_pred = model.predict(x) * np.pi\n",
    "y_true = y * np.pi"
   ]
  },
  {
   "cell_type": "code",
   "execution_count": 30,
   "metadata": {},
   "outputs": [
    {
     "data": {
      "image/png": "[encoded data removed]",
      "text/plain": [
       "<matplotlib.figure.Figure at 0x1200a45f8>"
      ]
     },
     "metadata": {},
     "output_type": "display_data"
    }
   ],
   "source": [
    "ax = plt.gca()\n",
    "ax.cla() # clear things for fresh plot\n",
    "ax.cla()\n",
    "ax.set_xlim([0,n_sim])\n",
    "ax.set_ylim([-4.,4.])\n",
    "plt.xlabel('time')\n",
    "plt.ylabel('$\\phi$')\n",
    "plt.plot(t[:len(y_pred)], y_true, color='b')\n",
    "plt.plot(t[:len(y_pred)], y_pred, color='r', linestyle='dashed')\n",
    "plt.savefig(\"predicted_lstm.png\")\n",
    "plt.show()"
   ]
  },
  {
   "cell_type": "code",
   "execution_count": null,
   "metadata": {
    "collapsed": true
   },
   "outputs": [],
   "source": []
  },
  {
   "cell_type": "code",
   "execution_count": null,
   "metadata": {
    "collapsed": true
   },
   "outputs": [],
   "source": []
  },
  {
   "cell_type": "code",
   "execution_count": null,
   "metadata": {
    "collapsed": true
   },
   "outputs": [],
   "source": []
  },
  {
   "cell_type": "code",
   "execution_count": null,
   "metadata": {
    "collapsed": true
   },
   "outputs": [],
   "source": []
  },
  {
   "cell_type": "code",
   "execution_count": null,
   "metadata": {
    "collapsed": true
   },
   "outputs": [],
   "source": []
  },
  {
   "cell_type": "code",
   "execution_count": null,
   "metadata": {
    "collapsed": true
   },
   "outputs": [],
   "source": []
  },
  {
   "cell_type": "code",
   "execution_count": null,
   "metadata": {
    "collapsed": true
   },
   "outputs": [],
   "source": []
  },
  {
   "cell_type": "code",
   "execution_count": null,
   "metadata": {
    "collapsed": true
   },
   "outputs": [],
   "source": []
  },
  {
   "cell_type": "markdown",
   "metadata": {
    "collapsed": true
   },
   "source": [
    "### Look at another planet, with previous training"
   ]
  },
  {
   "cell_type": "code",
   "execution_count": null,
   "metadata": {
    "collapsed": true
   },
   "outputs": [],
   "source": []
  },
  {
   "cell_type": "code",
   "execution_count": null,
   "metadata": {
    "collapsed": true
   },
   "outputs": [],
   "source": []
  },
  {
   "cell_type": "code",
   "execution_count": 31,
   "metadata": {
    "collapsed": true
   },
   "outputs": [],
   "source": [
    "phis = s.get_phi(2).reshape(-1,1)\n",
    "#series = make_time_series(phis, depth=n+1)\n",
    "#y = series[:,n].reshape(-1,1)\n",
    "#x = series[:,0:n].reshape(-1,n)\n",
    "x, y = create_dataset(phis/np.pi, n)\n",
    "#x = np.reshape(x, (x.shape[0], 1, x.shape[1]))\n",
    "\n",
    "y_pred = model.predict(x) * np.pi\n",
    "y_true = y * np.pi"
   ]
  },
  {
   "cell_type": "code",
   "execution_count": 32,
   "metadata": {},
   "outputs": [
    {
     "data": {
      "image/png": "[encoded data removed]",
      "text/plain": [
       "<matplotlib.figure.Figure at 0x1207a0ac8>"
      ]
     },
     "metadata": {},
     "output_type": "display_data"
    }
   ],
   "source": [
    "ax = plt.gca()\n",
    "ax.cla() # clear things for fresh plot\n",
    "ax.cla()\n",
    "ax.set_xlim([0,n_sim])\n",
    "ax.set_ylim([-4.,4.])\n",
    "plt.xlabel('time')\n",
    "plt.ylabel('$\\phi$')\n",
    "plt.plot(t[:len(y_pred)], y_true, color='b')\n",
    "plt.plot(t[:len(y_pred)], y_pred, color='r', linestyle='dashed')\n",
    "plt.savefig(\"predicted_uranus.png\")\n",
    "plt.show()"
   ]
  },
  {
   "cell_type": "code",
   "execution_count": null,
   "metadata": {
    "collapsed": true
   },
   "outputs": [],
   "source": []
  },
  {
   "cell_type": "markdown",
   "metadata": {},
   "source": [
    "### Fit this planet with Ptolemian model"
   ]
  },
  {
   "cell_type": "code",
   "execution_count": 33,
   "metadata": {
    "scrolled": true
   },
   "outputs": [
    {
     "name": "stderr",
     "output_type": "stream",
     "text": [
      "/anaconda/envs/python36/lib/python3.6/site-packages/scipy/optimize/_minimize.py:394: RuntimeWarning: Method Nelder-Mead cannot handle constraints nor bounds.\n",
      "  RuntimeWarning)\n",
      "/anaconda/envs/python36/lib/python3.6/site-packages/ipykernel_launcher.py:9: OptimizeWarning: Unknown solver options: eps\n",
      "  if __name__ == '__main__':\n"
     ]
    }
   ],
   "source": [
    "c0 = np.array([74., 0.0014, 0., 87.,  0.001, 0., 20., 0.001, 0.])\n",
    "a_bnds = (20., 100.)\n",
    "w_bnds = (0.0001, 0.0016)\n",
    "p_bnds = (0., np.pi/2.)\n",
    "bnds = (a_bnds, w_bnds, p_bnds, a_bnds,  w_bnds, p_bnds, a_bnds,  w_bnds, p_bnds)\n",
    "res = minimize(fun=epicycle_error, x0=c0,\n",
    "               method='Nelder-Mead', tol=1e-8,\n",
    "               bounds=bnds,\n",
    "               options={'xtol': 0.001, 'eps': 0.2, 'maxiter': 100000})"
   ]
  },
  {
   "cell_type": "code",
   "execution_count": 34,
   "metadata": {},
   "outputs": [
    {
     "data": {
      "image/png": "[encoded data removed]",
      "text/plain": [
       "<matplotlib.figure.Figure at 0x120734eb8>"
      ]
     },
     "metadata": {},
     "output_type": "display_data"
    }
   ],
   "source": [
    "c = res.x    \n",
    "a = c[0::3]\n",
    "w = c[1::3]\n",
    "p = c[2::3]\n",
    "phi_epi = [f_phi(a, w, p, i) for i in t]\n",
    "plt.plot(t, phis)\n",
    "plt.plot(t, phi_epi, color='r', linestyle='dashed')\n",
    "plt.show()\n",
    "plt.savefig(\"ptolemian_uranus.png\")"
   ]
  },
  {
   "cell_type": "code",
   "execution_count": 35,
   "metadata": {
    "collapsed": true
   },
   "outputs": [],
   "source": [
    "c0 = np.array([74., 0.0014, 0., 87.,  0.001, 0., 20., 0.001, 0.])\n",
    "p = c0[0::1]"
   ]
  },
  {
   "cell_type": "code",
   "execution_count": 36,
   "metadata": {},
   "outputs": [
    {
     "data": {
      "text/plain": [
       "array([ -5.56923172e-11,   2.25153947e-03,   5.14001340e-03,\n",
       "        -1.31191239e-08,   1.36143897e-03,   2.12847203e-03,\n",
       "         1.32072486e-08,   1.36011649e-03,   5.77369756e-03])"
      ]
     },
     "execution_count": 36,
     "metadata": {},
     "output_type": "execute_result"
    }
   ],
   "source": [
    "c"
   ]
  },
  {
   "cell_type": "code",
   "execution_count": null,
   "metadata": {
    "collapsed": true
   },
   "outputs": [],
   "source": []
  },
  {
   "cell_type": "code",
   "execution_count": null,
   "metadata": {
    "collapsed": true
   },
   "outputs": [],
   "source": []
  },
  {
   "cell_type": "code",
   "execution_count": null,
   "metadata": {
    "collapsed": true
   },
   "outputs": [],
   "source": []
  },
  {
   "cell_type": "code",
   "execution_count": null,
   "metadata": {
    "collapsed": true
   },
   "outputs": [],
   "source": []
  },
  {
   "cell_type": "code",
   "execution_count": null,
   "metadata": {
    "collapsed": true
   },
   "outputs": [],
   "source": []
  },
  {
   "cell_type": "markdown",
   "metadata": {},
   "source": [
    "### Repeat all with a much farther planet"
   ]
  },
  {
   "cell_type": "code",
   "execution_count": 37,
   "metadata": {},
   "outputs": [
    {
     "data": {
      "image/png": "[encoded data removed]",
      "text/plain": [
       "<matplotlib.figure.Figure at 0x1203a6e80>"
      ]
     },
     "metadata": {},
     "output_type": "display_data"
    }
   ],
   "source": [
    "phis = s.get_phi(3)/np.pi\n",
    "series = make_time_series(phis, depth=n+1)\n",
    "#y = series[:,n].reshape(-1,1)\n",
    "#x = series[:,0:n].reshape(-1,n)\n",
    "phis = s.get_phi(2).reshape(-1,1)\n",
    "#series = make_time_series(phis, depth=n+1)\n",
    "#y = series[:,n].reshape(-1,1)\n",
    "#x = series[:,0:n].reshape(-1,n)\n",
    "x, y = create_dataset(phis/np.pi, n)\n",
    "#x = np.reshape(x, (x.shape[0], 1, x.shape[1]))\n",
    "y_pred = model.predict(x) * np.pi\n",
    "y_true = y * np.pi\n",
    "ax = plt.gca()\n",
    "ax.cla() # clear things for fresh plot\n",
    "ax.cla()\n",
    "ax.set_xlim([0,n_sim])\n",
    "ax.set_ylim([-4.,4.])\n",
    "plt.xlabel('time')\n",
    "plt.ylabel('$\\phi$')\n",
    "plt.plot(t[:len(y_pred)], y_true, color='b')\n",
    "plt.plot(t[:len(y_pred)], y_pred, color='r', linestyle='dashed')\n",
    "plt.savefig(\"predicted_pluto.png\")\n",
    "plt.show()"
   ]
  },
  {
   "cell_type": "code",
   "execution_count": null,
   "metadata": {
    "collapsed": true
   },
   "outputs": [],
   "source": []
  },
  {
   "cell_type": "code",
   "execution_count": null,
   "metadata": {
    "collapsed": true
   },
   "outputs": [],
   "source": []
  },
  {
   "cell_type": "code",
   "execution_count": null,
   "metadata": {},
   "outputs": [],
   "source": []
  },
  {
   "cell_type": "code",
   "execution_count": null,
   "metadata": {
    "collapsed": true
   },
   "outputs": [],
   "source": []
  },
  {
   "cell_type": "markdown",
   "metadata": {},
   "source": [
    "### Long time extrapolation"
   ]
  },
  {
   "cell_type": "code",
   "execution_count": 61,
   "metadata": {},
   "outputs": [
    {
     "name": "stdout",
     "output_type": "stream",
     "text": [
      "[[[ 0.2652901 ]\n",
      "  [ 0.26671951]\n",
      "  [ 0.26813118]\n",
      "  [ 0.26952532]\n",
      "  [ 0.27090216]]]\n",
      "prediction :  [[ 0.30701143]]\n",
      "[[[ 0.26671951]\n",
      "  [ 0.26813118]\n",
      "  [ 0.26952532]\n",
      "  [ 0.27090216]\n",
      "  [ 0.30701143]]]\n",
      "prediction :  [[ 0.31213751]]\n",
      "[[[ 0.26813118]\n",
      "  [ 0.26952532]\n",
      "  [ 0.27090216]\n",
      "  [ 0.30701143]\n",
      "  [ 0.31213751]]]\n",
      "prediction :  [[ 0.31716821]]\n",
      "[[[ 0.26952532]\n",
      "  [ 0.27090216]\n",
      "  [ 0.30701143]\n",
      "  [ 0.31213751]\n",
      "  [ 0.31716821]]]\n",
      "prediction :  [[ 0.32205766]]\n",
      "[[[ 0.27090216]\n",
      "  [ 0.30701143]\n",
      "  [ 0.31213751]\n",
      "  [ 0.31716821]\n",
      "  [ 0.32205766]]]\n",
      "prediction :  [[ 0.32677865]]\n",
      "[[[ 0.30701143]\n",
      "  [ 0.31213751]\n",
      "  [ 0.31716821]\n",
      "  [ 0.32205766]\n",
      "  [ 0.32677865]]]\n",
      "prediction :  [[ 0.33130491]]\n",
      "[[[ 0.31213751]\n",
      "  [ 0.31716821]\n",
      "  [ 0.32205766]\n",
      "  [ 0.32677865]\n",
      "  [ 0.33130491]]]\n",
      "prediction :  [[ 0.33360267]]\n",
      "[[[ 0.31716821]\n",
      "  [ 0.32205766]\n",
      "  [ 0.32677865]\n",
      "  [ 0.33130491]\n",
      "  [ 0.33360267]]]\n",
      "prediction :  [[ 0.33556226]]\n",
      "[[[ 0.32205766]\n",
      "  [ 0.32677865]\n",
      "  [ 0.33130491]\n",
      "  [ 0.33360267]\n",
      "  [ 0.33556226]]]\n",
      "prediction :  [[ 0.33719254]]\n",
      "[[[ 0.32677865]\n",
      "  [ 0.33130491]\n",
      "  [ 0.33360267]\n",
      "  [ 0.33556226]\n",
      "  [ 0.33719254]]]\n",
      "prediction :  [[ 0.33850631]]\n",
      "[[[ 0.33130491]\n",
      "  [ 0.33360267]\n",
      "  [ 0.33556226]\n",
      "  [ 0.33719254]\n",
      "  [ 0.33850631]]]\n",
      "prediction :  [[ 0.3395195]]\n",
      "[[[ 0.33360267]\n",
      "  [ 0.33556226]\n",
      "  [ 0.33719254]\n",
      "  [ 0.33850631]\n",
      "  [ 0.3395195 ]]]\n",
      "prediction :  [[ 0.34025028]]\n",
      "[[[ 0.33556226]\n",
      "  [ 0.33719254]\n",
      "  [ 0.33850631]\n",
      "  [ 0.3395195 ]\n",
      "  [ 0.34025028]]]\n",
      "prediction :  [[ 0.34083471]]\n",
      "[[[ 0.33719254]\n",
      "  [ 0.33850631]\n",
      "  [ 0.3395195 ]\n",
      "  [ 0.34025028]\n",
      "  [ 0.34083471]]]\n",
      "prediction :  [[ 0.34129477]]\n",
      "[[[ 0.33850631]\n",
      "  [ 0.3395195 ]\n",
      "  [ 0.34025028]\n",
      "  [ 0.34083471]\n",
      "  [ 0.34129477]]]\n",
      "prediction :  [[ 0.34165183]]\n",
      "[[[ 0.3395195 ]\n",
      "  [ 0.34025028]\n",
      "  [ 0.34083471]\n",
      "  [ 0.34129477]\n",
      "  [ 0.34165183]]]\n",
      "prediction :  [[ 0.34192616]]\n",
      "[[[ 0.34025028]\n",
      "  [ 0.34083471]\n",
      "  [ 0.34129477]\n",
      "  [ 0.34165183]\n",
      "  [ 0.34192616]]]\n",
      "prediction :  [[ 0.34213689]]\n",
      "[[[ 0.34083471]\n",
      "  [ 0.34129477]\n",
      "  [ 0.34165183]\n",
      "  [ 0.34192616]\n",
      "  [ 0.34213689]]]\n",
      "prediction :  [[ 0.34230149]]\n",
      "[[[ 0.34129477]\n",
      "  [ 0.34165183]\n",
      "  [ 0.34192616]\n",
      "  [ 0.34213689]\n",
      "  [ 0.34230149]]]\n",
      "prediction :  [[ 0.34242934]]\n",
      "[[[ 0.34165183]\n",
      "  [ 0.34192616]\n",
      "  [ 0.34213689]\n",
      "  [ 0.34230149]\n",
      "  [ 0.34242934]]]\n",
      "prediction :  [[ 0.34252816]]\n",
      "[[[ 0.34192616]\n",
      "  [ 0.34213689]\n",
      "  [ 0.34230149]\n",
      "  [ 0.34242934]\n",
      "  [ 0.34252816]]]\n",
      "prediction :  [[ 0.34260458]]\n",
      "[[[ 0.34213689]\n",
      "  [ 0.34230149]\n",
      "  [ 0.34242934]\n",
      "  [ 0.34252816]\n",
      "  [ 0.34260458]]]\n",
      "prediction :  [[ 0.34266376]]\n",
      "[[[ 0.34230149]\n",
      "  [ 0.34242934]\n",
      "  [ 0.34252816]\n",
      "  [ 0.34260458]\n",
      "  [ 0.34266376]]]\n",
      "prediction :  [[ 0.34270966]]\n",
      "[[[ 0.34242934]\n",
      "  [ 0.34252816]\n",
      "  [ 0.34260458]\n",
      "  [ 0.34266376]\n",
      "  [ 0.34270966]]]\n",
      "prediction :  [[ 0.34274524]]\n",
      "[[[ 0.34252816]\n",
      "  [ 0.34260458]\n",
      "  [ 0.34266376]\n",
      "  [ 0.34270966]\n",
      "  [ 0.34274524]]]\n",
      "prediction :  [[ 0.34277278]]\n",
      "[[[ 0.34260458]\n",
      "  [ 0.34266376]\n",
      "  [ 0.34270966]\n",
      "  [ 0.34274524]\n",
      "  [ 0.34277278]]]\n",
      "prediction :  [[ 0.34279406]]\n",
      "[[[ 0.34266376]\n",
      "  [ 0.34270966]\n",
      "  [ 0.34274524]\n",
      "  [ 0.34277278]\n",
      "  [ 0.34279406]]]\n",
      "prediction :  [[ 0.34281054]]\n",
      "[[[ 0.34270966]\n",
      "  [ 0.34274524]\n",
      "  [ 0.34277278]\n",
      "  [ 0.34279406]\n",
      "  [ 0.34281054]]]\n",
      "prediction :  [[ 0.34282336]]\n",
      "[[[ 0.34274524]\n",
      "  [ 0.34277278]\n",
      "  [ 0.34279406]\n",
      "  [ 0.34281054]\n",
      "  [ 0.34282336]]]\n",
      "prediction :  [[ 0.34283325]]\n",
      "[[[ 0.34277278]\n",
      "  [ 0.34279406]\n",
      "  [ 0.34281054]\n",
      "  [ 0.34282336]\n",
      "  [ 0.34283325]]]\n",
      "prediction :  [[ 0.34284094]]\n",
      "[[[ 0.34279406]\n",
      "  [ 0.34281054]\n",
      "  [ 0.34282336]\n",
      "  [ 0.34283325]\n",
      "  [ 0.34284094]]]\n",
      "prediction :  [[ 0.34284687]]\n",
      "[[[ 0.34281054]\n",
      "  [ 0.34282336]\n",
      "  [ 0.34283325]\n",
      "  [ 0.34284094]\n",
      "  [ 0.34284687]]]\n",
      "prediction :  [[ 0.34285149]]\n",
      "[[[ 0.34282336]\n",
      "  [ 0.34283325]\n",
      "  [ 0.34284094]\n",
      "  [ 0.34284687]\n",
      "  [ 0.34285149]]]\n",
      "prediction :  [[ 0.34285504]]\n",
      "[[[ 0.34283325]\n",
      "  [ 0.34284094]\n",
      "  [ 0.34284687]\n",
      "  [ 0.34285149]\n",
      "  [ 0.34285504]]]\n",
      "prediction :  [[ 0.34285784]]\n",
      "[[[ 0.34284094]\n",
      "  [ 0.34284687]\n",
      "  [ 0.34285149]\n",
      "  [ 0.34285504]\n",
      "  [ 0.34285784]]]\n",
      "prediction :  [[ 0.34285992]]\n",
      "[[[ 0.34284687]\n",
      "  [ 0.34285149]\n",
      "  [ 0.34285504]\n",
      "  [ 0.34285784]\n",
      "  [ 0.34285992]]]\n",
      "prediction :  [[ 0.34286159]]\n",
      "[[[ 0.34285149]\n",
      "  [ 0.34285504]\n",
      "  [ 0.34285784]\n",
      "  [ 0.34285992]\n",
      "  [ 0.34286159]]]\n",
      "prediction :  [[ 0.34286287]]\n",
      "[[[ 0.34285504]\n",
      "  [ 0.34285784]\n",
      "  [ 0.34285992]\n",
      "  [ 0.34286159]\n",
      "  [ 0.34286287]]]\n",
      "prediction :  [[ 0.34286386]]\n",
      "[[[ 0.34285784]\n",
      "  [ 0.34285992]\n",
      "  [ 0.34286159]\n",
      "  [ 0.34286287]\n",
      "  [ 0.34286386]]]\n",
      "prediction :  [[ 0.34286466]]\n",
      "[[[ 0.34285992]\n",
      "  [ 0.34286159]\n",
      "  [ 0.34286287]\n",
      "  [ 0.34286386]\n",
      "  [ 0.34286466]]]\n",
      "prediction :  [[ 0.34286523]]\n",
      "[[[ 0.34286159]\n",
      "  [ 0.34286287]\n",
      "  [ 0.34286386]\n",
      "  [ 0.34286466]\n",
      "  [ 0.34286523]]]\n",
      "prediction :  [[ 0.34286568]]\n",
      "[[[ 0.34286287]\n",
      "  [ 0.34286386]\n",
      "  [ 0.34286466]\n",
      "  [ 0.34286523]\n",
      "  [ 0.34286568]]]\n",
      "prediction :  [[ 0.34286603]]\n",
      "[[[ 0.34286386]\n",
      "  [ 0.34286466]\n",
      "  [ 0.34286523]\n",
      "  [ 0.34286568]\n",
      "  [ 0.34286603]]]\n",
      "prediction :  [[ 0.34286633]]\n",
      "[[[ 0.34286466]\n",
      "  [ 0.34286523]\n",
      "  [ 0.34286568]\n",
      "  [ 0.34286603]\n",
      "  [ 0.34286633]]]\n",
      "prediction :  [[ 0.34286654]]\n",
      "[[[ 0.34286523]\n",
      "  [ 0.34286568]\n",
      "  [ 0.34286603]\n",
      "  [ 0.34286633]\n",
      "  [ 0.34286654]]]\n",
      "prediction :  [[ 0.34286672]]\n",
      "[[[ 0.34286568]\n",
      "  [ 0.34286603]\n",
      "  [ 0.34286633]\n",
      "  [ 0.34286654]\n",
      "  [ 0.34286672]]]\n",
      "prediction :  [[ 0.34286684]]\n",
      "[[[ 0.34286603]\n",
      "  [ 0.34286633]\n",
      "  [ 0.34286654]\n",
      "  [ 0.34286672]\n",
      "  [ 0.34286684]]]\n",
      "prediction :  [[ 0.34286693]]\n",
      "[[[ 0.34286633]\n",
      "  [ 0.34286654]\n",
      "  [ 0.34286672]\n",
      "  [ 0.34286684]\n",
      "  [ 0.34286693]]]\n",
      "prediction :  [[ 0.34286702]]\n",
      "[[[ 0.34286654]\n",
      "  [ 0.34286672]\n",
      "  [ 0.34286684]\n",
      "  [ 0.34286693]\n",
      "  [ 0.34286702]]]\n",
      "prediction :  [[ 0.34286711]]\n",
      "[[[ 0.34286672]\n",
      "  [ 0.34286684]\n",
      "  [ 0.34286693]\n",
      "  [ 0.34286702]\n",
      "  [ 0.34286711]]]\n",
      "prediction :  [[ 0.34286717]]\n",
      "[[[ 0.34286684]\n",
      "  [ 0.34286693]\n",
      "  [ 0.34286702]\n",
      "  [ 0.34286711]\n",
      "  [ 0.34286717]]]\n",
      "prediction :  [[ 0.34286717]]\n",
      "[[[ 0.34286693]\n",
      "  [ 0.34286702]\n",
      "  [ 0.34286711]\n",
      "  [ 0.34286717]\n",
      "  [ 0.34286717]]]\n",
      "prediction :  [[ 0.3428672]]\n",
      "[[[ 0.34286702]\n",
      "  [ 0.34286711]\n",
      "  [ 0.34286717]\n",
      "  [ 0.34286717]\n",
      "  [ 0.3428672 ]]]\n",
      "prediction :  [[ 0.34286723]]\n",
      "[[[ 0.34286711]\n",
      "  [ 0.34286717]\n",
      "  [ 0.34286717]\n",
      "  [ 0.3428672 ]\n",
      "  [ 0.34286723]]]\n",
      "prediction :  [[ 0.34286729]]\n",
      "[[[ 0.34286717]\n",
      "  [ 0.34286717]\n",
      "  [ 0.3428672 ]\n",
      "  [ 0.34286723]\n",
      "  [ 0.34286729]]]\n",
      "prediction :  [[ 0.34286729]]\n",
      "[[[ 0.34286717]\n",
      "  [ 0.3428672 ]\n",
      "  [ 0.34286723]\n",
      "  [ 0.34286729]\n",
      "  [ 0.34286729]]]\n",
      "prediction :  [[ 0.34286731]]\n",
      "[[[ 0.3428672 ]\n",
      "  [ 0.34286723]\n",
      "  [ 0.34286729]\n",
      "  [ 0.34286729]\n",
      "  [ 0.34286731]]]\n",
      "prediction :  [[ 0.34286729]]\n",
      "[[[ 0.34286723]\n",
      "  [ 0.34286729]\n",
      "  [ 0.34286729]\n",
      "  [ 0.34286731]\n",
      "  [ 0.34286729]]]\n",
      "prediction :  [[ 0.34286731]]\n",
      "[[[ 0.34286729]\n",
      "  [ 0.34286729]\n",
      "  [ 0.34286731]\n",
      "  [ 0.34286729]\n",
      "  [ 0.34286731]]]\n",
      "prediction :  [[ 0.34286731]]\n",
      "[[[ 0.34286729]\n",
      "  [ 0.34286731]\n",
      "  [ 0.34286729]\n",
      "  [ 0.34286731]\n",
      "  [ 0.34286731]]]\n",
      "prediction :  [[ 0.34286729]]\n",
      "[[[ 0.34286731]\n",
      "  [ 0.34286729]\n",
      "  [ 0.34286731]\n",
      "  [ 0.34286731]\n",
      "  [ 0.34286729]]]\n",
      "prediction :  [[ 0.34286731]]\n",
      "[[[ 0.34286729]\n",
      "  [ 0.34286731]\n",
      "  [ 0.34286731]\n",
      "  [ 0.34286729]\n",
      "  [ 0.34286731]]]\n",
      "prediction :  [[ 0.34286731]]\n",
      "[[[ 0.34286731]\n",
      "  [ 0.34286731]\n",
      "  [ 0.34286729]\n",
      "  [ 0.34286731]\n",
      "  [ 0.34286731]]]\n",
      "prediction :  [[ 0.34286729]]\n",
      "[[[ 0.34286731]\n",
      "  [ 0.34286729]\n",
      "  [ 0.34286731]\n",
      "  [ 0.34286731]\n",
      "  [ 0.34286729]]]\n",
      "prediction :  [[ 0.34286731]]\n",
      "[[[ 0.34286729]\n",
      "  [ 0.34286731]\n",
      "  [ 0.34286731]\n",
      "  [ 0.34286729]\n",
      "  [ 0.34286731]]]\n",
      "prediction :  [[ 0.34286731]]\n",
      "[[[ 0.34286731]\n",
      "  [ 0.34286731]\n",
      "  [ 0.34286729]\n",
      "  [ 0.34286731]\n",
      "  [ 0.34286731]]]\n",
      "prediction :  [[ 0.34286729]]\n",
      "[[[ 0.34286731]\n",
      "  [ 0.34286729]\n",
      "  [ 0.34286731]\n",
      "  [ 0.34286731]\n",
      "  [ 0.34286729]]]\n",
      "prediction :  [[ 0.34286731]]\n",
      "[[[ 0.34286729]\n",
      "  [ 0.34286731]\n",
      "  [ 0.34286731]\n",
      "  [ 0.34286729]\n",
      "  [ 0.34286731]]]\n",
      "prediction :  [[ 0.34286731]]\n",
      "[[[ 0.34286731]\n",
      "  [ 0.34286731]\n",
      "  [ 0.34286729]\n",
      "  [ 0.34286731]\n",
      "  [ 0.34286731]]]\n",
      "prediction :  [[ 0.34286729]]\n",
      "[[[ 0.34286731]\n",
      "  [ 0.34286729]\n",
      "  [ 0.34286731]\n",
      "  [ 0.34286731]\n",
      "  [ 0.34286729]]]\n",
      "prediction :  [[ 0.34286731]]\n",
      "[[[ 0.34286729]\n",
      "  [ 0.34286731]\n",
      "  [ 0.34286731]\n",
      "  [ 0.34286729]\n",
      "  [ 0.34286731]]]\n",
      "prediction :  [[ 0.34286731]]\n",
      "[[[ 0.34286731]\n",
      "  [ 0.34286731]\n",
      "  [ 0.34286729]\n",
      "  [ 0.34286731]\n",
      "  [ 0.34286731]]]\n",
      "prediction :  [[ 0.34286729]]\n",
      "[[[ 0.34286731]\n",
      "  [ 0.34286729]\n",
      "  [ 0.34286731]\n",
      "  [ 0.34286731]\n",
      "  [ 0.34286729]]]\n",
      "prediction :  [[ 0.34286731]]\n",
      "[[[ 0.34286729]\n",
      "  [ 0.34286731]\n",
      "  [ 0.34286731]\n",
      "  [ 0.34286729]\n",
      "  [ 0.34286731]]]\n",
      "prediction :  [[ 0.34286731]]\n",
      "[[[ 0.34286731]\n",
      "  [ 0.34286731]\n",
      "  [ 0.34286729]\n",
      "  [ 0.34286731]\n",
      "  [ 0.34286731]]]\n",
      "prediction :  [[ 0.34286729]]\n",
      "[[[ 0.34286731]\n",
      "  [ 0.34286729]\n",
      "  [ 0.34286731]\n",
      "  [ 0.34286731]\n",
      "  [ 0.34286729]]]\n",
      "prediction :  [[ 0.34286731]]\n",
      "[[[ 0.34286729]\n",
      "  [ 0.34286731]\n",
      "  [ 0.34286731]\n",
      "  [ 0.34286729]\n",
      "  [ 0.34286731]]]\n",
      "prediction :  [[ 0.34286731]]\n",
      "[[[ 0.34286731]\n",
      "  [ 0.34286731]\n",
      "  [ 0.34286729]\n",
      "  [ 0.34286731]\n",
      "  [ 0.34286731]]]\n",
      "prediction :  [[ 0.34286729]]\n",
      "[[[ 0.34286731]\n",
      "  [ 0.34286729]\n",
      "  [ 0.34286731]\n",
      "  [ 0.34286731]\n",
      "  [ 0.34286729]]]\n",
      "prediction :  [[ 0.34286731]]\n",
      "[[[ 0.34286729]\n",
      "  [ 0.34286731]\n",
      "  [ 0.34286731]\n",
      "  [ 0.34286729]\n",
      "  [ 0.34286731]]]\n",
      "prediction :  [[ 0.34286731]]\n",
      "[[[ 0.34286731]\n",
      "  [ 0.34286731]\n",
      "  [ 0.34286729]\n",
      "  [ 0.34286731]\n",
      "  [ 0.34286731]]]\n",
      "prediction :  [[ 0.34286729]]\n",
      "[[[ 0.34286731]\n",
      "  [ 0.34286729]\n",
      "  [ 0.34286731]\n",
      "  [ 0.34286731]\n",
      "  [ 0.34286729]]]\n",
      "prediction :  [[ 0.34286731]]\n",
      "[[[ 0.34286729]\n",
      "  [ 0.34286731]\n",
      "  [ 0.34286731]\n",
      "  [ 0.34286729]\n",
      "  [ 0.34286731]]]\n",
      "prediction :  [[ 0.34286731]]\n",
      "[[[ 0.34286731]\n",
      "  [ 0.34286731]\n",
      "  [ 0.34286729]\n",
      "  [ 0.34286731]\n",
      "  [ 0.34286731]]]\n",
      "prediction :  [[ 0.34286729]]\n",
      "[[[ 0.34286731]\n",
      "  [ 0.34286729]\n",
      "  [ 0.34286731]\n",
      "  [ 0.34286731]\n",
      "  [ 0.34286729]]]\n",
      "prediction :  [[ 0.34286731]]\n",
      "[[[ 0.34286729]\n",
      "  [ 0.34286731]\n",
      "  [ 0.34286731]\n",
      "  [ 0.34286729]\n",
      "  [ 0.34286731]]]\n",
      "prediction :  [[ 0.34286731]]\n",
      "[[[ 0.34286731]\n",
      "  [ 0.34286731]\n",
      "  [ 0.34286729]\n",
      "  [ 0.34286731]\n",
      "  [ 0.34286731]]]\n",
      "prediction :  [[ 0.34286729]]\n",
      "[[[ 0.34286731]\n",
      "  [ 0.34286729]\n",
      "  [ 0.34286731]\n",
      "  [ 0.34286731]\n",
      "  [ 0.34286729]]]\n",
      "prediction :  [[ 0.34286731]]\n",
      "[[[ 0.34286729]\n",
      "  [ 0.34286731]\n",
      "  [ 0.34286731]\n",
      "  [ 0.34286729]\n",
      "  [ 0.34286731]]]\n",
      "prediction :  [[ 0.34286731]]\n",
      "[[[ 0.34286731]\n",
      "  [ 0.34286731]\n",
      "  [ 0.34286729]\n",
      "  [ 0.34286731]\n",
      "  [ 0.34286731]]]\n",
      "prediction :  [[ 0.34286729]]\n",
      "[[[ 0.34286731]\n",
      "  [ 0.34286729]\n",
      "  [ 0.34286731]\n",
      "  [ 0.34286731]\n",
      "  [ 0.34286729]]]\n",
      "prediction :  [[ 0.34286731]]\n",
      "[[[ 0.34286729]\n",
      "  [ 0.34286731]\n",
      "  [ 0.34286731]\n",
      "  [ 0.34286729]\n",
      "  [ 0.34286731]]]\n",
      "prediction :  [[ 0.34286731]]\n",
      "[[[ 0.34286731]\n",
      "  [ 0.34286731]\n",
      "  [ 0.34286729]\n",
      "  [ 0.34286731]\n",
      "  [ 0.34286731]]]\n",
      "prediction :  [[ 0.34286729]]\n",
      "[[[ 0.34286731]\n",
      "  [ 0.34286729]\n",
      "  [ 0.34286731]\n",
      "  [ 0.34286731]\n",
      "  [ 0.34286729]]]\n",
      "prediction :  [[ 0.34286731]]\n"
     ]
    }
   ],
   "source": [
    "phis = s.get_phi(1).reshape(-1,1)\n",
    "#series = make_time_series(phis, depth=n+1)\n",
    "#y = series[:,n].reshape(-1,1)\n",
    "#x = series[:,0:n].reshape(-1,n)\n",
    "x, y = create_dataset(phis/np.pi, n)\n",
    "# reshape input to be [samples, time steps, features]\n",
    "xx = np.reshape(x[0], newshape=(-1, n, n_feat))\n",
    "\n",
    "#y_ex = np.ndarray(shape=(len(y), 1, n_feat))\n",
    "y_ex = np.zeros(len(y))\n",
    "\n",
    "for i in np.arange(0,len(y)):\n",
    "    print(xx)\n",
    "    #    new_y = np.reshape(model.predict(xx),newshape=(-1, 1, n_feat))\n",
    "    new_y = model.predict(xx)\n",
    "    print(\"prediction : \", new_y)\n",
    "    y_ex[i] = new_y\n",
    "    xx = np.concatenate((xx, np.reshape(new_y,newshape=(-1, 1, n_feat))), axis=1)\n",
    "    xx = xx[:,1:n+1]\n",
    "\n",
    "#for i in np.arange(1,len(y_true)):\n",
    "#    xx = np.zeros(n)\n",
    "#    if(i < n):\n",
    "#        x_old = x[i,i:n].reshape(-1,n-i)\n",
    "#        x_new = y_extr[0:i].reshape(-1,i)\n",
    "#        xx = np.append(x_new, x_old).reshape(-1,n)\n",
    "#    else:\n",
    "#        xx = y_extr[i-n:i].reshape(-1,n)\n",
    "#    y_extr[i] = model.predict(xx)"
   ]
  },
  {
   "cell_type": "code",
   "execution_count": 62,
   "metadata": {},
   "outputs": [
    {
     "data": {
      "image/png": "[encoded data removed]",
      "text/plain": [
       "<matplotlib.figure.Figure at 0x1206f6550>"
      ]
     },
     "metadata": {},
     "output_type": "display_data"
    }
   ],
   "source": [
    "y_pred = y_ex * np.pi\n",
    "y_true = y * np.pi\n",
    "ax = plt.gca()\n",
    "ax.cla() # clear things for fresh plot\n",
    "ax.cla()\n",
    "ax.set_xlim([0,n_sim])\n",
    "ax.set_ylim([-4.,4.])\n",
    "plt.xlabel('time')\n",
    "plt.ylabel('$\\phi$')\n",
    "plt.plot(t[:len(y_pred)], y_true, color='b')\n",
    "plt.plot(t[:len(y_pred)], y_pred, color='r', linestyle='dashed')\n",
    "plt.savefig(\"extrapolated_mars.png\")\n",
    "plt.show()"
   ]
  },
  {
   "cell_type": "markdown",
   "metadata": {},
   "source": [
    "obviously fails... yet..."
   ]
  },
  {
   "cell_type": "code",
   "execution_count": null,
   "metadata": {
    "collapsed": true
   },
   "outputs": [],
   "source": []
  },
  {
   "cell_type": "markdown",
   "metadata": {},
   "source": [
    "## Complex planetary system"
   ]
  },
  {
   "cell_type": "markdown",
   "metadata": {},
   "source": [
    "Now we move to the system Gnos, where the motion of the celestial bodies is more confusing and harder to figure out."
   ]
  },
  {
   "cell_type": "code",
   "execution_count": null,
   "metadata": {
    "collapsed": true
   },
   "outputs": [],
   "source": [
    "import numpy as np\n",
    "import pandas as pd\n",
    "\n",
    "import matplotlib.pyplot as plt\n",
    "from Visualisations import *\n",
    "\n",
    "from Transformations import *\n",
    "import Generate as gen"
   ]
  },
  {
   "cell_type": "code",
   "execution_count": null,
   "metadata": {
    "collapsed": true
   },
   "outputs": [],
   "source": [
    "n_sim = 20000\n",
    "n_view = 10\n",
    "s = gen.System()\n",
    "s.force = s.force_double_sun\n",
    "s.add_body(x=[90., 82.], v=[-0.02, +0.067], m=0.00001)\n",
    "s.add_body(x=[70., 123.], v=[-0.07, +0.07], m=0.00001)\n",
    "s.add_body(x=[144., 76.], v=[-0.075, +0.075], m=0.00001)\n",
    "s.add_body(x=[174., 176.], v=[-0.025, +0.035], m=0.00001)\n",
    "s.add_body(x=[0., 0.], v=[0., 0.], m=1.)\n",
    "s.simulate(n_sim)\n",
    "s.view(0, n_view)"
   ]
  },
  {
   "cell_type": "code",
   "execution_count": null,
   "metadata": {
    "collapsed": true
   },
   "outputs": [],
   "source": []
  },
  {
   "cell_type": "markdown",
   "metadata": {},
   "source": [
    "### Visualise the system"
   ]
  },
  {
   "cell_type": "code",
   "execution_count": null,
   "metadata": {
    "collapsed": true
   },
   "outputs": [],
   "source": [
    "ax = plt.gca()\n",
    "ax.cla() # clear things for fresh plot\n",
    "ax.cla()\n",
    "ax.set_xlim([-220,220])\n",
    "ax.set_ylim([-220,220])\n",
    "plt.axes().set_aspect('equal')\n",
    "plt.xlabel('x (mm)')\n",
    "plt.ylabel('y (mm)')\n",
    "\n",
    "# Plot only every 't_res'th point, up to t_max\n",
    "t_res = 20\n",
    "t_max = 1200\n",
    "plot_orbit(ax, s, 0, t_max)\n",
    "plot_orbit(ax, s, 1, t_max)\n",
    "plot_position(ax, s, 0, t_res, t_max)\n",
    "plot_position(ax, s, 1, t_res, t_max)\n",
    "#plot_observation(ax,s,0,-1,t_res)\n",
    "plot_observation(ax,s,1,0,t_res, t_max)\n",
    "plt.savefig(\"orbits_binary.png\")\n",
    "plt.show()"
   ]
  },
  {
   "cell_type": "code",
   "execution_count": null,
   "metadata": {
    "collapsed": true
   },
   "outputs": [],
   "source": [
    "ax = plt.gca()\n",
    "ax.cla() # clear things for fresh plot\n",
    "ax.cla()\n",
    "ax.set_xlim([0,n_sim])\n",
    "ax.set_ylim([-4.,4.])\n",
    "plt.xlabel('time')\n",
    "plt.ylabel('$\\phi$')\n",
    "\n",
    "\n",
    "phis = s.get_phi(1)\n",
    "t = np.arange(0, n_sim/n_view)*n_view\n",
    "\n",
    "plt.plot(t, phis)\n",
    "plt.savefig(\"mars_angle_binary.png\")\n",
    "plt.show()"
   ]
  },
  {
   "cell_type": "code",
   "execution_count": null,
   "metadata": {
    "collapsed": true
   },
   "outputs": [],
   "source": [
    "n = 20\n",
    "phis = s.get_phi(1)\n",
    "phis /= np.pi\n",
    "series = make_time_series(phis, depth=n+1)\n",
    "y = series[:,n].reshape(-1,1)\n",
    "x = series[:,0:n].reshape(-1,n)"
   ]
  },
  {
   "cell_type": "code",
   "execution_count": null,
   "metadata": {
    "collapsed": true
   },
   "outputs": [],
   "source": [
    "from keras.layers import Input, Dense\n",
    "from keras.models import Model\n",
    "\n",
    "inputs = Input(shape=(n,), dtype='float', name='main_input')\n",
    "layer = Dense(90, activation='relu', kernel_initializer='normal')(inputs)\n",
    "layer = Dense(90, activation='relu', kernel_initializer='normal')(layer)\n",
    "predictions = Dense(1, kernel_initializer='normal')(layer)\n",
    "model = Model(inputs=inputs, outputs=predictions)\n",
    "model.compile(optimizer='adam',\n",
    "              loss='mean_squared_error')\n",
    "\n",
    "model.fit(x, y)"
   ]
  },
  {
   "cell_type": "code",
   "execution_count": null,
   "metadata": {
    "collapsed": true
   },
   "outputs": [],
   "source": [
    "t_max = 10000\n",
    "phis = s.get_phi(1)/np.pi\n",
    "series = make_time_series(phis, depth=n+1)\n",
    "y = series[:t_max,n].reshape(-1,1)\n",
    "x = series[:t_max,0:n].reshape(-1,n)\n",
    "y_pred = model.predict(x) * np.pi\n",
    "y_true = y * np.pi\n",
    "ax = plt.gca()\n",
    "ax.cla() # clear things for fresh plot\n",
    "ax.cla()\n",
    "ax.set_xlim([0,t_max])\n",
    "ax.set_ylim([-4.,4.])\n",
    "plt.xlabel('time')\n",
    "plt.ylabel('$\\phi$')\n",
    "plt.plot(t[:len(y_pred)], y_true, color='b')\n",
    "plt.plot(t[:len(y_pred)], y_pred, color='r', linestyle='dashed')\n",
    "plt.savefig(\"prediction_mars_binary.png\")\n",
    "plt.show()"
   ]
  },
  {
   "cell_type": "code",
   "execution_count": null,
   "metadata": {
    "collapsed": true
   },
   "outputs": [],
   "source": [
    "phis = s.get_phi(3)/np.pi\n",
    "series = make_time_series(phis, depth=n+1)\n",
    "y = series[:,n].reshape(-1,1)\n",
    "x = series[:,0:n].reshape(-1,n)\n",
    "y_pred = model.predict(x)*np.pi\n",
    "y_true = y*np.pi\n",
    "ax = plt.gca()\n",
    "ax.cla() # clear things for fresh plot\n",
    "ax.cla()\n",
    "ax.set_xlim([0,t_max])\n",
    "ax.set_ylim([-4.,4.])\n",
    "plt.xlabel('time')\n",
    "plt.ylabel('$\\phi$')\n",
    "plt.plot(t[:len(y_pred)], y_true, color='b')\n",
    "plt.plot(t[:len(y_pred)], y_pred, color='r', linestyle='dashed')\n",
    "plt.savefig(\"prediction_uranus_binary.png\")\n",
    "plt.show()"
   ]
  },
  {
   "cell_type": "code",
   "execution_count": null,
   "metadata": {
    "collapsed": true
   },
   "outputs": [],
   "source": []
  },
  {
   "cell_type": "code",
   "execution_count": null,
   "metadata": {
    "collapsed": true
   },
   "outputs": [],
   "source": []
  },
  {
   "cell_type": "code",
   "execution_count": null,
   "metadata": {
    "collapsed": true
   },
   "outputs": [],
   "source": []
  },
  {
   "cell_type": "code",
   "execution_count": null,
   "metadata": {
    "collapsed": true
   },
   "outputs": [],
   "source": []
  },
  {
   "cell_type": "code",
   "execution_count": null,
   "metadata": {
    "collapsed": true
   },
   "outputs": [],
   "source": []
  },
  {
   "cell_type": "code",
   "execution_count": null,
   "metadata": {
    "collapsed": true
   },
   "outputs": [],
   "source": []
  },
  {
   "cell_type": "markdown",
   "metadata": {
    "collapsed": true
   },
   "source": [
    "# Pendulum system"
   ]
  },
  {
   "cell_type": "code",
   "execution_count": null,
   "metadata": {
    "collapsed": true
   },
   "outputs": [],
   "source": [
    "import numpy as np\n",
    "import pandas as pd\n",
    "\n",
    "import matplotlib.pyplot as plt\n",
    "from Visualisations import *\n",
    "\n",
    "from Transformations import *\n",
    "import Generate as gen\n",
    "\n",
    "n_sim = 50000\n",
    "n_view = 50\n",
    "s = gen.System()\n",
    "s.force = s.force_pendulum_spring\n",
    "s.g = 0.\n",
    "s.k = 0.02\n",
    "s.f = -0.0000001\n",
    "s.add_body(x=[0., 0.], v=[0., 0.], m=1000000., stretch=0.)\n",
    "s.add_body(x=[-0.1, -0.4], v=[0., -0.], m=20000., stretch=0.)\n",
    "s.add_body(x=[-0.1, -0.5], v=[0., -0.], m=10., stretch=0.)\n",
    "\n",
    "s.simulate(n_sim)\n",
    "s.view(1, n_view)\n",
    "\n",
    "ax = plt.gca()\n",
    "ax.cla() # clear things for fresh plot\n",
    "ax.cla()\n",
    "ax.set_xlim([-0.5,0.5])\n",
    "ax.set_ylim([-0.9,0.2])\n",
    "plt.axes().set_aspect('equal')\n",
    "plt.xlabel('x (mm)')\n",
    "plt.ylabel('y (mm)')\n",
    "\n",
    "# Plot only every 't_res'th point, up to t_max\n",
    "t_res = 1\n",
    "t_max = 100\n",
    "plot_orbit(ax, s, 0)\n",
    "plot_orbit(ax, s, 1)\n",
    "plot_orbit(ax, s, 2)\n",
    "\n",
    "plot_position(ax, s, 0, t_res, t_max)\n",
    "plot_position(ax, s, 1, t_res, t_max)\n",
    "plot_position(ax, s, 2, t_res, t_max)\n",
    "\n",
    "plot_observation(ax,s,2,1, t_res, t_max)\n",
    "\n",
    "plt.savefig(\"orbits_pendulum_double_dense.png\")\n",
    "plt.show()"
   ]
  },
  {
   "cell_type": "code",
   "execution_count": null,
   "metadata": {
    "collapsed": true
   },
   "outputs": [],
   "source": [
    "# Plot only every 't_res'th point, up to t_max\n",
    "t_res = 20\n",
    "t_max = n_sim\n",
    "\n",
    "ax = plt.gca()\n",
    "ax.cla() # clear things for fresh plot\n",
    "ax.cla()\n",
    "ax.set_xlim([-0.5,0.5])\n",
    "ax.set_ylim([-0.9,0.2])\n",
    "plt.axes().set_aspect('equal')\n",
    "plt.xlabel('x (mm)')\n",
    "plt.ylabel('y (mm)')\n",
    "\n",
    "plot_orbit(ax, s, 0, t_max)\n",
    "plot_orbit(ax, s, 1, t_max)\n",
    "plot_orbit(ax, s, 2, t_max)\n",
    "\n",
    "plot_position(ax, s, 0, t_res, t_max)\n",
    "plot_position(ax, s, 1, t_res, t_max)\n",
    "plot_position(ax, s, 2, t_res, t_max)\n",
    "\n",
    "plot_observation(ax,s,2,1, t_res, t_max)\n",
    "plt.savefig(\"orbits_pendulum_double_rare.png\")\n",
    "plt.show()\n"
   ]
  },
  {
   "cell_type": "code",
   "execution_count": null,
   "metadata": {
    "collapsed": true
   },
   "outputs": [],
   "source": [
    "ax = plt.gca()\n",
    "ax.cla() # clear things for fresh plot\n",
    "ax.cla()\n",
    "ax.set_xlim([0,n_sim])\n",
    "ax.set_ylim([-4.,4.])\n",
    "plt.xlabel('time')\n",
    "plt.ylabel('$\\phi$')\n",
    "\n",
    "phis = s.get_phi(2)\n",
    "t = np.arange(0, n_sim/n_view)*n_view\n",
    "\n",
    "plt.plot(t, phis)\n",
    "plt.savefig(\"mars_angle_pendulum_double.png\")\n",
    "plt.show()"
   ]
  },
  {
   "cell_type": "code",
   "execution_count": null,
   "metadata": {
    "collapsed": true
   },
   "outputs": [],
   "source": []
  },
  {
   "cell_type": "code",
   "execution_count": null,
   "metadata": {
    "collapsed": true
   },
   "outputs": [],
   "source": []
  },
  {
   "cell_type": "code",
   "execution_count": null,
   "metadata": {
    "collapsed": true
   },
   "outputs": [],
   "source": []
  },
  {
   "cell_type": "code",
   "execution_count": null,
   "metadata": {
    "collapsed": true
   },
   "outputs": [],
   "source": [
    "import numpy as np\n",
    "import pandas as pd\n",
    "\n",
    "import matplotlib.pyplot as plt\n",
    "from Visualisations import *\n",
    "\n",
    "from Transformations import *\n",
    "import Generate as gen\n",
    "\n",
    "n_sim = 10000\n",
    "n_view = 100\n",
    "s = gen.System()\n",
    "s.force = s.force_pendulum_spring\n",
    "s.g = 0.\n",
    "s.k = 0.02\n",
    "s.f = -0.0000001\n",
    "s.add_body(x=[0., 0.], v=[0., 0.], m=100000., stretch=0.)\n",
    "s.add_body(x=[-0.1, -0.2], v=[0., -0.], m=2000., stretch=0.)\n",
    "s.add_body(x=[0., -0.5], v=[0., -0.], m=10., stretch=0.)\n",
    "s.add_body(x=[0.1, -0.6], v=[0., -0.], m=0.01, stretch=0.)\n",
    "\n",
    "s.simulate(n_sim)\n",
    "s.view(1, n_view)\n",
    "\n",
    "ax = plt.gca()\n",
    "ax.cla() # clear things for fresh plot\n",
    "ax.cla()\n",
    "ax.set_xlim([-0.5,0.5])\n",
    "ax.set_ylim([-0.9,0.2])\n",
    "plt.axes().set_aspect('equal')\n",
    "plt.xlabel('x (mm)')\n",
    "plt.ylabel('y (mm)')\n",
    "\n",
    "# Plot only every 't_res'th point, up to t_max\n",
    "t_res = 1\n",
    "t_max = 100\n",
    "plot_orbit(ax, s, 0)\n",
    "plot_orbit(ax, s, 1)\n",
    "plot_orbit(ax, s, 2)\n",
    "plot_orbit(ax, s, 3)\n",
    "\n",
    "plot_position(ax, s, 0, t_res, t_max)\n",
    "plot_position(ax, s, 1, t_res, t_max)\n",
    "plot_position(ax, s, 2, t_res, t_max)\n",
    "plot_position(ax, s, 3, t_res, t_max)\n",
    "\n",
    "plot_observation(ax,s,1,0, t_res, t_max)\n",
    "plot_observation(ax,s,2,1, t_res, t_max)\n",
    "plot_observation(ax,s,3,2, t_res, t_max)\n",
    "\n",
    "plt.savefig(\"orbits_pendulum.png\")\n",
    "plt.show()"
   ]
  },
  {
   "cell_type": "code",
   "execution_count": null,
   "metadata": {
    "collapsed": true
   },
   "outputs": [],
   "source": [
    "# Plot only every 't_res'th point, up to t_max\n",
    "t_res = 20\n",
    "t_max = 500\n",
    "\n",
    "ax = plt.gca()\n",
    "ax.cla() # clear things for fresh plot\n",
    "ax.cla()\n",
    "ax.set_xlim([-0.5,0.5])\n",
    "ax.set_ylim([-0.9,0.2])\n",
    "plt.axes().set_aspect('equal')\n",
    "plt.xlabel('x (mm)')\n",
    "plt.ylabel('y (mm)')\n",
    "\n",
    "plot_orbit(ax, s, 0, t_max)\n",
    "plot_orbit(ax, s, 1, t_max)\n",
    "plot_orbit(ax, s, 2, t_max)\n",
    "plot_orbit(ax, s, 3, t_max)\n",
    "\n",
    "plot_position(ax, s, 0, t_res, t_max)\n",
    "plot_position(ax, s, 1, t_res, t_max)\n",
    "plot_position(ax, s, 2, t_res, t_max)\n",
    "plot_position(ax, s, 3, t_res, t_max)\n",
    "\n",
    "plot_observation(ax,s,1,0, t_res, t_max)\n",
    "plot_observation(ax,s,2,1, t_res, t_max)\n",
    "plot_observation(ax,s,3,2, t_res, t_max)\n",
    "\n"
   ]
  },
  {
   "cell_type": "code",
   "execution_count": null,
   "metadata": {
    "collapsed": true
   },
   "outputs": [],
   "source": []
  },
  {
   "cell_type": "code",
   "execution_count": null,
   "metadata": {
    "collapsed": true
   },
   "outputs": [],
   "source": []
  },
  {
   "cell_type": "code",
   "execution_count": null,
   "metadata": {
    "collapsed": true
   },
   "outputs": [],
   "source": [
    "ax = plt.gca()\n",
    "ax.cla() # clear things for fresh plot\n",
    "ax.cla()\n",
    "ax.set_xlim([0,n_sim])\n",
    "ax.set_ylim([-4.,4.])\n",
    "plt.xlabel('time')\n",
    "plt.ylabel('$\\phi$')\n",
    "\n",
    "\n",
    "phis = s.get_phi(2)\n",
    "t = np.arange(0, n_sim/n_view)*n_view\n",
    "\n",
    "plt.plot(t, phis)\n",
    "plt.savefig(\"mars_angle_pendulum.png\")\n",
    "plt.show()"
   ]
  },
  {
   "cell_type": "code",
   "execution_count": null,
   "metadata": {
    "collapsed": true
   },
   "outputs": [],
   "source": [
    "n = 20\n",
    "phis = s.get_phi(1)\n",
    "phis /= np.pi\n",
    "series = make_time_series(phis, depth=n+1)\n",
    "y = series[:,n].reshape(-1,1)\n",
    "x = series[:,0:n].reshape(-1,n)"
   ]
  },
  {
   "cell_type": "code",
   "execution_count": null,
   "metadata": {
    "collapsed": true
   },
   "outputs": [],
   "source": [
    "from keras.layers import Input, Dense\n",
    "from keras.models import Model\n",
    "\n",
    "inputs = Input(shape=(n,), dtype='float', name='main_input')\n",
    "layer = Dense(90, activation='relu', kernel_initializer='normal')(inputs)\n",
    "layer = Dense(90, activation='relu', kernel_initializer='normal')(layer)\n",
    "predictions = Dense(1, kernel_initializer='normal')(layer)\n",
    "model = Model(inputs=inputs, outputs=predictions)\n",
    "model.compile(optimizer='adam',\n",
    "              loss='mean_squared_error')\n",
    "\n",
    "model.fit(x, y)"
   ]
  },
  {
   "cell_type": "code",
   "execution_count": null,
   "metadata": {
    "collapsed": true
   },
   "outputs": [],
   "source": [
    "t_max = 10000\n",
    "phis = s.get_phi(1)/np.pi\n",
    "series = make_time_series(phis, depth=n+1)\n",
    "y = series[:t_max,n].reshape(-1,1)\n",
    "x = series[:t_max,0:n].reshape(-1,n)\n",
    "y_pred = model.predict(x) * np.pi\n",
    "y_true = y * np.pi\n",
    "ax = plt.gca()\n",
    "ax.cla() # clear things for fresh plot\n",
    "ax.cla()\n",
    "ax.set_xlim([0,t_max])\n",
    "ax.set_ylim([-4.,4.])\n",
    "plt.xlabel('time')\n",
    "plt.ylabel('$\\phi$')\n",
    "plt.plot(t[:len(y_pred)], y_true, color='b')\n",
    "plt.plot(t[:len(y_pred)], y_pred, color='r', linestyle='dashed')\n",
    "plt.savefig(\"prediction_mars_pendulum.png\")\n",
    "plt.show()"
   ]
  },
  {
   "cell_type": "code",
   "execution_count": null,
   "metadata": {
    "collapsed": true
   },
   "outputs": [],
   "source": [
    "phis = s.get_phi(3)/np.pi\n",
    "series = make_time_series(phis, depth=n+1)\n",
    "y = series[:,n].reshape(-1,1)\n",
    "x = series[:,0:n].reshape(-1,n)\n",
    "y_pred = model.predict(x)*np.pi\n",
    "y_true = y*np.pi\n",
    "ax = plt.gca()\n",
    "ax.cla() # clear things for fresh plot\n",
    "ax.cla()\n",
    "ax.set_xlim([0,t_max])\n",
    "ax.set_ylim([-4.,4.])\n",
    "plt.xlabel('time')\n",
    "plt.ylabel('$\\phi$')\n",
    "plt.plot(t[:len(y_pred)], y_true, color='b')\n",
    "plt.plot(t[:len(y_pred)], y_pred, color='r', linestyle='dashed')\n",
    "plt.savefig(\"prediction_uranus_pendulum.png\")\n",
    "plt.show()"
   ]
  },
  {
   "cell_type": "code",
   "execution_count": null,
   "metadata": {
    "collapsed": true
   },
   "outputs": [],
   "source": []
  },
  {
   "cell_type": "code",
   "execution_count": null,
   "metadata": {
    "collapsed": true
   },
   "outputs": [],
   "source": []
  },
  {
   "cell_type": "code",
   "execution_count": null,
   "metadata": {
    "collapsed": true
   },
   "outputs": [],
   "source": []
  },
  {
   "cell_type": "code",
   "execution_count": null,
   "metadata": {
    "collapsed": true
   },
   "outputs": [],
   "source": []
  },
  {
   "cell_type": "code",
   "execution_count": null,
   "metadata": {
    "collapsed": true
   },
   "outputs": [],
   "source": []
  },
  {
   "cell_type": "code",
   "execution_count": null,
   "metadata": {
    "collapsed": true
   },
   "outputs": [],
   "source": []
  },
  {
   "cell_type": "code",
   "execution_count": null,
   "metadata": {
    "collapsed": true
   },
   "outputs": [],
   "source": []
  },
  {
   "cell_type": "code",
   "execution_count": null,
   "metadata": {
    "collapsed": true
   },
   "outputs": [],
   "source": []
  },
  {
   "cell_type": "code",
   "execution_count": null,
   "metadata": {
    "collapsed": true
   },
   "outputs": [],
   "source": []
  },
  {
   "cell_type": "code",
   "execution_count": null,
   "metadata": {
    "collapsed": true
   },
   "outputs": [],
   "source": []
  }
 ],
 "metadata": {
  "kernelspec": {
   "display_name": "Python 3",
   "language": "python",
   "name": "python3"
  },
  "language_info": {
   "codemirror_mode": {
    "name": "ipython",
    "version": 3
   },
   "file_extension": ".py",
   "mimetype": "text/x-python",
   "name": "python",
   "nbconvert_exporter": "python",
   "pygments_lexer": "ipython3",
   "version": "3.6.1"
  }
 },
 "nbformat": 4,
 "nbformat_minor": 2
}
